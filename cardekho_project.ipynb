{
 "cells": [
  {
   "cell_type": "code",
   "execution_count": 1,
   "id": "966e5bbd",
   "metadata": {},
   "outputs": [],
   "source": [
    "import pandas as pd\n",
    "import numpy as np\n",
    "\n",
    "from sklearn.model_selection import train_test_split, GridSearchCV\n",
    "from sklearn.neighbors import KNeighborsRegressor\n",
    "from sklearn.linear_model import LinearRegression, Ridge, Lasso\n",
    "from sklearn.metrics import mean_absolute_error, mean_squared_error, r2_score\n",
    "from sklearn.preprocessing import MinMaxScaler, StandardScaler\n",
    "from sklearn.impute import KNNImputer\n",
    "from scipy.stats import boxcox, shapiro, kstest, normaltest, skew\n",
    "\n",
    "import matplotlib.pyplot as plt\n",
    "import seaborn as sns\n",
    "\n",
    "import warnings\n",
    "warnings.filterwarnings('ignore')"
   ]
  },
  {
   "cell_type": "markdown",
   "id": "a4d2dccf",
   "metadata": {},
   "source": [
    "# 1) Problem statement ========================================="
   ]
  },
  {
   "cell_type": "code",
   "execution_count": null,
   "id": "e383b961",
   "metadata": {},
   "outputs": [],
   "source": [
    "['full_name', 'brand_name', 'model', 'min_price', 'max_price', 'selling_price', 'year', 'seller_type',\n",
    " 'km_driven', 'owner_type', 'fuel_type', 'transmission_type', 'mileage', 'engine', 'max_power','seats']\n",
    "\n",
    "To predict the price of cars by their specification and km driven"
   ]
  },
  {
   "cell_type": "markdown",
   "id": "95d590c1",
   "metadata": {},
   "source": [
    "# 2)  Data Gathering =============================================="
   ]
  },
  {
   "cell_type": "code",
   "execution_count": 2,
   "id": "00195d41",
   "metadata": {},
   "outputs": [
    {
     "data": {
      "text/html": [
       "<div>\n",
       "<style scoped>\n",
       "    .dataframe tbody tr th:only-of-type {\n",
       "        vertical-align: middle;\n",
       "    }\n",
       "\n",
       "    .dataframe tbody tr th {\n",
       "        vertical-align: top;\n",
       "    }\n",
       "\n",
       "    .dataframe thead th {\n",
       "        text-align: right;\n",
       "    }\n",
       "</style>\n",
       "<table border=\"1\" class=\"dataframe\">\n",
       "  <thead>\n",
       "    <tr style=\"text-align: right;\">\n",
       "      <th></th>\n",
       "      <th>full_name</th>\n",
       "      <th>brand_name</th>\n",
       "      <th>model</th>\n",
       "      <th>min_price</th>\n",
       "      <th>max_price</th>\n",
       "      <th>selling_price</th>\n",
       "      <th>year</th>\n",
       "      <th>seller_type</th>\n",
       "      <th>km_driven</th>\n",
       "      <th>owner_type</th>\n",
       "      <th>fuel_type</th>\n",
       "      <th>transmission_type</th>\n",
       "      <th>mileage</th>\n",
       "      <th>engine</th>\n",
       "      <th>max_power</th>\n",
       "      <th>seats</th>\n",
       "    </tr>\n",
       "  </thead>\n",
       "  <tbody>\n",
       "    <tr>\n",
       "      <th>0</th>\n",
       "      <td>Maruti Alto Std</td>\n",
       "      <td>Maruti</td>\n",
       "      <td>Alto Std</td>\n",
       "      <td>NaN</td>\n",
       "      <td>NaN</td>\n",
       "      <td>120000</td>\n",
       "      <td>2012</td>\n",
       "      <td>2</td>\n",
       "      <td>120000</td>\n",
       "      <td>1</td>\n",
       "      <td>2</td>\n",
       "      <td>0</td>\n",
       "      <td>19.70</td>\n",
       "      <td>796</td>\n",
       "      <td>46.30</td>\n",
       "      <td>5</td>\n",
       "    </tr>\n",
       "    <tr>\n",
       "      <th>1</th>\n",
       "      <td>Hyundai Grand i10</td>\n",
       "      <td>Hyundai</td>\n",
       "      <td>Grand i10</td>\n",
       "      <td>711000.0</td>\n",
       "      <td>748000.0</td>\n",
       "      <td>550000</td>\n",
       "      <td>2016</td>\n",
       "      <td>2</td>\n",
       "      <td>20000</td>\n",
       "      <td>1</td>\n",
       "      <td>2</td>\n",
       "      <td>0</td>\n",
       "      <td>18.90</td>\n",
       "      <td>1197</td>\n",
       "      <td>82.00</td>\n",
       "      <td>5</td>\n",
       "    </tr>\n",
       "    <tr>\n",
       "      <th>2</th>\n",
       "      <td>Hyundai i20 Asta</td>\n",
       "      <td>Hyundai</td>\n",
       "      <td>i20 Asta</td>\n",
       "      <td>NaN</td>\n",
       "      <td>NaN</td>\n",
       "      <td>215000</td>\n",
       "      <td>2010</td>\n",
       "      <td>2</td>\n",
       "      <td>60000</td>\n",
       "      <td>1</td>\n",
       "      <td>2</td>\n",
       "      <td>0</td>\n",
       "      <td>17.00</td>\n",
       "      <td>1197</td>\n",
       "      <td>80.00</td>\n",
       "      <td>5</td>\n",
       "    </tr>\n",
       "    <tr>\n",
       "      <th>3</th>\n",
       "      <td>Maruti Alto K10</td>\n",
       "      <td>Maruti</td>\n",
       "      <td>Alto K10</td>\n",
       "      <td>NaN</td>\n",
       "      <td>NaN</td>\n",
       "      <td>226000</td>\n",
       "      <td>2012</td>\n",
       "      <td>2</td>\n",
       "      <td>37000</td>\n",
       "      <td>1</td>\n",
       "      <td>2</td>\n",
       "      <td>0</td>\n",
       "      <td>20.92</td>\n",
       "      <td>998</td>\n",
       "      <td>67.10</td>\n",
       "      <td>5</td>\n",
       "    </tr>\n",
       "    <tr>\n",
       "      <th>4</th>\n",
       "      <td>Ford Ecosport 2015-2021</td>\n",
       "      <td>Ford</td>\n",
       "      <td>Ecosport 2015-2021</td>\n",
       "      <td>1014000.0</td>\n",
       "      <td>1379000.0</td>\n",
       "      <td>570000</td>\n",
       "      <td>2015</td>\n",
       "      <td>1</td>\n",
       "      <td>30000</td>\n",
       "      <td>1</td>\n",
       "      <td>1</td>\n",
       "      <td>0</td>\n",
       "      <td>22.77</td>\n",
       "      <td>1498</td>\n",
       "      <td>98.59</td>\n",
       "      <td>5</td>\n",
       "    </tr>\n",
       "    <tr>\n",
       "      <th>...</th>\n",
       "      <td>...</td>\n",
       "      <td>...</td>\n",
       "      <td>...</td>\n",
       "      <td>...</td>\n",
       "      <td>...</td>\n",
       "      <td>...</td>\n",
       "      <td>...</td>\n",
       "      <td>...</td>\n",
       "      <td>...</td>\n",
       "      <td>...</td>\n",
       "      <td>...</td>\n",
       "      <td>...</td>\n",
       "      <td>...</td>\n",
       "      <td>...</td>\n",
       "      <td>...</td>\n",
       "      <td>...</td>\n",
       "    </tr>\n",
       "    <tr>\n",
       "      <th>20021</th>\n",
       "      <td>Toyota Platinum Etios</td>\n",
       "      <td>Toyota</td>\n",
       "      <td>Platinum Etios</td>\n",
       "      <td>NaN</td>\n",
       "      <td>NaN</td>\n",
       "      <td>650000</td>\n",
       "      <td>2017</td>\n",
       "      <td>1</td>\n",
       "      <td>69480</td>\n",
       "      <td>1</td>\n",
       "      <td>1</td>\n",
       "      <td>0</td>\n",
       "      <td>23.59</td>\n",
       "      <td>1364</td>\n",
       "      <td>67.05</td>\n",
       "      <td>5</td>\n",
       "    </tr>\n",
       "    <tr>\n",
       "      <th>20022</th>\n",
       "      <td>Maruti Ertiga BSIV</td>\n",
       "      <td>Maruti</td>\n",
       "      <td>Ertiga BSIV</td>\n",
       "      <td>NaN</td>\n",
       "      <td>NaN</td>\n",
       "      <td>925000</td>\n",
       "      <td>2019</td>\n",
       "      <td>1</td>\n",
       "      <td>18000</td>\n",
       "      <td>1</td>\n",
       "      <td>2</td>\n",
       "      <td>0</td>\n",
       "      <td>17.50</td>\n",
       "      <td>1373</td>\n",
       "      <td>91.10</td>\n",
       "      <td>7</td>\n",
       "    </tr>\n",
       "    <tr>\n",
       "      <th>20023</th>\n",
       "      <td>Skoda Rapid 1.5</td>\n",
       "      <td>Skoda</td>\n",
       "      <td>Rapid 1.5</td>\n",
       "      <td>NaN</td>\n",
       "      <td>NaN</td>\n",
       "      <td>425000</td>\n",
       "      <td>2015</td>\n",
       "      <td>1</td>\n",
       "      <td>67000</td>\n",
       "      <td>1</td>\n",
       "      <td>1</td>\n",
       "      <td>0</td>\n",
       "      <td>21.14</td>\n",
       "      <td>1498</td>\n",
       "      <td>103.52</td>\n",
       "      <td>5</td>\n",
       "    </tr>\n",
       "    <tr>\n",
       "      <th>20024</th>\n",
       "      <td>Mahindra XUV500 W6</td>\n",
       "      <td>Mahindra</td>\n",
       "      <td>XUV500 W6</td>\n",
       "      <td>1783000.0</td>\n",
       "      <td>2491000.0</td>\n",
       "      <td>1225000</td>\n",
       "      <td>2016</td>\n",
       "      <td>1</td>\n",
       "      <td>3800000</td>\n",
       "      <td>1</td>\n",
       "      <td>1</td>\n",
       "      <td>0</td>\n",
       "      <td>16.00</td>\n",
       "      <td>2179</td>\n",
       "      <td>140.00</td>\n",
       "      <td>7</td>\n",
       "    </tr>\n",
       "    <tr>\n",
       "      <th>20025</th>\n",
       "      <td>Honda City i-VTEC</td>\n",
       "      <td>Honda</td>\n",
       "      <td>City i-VTEC</td>\n",
       "      <td>NaN</td>\n",
       "      <td>NaN</td>\n",
       "      <td>1200000</td>\n",
       "      <td>2019</td>\n",
       "      <td>1</td>\n",
       "      <td>13000</td>\n",
       "      <td>1</td>\n",
       "      <td>2</td>\n",
       "      <td>1</td>\n",
       "      <td>18.00</td>\n",
       "      <td>1497</td>\n",
       "      <td>117.60</td>\n",
       "      <td>5</td>\n",
       "    </tr>\n",
       "  </tbody>\n",
       "</table>\n",
       "<p>20026 rows × 16 columns</p>\n",
       "</div>"
      ],
      "text/plain": [
       "                     full_name brand_name               model  min_price  \\\n",
       "0              Maruti Alto Std     Maruti            Alto Std        NaN   \n",
       "1            Hyundai Grand i10    Hyundai           Grand i10   711000.0   \n",
       "2             Hyundai i20 Asta    Hyundai            i20 Asta        NaN   \n",
       "3              Maruti Alto K10     Maruti            Alto K10        NaN   \n",
       "4      Ford Ecosport 2015-2021       Ford  Ecosport 2015-2021  1014000.0   \n",
       "...                        ...        ...                 ...        ...   \n",
       "20021    Toyota Platinum Etios     Toyota      Platinum Etios        NaN   \n",
       "20022       Maruti Ertiga BSIV     Maruti         Ertiga BSIV        NaN   \n",
       "20023          Skoda Rapid 1.5      Skoda           Rapid 1.5        NaN   \n",
       "20024       Mahindra XUV500 W6   Mahindra           XUV500 W6  1783000.0   \n",
       "20025        Honda City i-VTEC      Honda         City i-VTEC        NaN   \n",
       "\n",
       "       max_price  selling_price  year  seller_type  km_driven  owner_type  \\\n",
       "0            NaN         120000  2012            2     120000           1   \n",
       "1       748000.0         550000  2016            2      20000           1   \n",
       "2            NaN         215000  2010            2      60000           1   \n",
       "3            NaN         226000  2012            2      37000           1   \n",
       "4      1379000.0         570000  2015            1      30000           1   \n",
       "...          ...            ...   ...          ...        ...         ...   \n",
       "20021        NaN         650000  2017            1      69480           1   \n",
       "20022        NaN         925000  2019            1      18000           1   \n",
       "20023        NaN         425000  2015            1      67000           1   \n",
       "20024  2491000.0        1225000  2016            1    3800000           1   \n",
       "20025        NaN        1200000  2019            1      13000           1   \n",
       "\n",
       "       fuel_type  transmission_type  mileage  engine  max_power  seats  \n",
       "0              2                  0    19.70     796      46.30      5  \n",
       "1              2                  0    18.90    1197      82.00      5  \n",
       "2              2                  0    17.00    1197      80.00      5  \n",
       "3              2                  0    20.92     998      67.10      5  \n",
       "4              1                  0    22.77    1498      98.59      5  \n",
       "...          ...                ...      ...     ...        ...    ...  \n",
       "20021          1                  0    23.59    1364      67.05      5  \n",
       "20022          2                  0    17.50    1373      91.10      7  \n",
       "20023          1                  0    21.14    1498     103.52      5  \n",
       "20024          1                  0    16.00    2179     140.00      7  \n",
       "20025          2                  1    18.00    1497     117.60      5  \n",
       "\n",
       "[20026 rows x 16 columns]"
      ]
     },
     "execution_count": 2,
     "metadata": {},
     "output_type": "execute_result"
    }
   ],
   "source": [
    "df = pd.read_csv(\"Cleaned_cardekho_data.csv\")\n",
    "df"
   ]
  },
  {
   "cell_type": "code",
   "execution_count": 3,
   "id": "017a5d19",
   "metadata": {},
   "outputs": [
    {
     "name": "stdout",
     "output_type": "stream",
     "text": [
      "<class 'pandas.core.frame.DataFrame'>\n",
      "RangeIndex: 20026 entries, 0 to 20025\n",
      "Data columns (total 16 columns):\n",
      " #   Column             Non-Null Count  Dtype  \n",
      "---  ------             --------------  -----  \n",
      " 0   full_name          20026 non-null  object \n",
      " 1   brand_name         20026 non-null  object \n",
      " 2   model              20026 non-null  object \n",
      " 3   min_price          9566 non-null   float64\n",
      " 4   max_price          9566 non-null   float64\n",
      " 5   selling_price      20026 non-null  int64  \n",
      " 6   year               20026 non-null  int64  \n",
      " 7   seller_type        20026 non-null  int64  \n",
      " 8   km_driven          20026 non-null  int64  \n",
      " 9   owner_type         20026 non-null  int64  \n",
      " 10  fuel_type          20026 non-null  int64  \n",
      " 11  transmission_type  20026 non-null  int64  \n",
      " 12  mileage            20026 non-null  float64\n",
      " 13  engine             20026 non-null  int64  \n",
      " 14  max_power          20026 non-null  float64\n",
      " 15  seats              20026 non-null  int64  \n",
      "dtypes: float64(4), int64(9), object(3)\n",
      "memory usage: 2.4+ MB\n"
     ]
    }
   ],
   "source": [
    "df.info()"
   ]
  },
  {
   "cell_type": "markdown",
   "id": "9905ba33",
   "metadata": {},
   "source": [
    "# 3) EDA ====================================================="
   ]
  },
  {
   "cell_type": "markdown",
   "id": "d935e6d2",
   "metadata": {},
   "source": [
    "#### 1) full_name"
   ]
  },
  {
   "cell_type": "code",
   "execution_count": 4,
   "id": "62ec523b",
   "metadata": {},
   "outputs": [
    {
     "data": {
      "text/plain": [
       "0"
      ]
     },
     "execution_count": 4,
     "metadata": {},
     "output_type": "execute_result"
    }
   ],
   "source": [
    "df['full_name'].isna().sum()"
   ]
  },
  {
   "cell_type": "markdown",
   "id": "5b474673",
   "metadata": {},
   "source": [
    "#### 2) brand_name"
   ]
  },
  {
   "cell_type": "code",
   "execution_count": 5,
   "id": "3de8ec75",
   "metadata": {},
   "outputs": [
    {
     "data": {
      "text/plain": [
       "0"
      ]
     },
     "execution_count": 5,
     "metadata": {},
     "output_type": "execute_result"
    }
   ],
   "source": [
    "df['brand_name'].isna().sum()"
   ]
  },
  {
   "cell_type": "markdown",
   "id": "ca8244bc",
   "metadata": {},
   "source": [
    "#### 3) model"
   ]
  },
  {
   "cell_type": "code",
   "execution_count": 6,
   "id": "74fd536a",
   "metadata": {},
   "outputs": [
    {
     "data": {
      "text/plain": [
       "0"
      ]
     },
     "execution_count": 6,
     "metadata": {},
     "output_type": "execute_result"
    }
   ],
   "source": [
    "df['model'].isna().sum()"
   ]
  },
  {
   "cell_type": "markdown",
   "id": "5dd88f63",
   "metadata": {},
   "source": [
    "#### 4) min_price"
   ]
  },
  {
   "cell_type": "code",
   "execution_count": 7,
   "id": "fd6b8cb1",
   "metadata": {},
   "outputs": [
    {
     "data": {
      "text/plain": [
       "52.23209827224608"
      ]
     },
     "execution_count": 7,
     "metadata": {},
     "output_type": "execute_result"
    }
   ],
   "source": [
    "df['min_price'].isna().mean() * 100"
   ]
  },
  {
   "cell_type": "markdown",
   "id": "a80b8def",
   "metadata": {},
   "source": [
    "#### 5) max_price"
   ]
  },
  {
   "cell_type": "code",
   "execution_count": 8,
   "id": "1189820c",
   "metadata": {},
   "outputs": [
    {
     "data": {
      "text/plain": [
       "52.23209827224608"
      ]
     },
     "execution_count": 8,
     "metadata": {},
     "output_type": "execute_result"
    }
   ],
   "source": [
    "df['max_price'].isna().mean() * 100"
   ]
  },
  {
   "cell_type": "markdown",
   "id": "5fd72af0",
   "metadata": {},
   "source": [
    "#### 6) selling_price"
   ]
  },
  {
   "cell_type": "code",
   "execution_count": 9,
   "id": "9bdf00d7",
   "metadata": {},
   "outputs": [
    {
     "data": {
      "text/plain": [
       "0"
      ]
     },
     "execution_count": 9,
     "metadata": {},
     "output_type": "execute_result"
    }
   ],
   "source": [
    "df['selling_price'].isna().sum()"
   ]
  },
  {
   "cell_type": "code",
   "execution_count": 10,
   "id": "ad96ee3a",
   "metadata": {},
   "outputs": [
    {
     "data": {
      "text/plain": [
       "<AxesSubplot: xlabel='selling_price', ylabel='Density'>"
      ]
     },
     "execution_count": 10,
     "metadata": {},
     "output_type": "execute_result"
    },
    {
     "data": {
      "image/png": "[encoded data removed]",
      "text/plain": [
       "<Figure size 1000x300 with 1 Axes>"
      ]
     },
     "metadata": {},
     "output_type": "display_data"
    }
   ],
   "source": [
    "plt.figure(figsize = (10, 3))\n",
    "sns.kdeplot(df['selling_price'])"
   ]
  },
  {
   "cell_type": "code",
   "execution_count": 11,
   "id": "c0f995a0",
   "metadata": {},
   "outputs": [
    {
     "data": {
      "text/plain": [
       "<AxesSubplot: xlabel='selling_price'>"
      ]
     },
     "execution_count": 11,
     "metadata": {},
     "output_type": "execute_result"
    },
    {
     "data": {
      "image/png": "[encoded data removed]",
      "text/plain": [
       "<Figure size 1000x300 with 1 Axes>"
      ]
     },
     "metadata": {},
     "output_type": "display_data"
    }
   ],
   "source": [
    "plt.figure(figsize = (10, 3))\n",
    "sns.boxplot(x= df['selling_price'])"
   ]
  },
  {
   "cell_type": "code",
   "execution_count": 12,
   "id": "ee3694ed",
   "metadata": {
    "scrolled": false
   },
   "outputs": [
    {
     "data": {
      "text/plain": [
       "<AxesSubplot: xlabel='selling_price', ylabel='Density'>"
      ]
     },
     "execution_count": 12,
     "metadata": {},
     "output_type": "execute_result"
    },
    {
     "data": {
      "image/png": "[encoded data removed]",
      "text/plain": [
       "<Figure size 800x300 with 1 Axes>"
      ]
     },
     "metadata": {},
     "output_type": "display_data"
    }
   ],
   "source": [
    "plt.figure(figsize = (8, 3))\n",
    "sns.kdeplot(np.log(df['selling_price']))"
   ]
  },
  {
   "cell_type": "code",
   "execution_count": 13,
   "id": "627f4637",
   "metadata": {},
   "outputs": [
    {
     "data": {
      "text/plain": [
       "0.3829146263576794"
      ]
     },
     "execution_count": 13,
     "metadata": {},
     "output_type": "execute_result"
    }
   ],
   "source": [
    "skew(np.log(df['selling_price']))"
   ]
  },
  {
   "cell_type": "code",
   "execution_count": 14,
   "id": "2f92ce51",
   "metadata": {
    "scrolled": true
   },
   "outputs": [
    {
     "data": {
      "text/plain": [
       "<AxesSubplot: xlabel='selling_price'>"
      ]
     },
     "execution_count": 14,
     "metadata": {},
     "output_type": "execute_result"
    },
    {
     "data": {
      "image/png": "[encoded data removed]",
      "text/plain": [
       "<Figure size 800x300 with 1 Axes>"
      ]
     },
     "metadata": {},
     "output_type": "display_data"
    }
   ],
   "source": [
    "plt.figure(figsize = (8, 3))\n",
    "sns.boxplot(x = np.log(df['selling_price']))"
   ]
  },
  {
   "cell_type": "code",
   "execution_count": 20,
   "id": "e7cdd3a0",
   "metadata": {},
   "outputs": [
    {
     "data": {
      "text/plain": [
       "11.407564949312402"
      ]
     },
     "execution_count": 20,
     "metadata": {},
     "output_type": "execute_result"
    }
   ],
   "source": [
    "np.log(df['selling_price']).quantile(0.01)"
   ]
  },
  {
   "cell_type": "markdown",
   "id": "97ab261a",
   "metadata": {},
   "source": [
    "#### 7) km_driven"
   ]
  },
  {
   "cell_type": "code",
   "execution_count": 626,
   "id": "538de1ae",
   "metadata": {},
   "outputs": [
    {
     "data": {
      "text/plain": [
       "0"
      ]
     },
     "execution_count": 626,
     "metadata": {},
     "output_type": "execute_result"
    }
   ],
   "source": [
    "df['km_driven'].isna().sum()"
   ]
  },
  {
   "cell_type": "code",
   "execution_count": 627,
   "id": "d5e74e1a",
   "metadata": {},
   "outputs": [
    {
     "data": {
      "text/plain": [
       "<AxesSubplot: xlabel='km_driven', ylabel='Density'>"
      ]
     },
     "execution_count": 627,
     "metadata": {},
     "output_type": "execute_result"
    },
    {
     "data": {
      "image/png": "[encoded data removed]",
      "text/plain": [
       "<Figure size 800x300 with 1 Axes>"
      ]
     },
     "metadata": {},
     "output_type": "display_data"
    }
   ],
   "source": [
    "plt.figure(figsize = (8, 3))\n",
    "sns.kdeplot(df['km_driven'])"
   ]
  },
  {
   "cell_type": "code",
   "execution_count": 628,
   "id": "31110c89",
   "metadata": {},
   "outputs": [
    {
     "data": {
      "text/plain": [
       "<AxesSubplot: xlabel='km_driven'>"
      ]
     },
     "execution_count": 628,
     "metadata": {},
     "output_type": "execute_result"
    },
    {
     "data": {
      "image/png": "[encoded data removed]",
      "text/plain": [
       "<Figure size 800x300 with 1 Axes>"
      ]
     },
     "metadata": {},
     "output_type": "display_data"
    }
   ],
   "source": [
    "plt.figure(figsize = (8, 3))\n",
    "sns.boxplot(x= df['km_driven'])"
   ]
  },
  {
   "cell_type": "code",
   "execution_count": 629,
   "id": "59c56664",
   "metadata": {},
   "outputs": [
    {
     "data": {
      "text/plain": [
       "<AxesSubplot: xlabel='km_driven', ylabel='Density'>"
      ]
     },
     "execution_count": 629,
     "metadata": {},
     "output_type": "execute_result"
    },
    {
     "data": {
      "image/png": "[encoded data removed]",
      "text/plain": [
       "<Figure size 800x300 with 1 Axes>"
      ]
     },
     "metadata": {},
     "output_type": "display_data"
    }
   ],
   "source": [
    "plt.figure(figsize = (8, 3))\n",
    "sns.kdeplot(np.log(df['km_driven']))"
   ]
  },
  {
   "cell_type": "code",
   "execution_count": 630,
   "id": "b5a06780",
   "metadata": {},
   "outputs": [
    {
     "data": {
      "text/plain": [
       "<AxesSubplot: xlabel='km_driven'>"
      ]
     },
     "execution_count": 630,
     "metadata": {},
     "output_type": "execute_result"
    },
    {
     "data": {
      "image/png": "[encoded data removed]",
      "text/plain": [
       "<Figure size 800x300 with 1 Axes>"
      ]
     },
     "metadata": {},
     "output_type": "display_data"
    }
   ],
   "source": [
    "plt.figure(figsize = (8, 3))\n",
    "sns.boxplot(x = np.log(df['km_driven']))"
   ]
  },
  {
   "cell_type": "code",
   "execution_count": 631,
   "id": "0e62e6b8",
   "metadata": {},
   "outputs": [
    {
     "data": {
      "text/plain": [
       "-1.0407031334861339"
      ]
     },
     "execution_count": 631,
     "metadata": {},
     "output_type": "execute_result"
    }
   ],
   "source": [
    "skew(np.log(df['km_driven']))"
   ]
  },
  {
   "cell_type": "markdown",
   "id": "be203c23",
   "metadata": {},
   "source": [
    "#### 8) mileage"
   ]
  },
  {
   "cell_type": "code",
   "execution_count": 632,
   "id": "d0f3de08",
   "metadata": {},
   "outputs": [
    {
     "data": {
      "text/plain": [
       "0"
      ]
     },
     "execution_count": 632,
     "metadata": {},
     "output_type": "execute_result"
    }
   ],
   "source": [
    "df['mileage'].isna().sum()"
   ]
  },
  {
   "cell_type": "code",
   "execution_count": 633,
   "id": "a3027f05",
   "metadata": {},
   "outputs": [
    {
     "data": {
      "text/plain": [
       "<AxesSubplot: xlabel='mileage', ylabel='Density'>"
      ]
     },
     "execution_count": 633,
     "metadata": {},
     "output_type": "execute_result"
    },
    {
     "data": {
      "image/png": "[encoded data removed]",
      "text/plain": [
       "<Figure size 1000x300 with 1 Axes>"
      ]
     },
     "metadata": {},
     "output_type": "display_data"
    }
   ],
   "source": [
    "plt.figure(figsize= (10, 3))\n",
    "sns.kdeplot(df['mileage'])"
   ]
  },
  {
   "cell_type": "code",
   "execution_count": 634,
   "id": "fd3b3231",
   "metadata": {
    "scrolled": false
   },
   "outputs": [
    {
     "data": {
      "text/plain": [
       "<AxesSubplot: xlabel='mileage'>"
      ]
     },
     "execution_count": 634,
     "metadata": {},
     "output_type": "execute_result"
    },
    {
     "data": {
      "image/png": "[encoded data removed]",
      "text/plain": [
       "<Figure size 1000x300 with 1 Axes>"
      ]
     },
     "metadata": {},
     "output_type": "display_data"
    }
   ],
   "source": [
    "plt.figure(figsize= (10, 3))\n",
    "sns.boxplot(x = df['mileage'])"
   ]
  },
  {
   "cell_type": "code",
   "execution_count": 636,
   "id": "48610729",
   "metadata": {},
   "outputs": [
    {
     "data": {
      "text/html": [
       "<div>\n",
       "<style scoped>\n",
       "    .dataframe tbody tr th:only-of-type {\n",
       "        vertical-align: middle;\n",
       "    }\n",
       "\n",
       "    .dataframe tbody tr th {\n",
       "        vertical-align: top;\n",
       "    }\n",
       "\n",
       "    .dataframe thead th {\n",
       "        text-align: right;\n",
       "    }\n",
       "</style>\n",
       "<table border=\"1\" class=\"dataframe\">\n",
       "  <thead>\n",
       "    <tr style=\"text-align: right;\">\n",
       "      <th></th>\n",
       "      <th>full_name</th>\n",
       "      <th>brand_name</th>\n",
       "      <th>model</th>\n",
       "      <th>min_price</th>\n",
       "      <th>max_price</th>\n",
       "      <th>selling_price</th>\n",
       "      <th>year</th>\n",
       "      <th>seller_type</th>\n",
       "      <th>km_driven</th>\n",
       "      <th>owner_type</th>\n",
       "      <th>fuel_type</th>\n",
       "      <th>transmission_type</th>\n",
       "      <th>mileage</th>\n",
       "      <th>engine</th>\n",
       "      <th>max_power</th>\n",
       "      <th>seats</th>\n",
       "    </tr>\n",
       "  </thead>\n",
       "  <tbody>\n",
       "    <tr>\n",
       "      <th>146</th>\n",
       "      <td>Hyundai Santro LP</td>\n",
       "      <td>Hyundai</td>\n",
       "      <td>Santro LP</td>\n",
       "      <td>551000.0</td>\n",
       "      <td>746000.0</td>\n",
       "      <td>160000</td>\n",
       "      <td>2007</td>\n",
       "      <td>2</td>\n",
       "      <td>54000</td>\n",
       "      <td>1</td>\n",
       "      <td>2</td>\n",
       "      <td>0</td>\n",
       "      <td>0.0</td>\n",
       "      <td>999</td>\n",
       "      <td>74.00</td>\n",
       "      <td>5</td>\n",
       "    </tr>\n",
       "    <tr>\n",
       "      <th>270</th>\n",
       "      <td>Hyundai Santro AT</td>\n",
       "      <td>Hyundai</td>\n",
       "      <td>Santro AT</td>\n",
       "      <td>533000.0</td>\n",
       "      <td>727000.0</td>\n",
       "      <td>71000</td>\n",
       "      <td>2004</td>\n",
       "      <td>2</td>\n",
       "      <td>110000</td>\n",
       "      <td>1</td>\n",
       "      <td>2</td>\n",
       "      <td>1</td>\n",
       "      <td>0.0</td>\n",
       "      <td>999</td>\n",
       "      <td>74.00</td>\n",
       "      <td>5</td>\n",
       "    </tr>\n",
       "    <tr>\n",
       "      <th>304</th>\n",
       "      <td>Ford Figo Aspire</td>\n",
       "      <td>Ford</td>\n",
       "      <td>Figo Aspire</td>\n",
       "      <td>928000.0</td>\n",
       "      <td>966000.0</td>\n",
       "      <td>550000</td>\n",
       "      <td>2017</td>\n",
       "      <td>2</td>\n",
       "      <td>15000</td>\n",
       "      <td>1</td>\n",
       "      <td>1</td>\n",
       "      <td>0</td>\n",
       "      <td>0.0</td>\n",
       "      <td>1498</td>\n",
       "      <td>99.00</td>\n",
       "      <td>5</td>\n",
       "    </tr>\n",
       "    <tr>\n",
       "      <th>352</th>\n",
       "      <td>Hyundai Santro Xing</td>\n",
       "      <td>Hyundai</td>\n",
       "      <td>Santro Xing</td>\n",
       "      <td>NaN</td>\n",
       "      <td>NaN</td>\n",
       "      <td>115000</td>\n",
       "      <td>2005</td>\n",
       "      <td>2</td>\n",
       "      <td>120000</td>\n",
       "      <td>1</td>\n",
       "      <td>2</td>\n",
       "      <td>0</td>\n",
       "      <td>0.0</td>\n",
       "      <td>1086</td>\n",
       "      <td>74.00</td>\n",
       "      <td>5</td>\n",
       "    </tr>\n",
       "    <tr>\n",
       "      <th>421</th>\n",
       "      <td>Toyota Fortuner 4X2</td>\n",
       "      <td>Toyota</td>\n",
       "      <td>Fortuner 4X2</td>\n",
       "      <td>3594000.0</td>\n",
       "      <td>3776000.0</td>\n",
       "      <td>1235000</td>\n",
       "      <td>2012</td>\n",
       "      <td>1</td>\n",
       "      <td>85000</td>\n",
       "      <td>1</td>\n",
       "      <td>2</td>\n",
       "      <td>1</td>\n",
       "      <td>0.0</td>\n",
       "      <td>2694</td>\n",
       "      <td>163.05</td>\n",
       "      <td>7</td>\n",
       "    </tr>\n",
       "    <tr>\n",
       "      <th>...</th>\n",
       "      <td>...</td>\n",
       "      <td>...</td>\n",
       "      <td>...</td>\n",
       "      <td>...</td>\n",
       "      <td>...</td>\n",
       "      <td>...</td>\n",
       "      <td>...</td>\n",
       "      <td>...</td>\n",
       "      <td>...</td>\n",
       "      <td>...</td>\n",
       "      <td>...</td>\n",
       "      <td>...</td>\n",
       "      <td>...</td>\n",
       "      <td>...</td>\n",
       "      <td>...</td>\n",
       "      <td>...</td>\n",
       "    </tr>\n",
       "    <tr>\n",
       "      <th>19818</th>\n",
       "      <td>Hyundai Kona Premium</td>\n",
       "      <td>Hyundai</td>\n",
       "      <td>Kona Premium</td>\n",
       "      <td>2508000.0</td>\n",
       "      <td>2528000.0</td>\n",
       "      <td>2175000</td>\n",
       "      <td>2019</td>\n",
       "      <td>1</td>\n",
       "      <td>6000</td>\n",
       "      <td>1</td>\n",
       "      <td>5</td>\n",
       "      <td>1</td>\n",
       "      <td>0.0</td>\n",
       "      <td>1197</td>\n",
       "      <td>134.10</td>\n",
       "      <td>5</td>\n",
       "    </tr>\n",
       "    <tr>\n",
       "      <th>19870</th>\n",
       "      <td>Mahindra Jeep MM</td>\n",
       "      <td>Mahindra</td>\n",
       "      <td>Jeep MM</td>\n",
       "      <td>NaN</td>\n",
       "      <td>NaN</td>\n",
       "      <td>350000</td>\n",
       "      <td>2006</td>\n",
       "      <td>2</td>\n",
       "      <td>120000</td>\n",
       "      <td>1</td>\n",
       "      <td>1</td>\n",
       "      <td>0</td>\n",
       "      <td>0.0</td>\n",
       "      <td>2498</td>\n",
       "      <td>74.00</td>\n",
       "      <td>6</td>\n",
       "    </tr>\n",
       "    <tr>\n",
       "      <th>19926</th>\n",
       "      <td>Toyota Fortuner 4X2</td>\n",
       "      <td>Toyota</td>\n",
       "      <td>Fortuner 4X2</td>\n",
       "      <td>3594000.0</td>\n",
       "      <td>3776000.0</td>\n",
       "      <td>1450000</td>\n",
       "      <td>2014</td>\n",
       "      <td>1</td>\n",
       "      <td>127000</td>\n",
       "      <td>1</td>\n",
       "      <td>2</td>\n",
       "      <td>1</td>\n",
       "      <td>0.0</td>\n",
       "      <td>2694</td>\n",
       "      <td>163.05</td>\n",
       "      <td>7</td>\n",
       "    </tr>\n",
       "    <tr>\n",
       "      <th>20014</th>\n",
       "      <td>Hyundai Santro Xing</td>\n",
       "      <td>Hyundai</td>\n",
       "      <td>Santro Xing</td>\n",
       "      <td>NaN</td>\n",
       "      <td>NaN</td>\n",
       "      <td>115000</td>\n",
       "      <td>2008</td>\n",
       "      <td>2</td>\n",
       "      <td>80000</td>\n",
       "      <td>1</td>\n",
       "      <td>2</td>\n",
       "      <td>0</td>\n",
       "      <td>0.0</td>\n",
       "      <td>1086</td>\n",
       "      <td>62.00</td>\n",
       "      <td>5</td>\n",
       "    </tr>\n",
       "    <tr>\n",
       "      <th>20016</th>\n",
       "      <td>Mercedes-Benz M-Class ML</td>\n",
       "      <td>Mercedes-Benz</td>\n",
       "      <td>M-Class ML</td>\n",
       "      <td>NaN</td>\n",
       "      <td>NaN</td>\n",
       "      <td>3200000</td>\n",
       "      <td>2014</td>\n",
       "      <td>1</td>\n",
       "      <td>32000</td>\n",
       "      <td>1</td>\n",
       "      <td>1</td>\n",
       "      <td>1</td>\n",
       "      <td>0.0</td>\n",
       "      <td>2987</td>\n",
       "      <td>165.00</td>\n",
       "      <td>5</td>\n",
       "    </tr>\n",
       "  </tbody>\n",
       "</table>\n",
       "<p>160 rows × 16 columns</p>\n",
       "</div>"
      ],
      "text/plain": [
       "                      full_name     brand_name         model  min_price  \\\n",
       "146           Hyundai Santro LP        Hyundai     Santro LP   551000.0   \n",
       "270           Hyundai Santro AT        Hyundai     Santro AT   533000.0   \n",
       "304            Ford Figo Aspire           Ford   Figo Aspire   928000.0   \n",
       "352         Hyundai Santro Xing        Hyundai   Santro Xing        NaN   \n",
       "421         Toyota Fortuner 4X2         Toyota  Fortuner 4X2  3594000.0   \n",
       "...                         ...            ...           ...        ...   \n",
       "19818      Hyundai Kona Premium        Hyundai  Kona Premium  2508000.0   \n",
       "19870          Mahindra Jeep MM       Mahindra       Jeep MM        NaN   \n",
       "19926       Toyota Fortuner 4X2         Toyota  Fortuner 4X2  3594000.0   \n",
       "20014       Hyundai Santro Xing        Hyundai   Santro Xing        NaN   \n",
       "20016  Mercedes-Benz M-Class ML  Mercedes-Benz    M-Class ML        NaN   \n",
       "\n",
       "       max_price  selling_price  year  seller_type  km_driven  owner_type  \\\n",
       "146     746000.0         160000  2007            2      54000           1   \n",
       "270     727000.0          71000  2004            2     110000           1   \n",
       "304     966000.0         550000  2017            2      15000           1   \n",
       "352          NaN         115000  2005            2     120000           1   \n",
       "421    3776000.0        1235000  2012            1      85000           1   \n",
       "...          ...            ...   ...          ...        ...         ...   \n",
       "19818  2528000.0        2175000  2019            1       6000           1   \n",
       "19870        NaN         350000  2006            2     120000           1   \n",
       "19926  3776000.0        1450000  2014            1     127000           1   \n",
       "20014        NaN         115000  2008            2      80000           1   \n",
       "20016        NaN        3200000  2014            1      32000           1   \n",
       "\n",
       "       fuel_type  transmission_type  mileage  engine  max_power  seats  \n",
       "146            2                  0      0.0     999      74.00      5  \n",
       "270            2                  1      0.0     999      74.00      5  \n",
       "304            1                  0      0.0    1498      99.00      5  \n",
       "352            2                  0      0.0    1086      74.00      5  \n",
       "421            2                  1      0.0    2694     163.05      7  \n",
       "...          ...                ...      ...     ...        ...    ...  \n",
       "19818          5                  1      0.0    1197     134.10      5  \n",
       "19870          1                  0      0.0    2498      74.00      6  \n",
       "19926          2                  1      0.0    2694     163.05      7  \n",
       "20014          2                  0      0.0    1086      62.00      5  \n",
       "20016          1                  1      0.0    2987     165.00      5  \n",
       "\n",
       "[160 rows x 16 columns]"
      ]
     },
     "execution_count": 636,
     "metadata": {},
     "output_type": "execute_result"
    }
   ],
   "source": [
    "df[df['mileage'] < 2]"
   ]
  },
  {
   "cell_type": "code",
   "execution_count": 635,
   "id": "7b3e588b",
   "metadata": {},
   "outputs": [
    {
     "data": {
      "text/plain": [
       "0.0"
      ]
     },
     "execution_count": 635,
     "metadata": {},
     "output_type": "execute_result"
    }
   ],
   "source": [
    "df['mileage'].isna().mean() * 100"
   ]
  },
  {
   "cell_type": "code",
   "execution_count": 637,
   "id": "5ac850f7",
   "metadata": {},
   "outputs": [],
   "source": [
    "index = np.where(df['mileage'] < 2)\n",
    "df['mileage'].loc[df['mileage'] < 2] = np.nan"
   ]
  },
  {
   "cell_type": "code",
   "execution_count": 638,
   "id": "9efbeb08",
   "metadata": {},
   "outputs": [],
   "source": [
    "df['mileage'].replace({np.nan : df['mileage'].median()}, inplace= True)"
   ]
  },
  {
   "cell_type": "code",
   "execution_count": 639,
   "id": "018b5744",
   "metadata": {},
   "outputs": [
    {
     "data": {
      "text/html": [
       "<div>\n",
       "<style scoped>\n",
       "    .dataframe tbody tr th:only-of-type {\n",
       "        vertical-align: middle;\n",
       "    }\n",
       "\n",
       "    .dataframe tbody tr th {\n",
       "        vertical-align: top;\n",
       "    }\n",
       "\n",
       "    .dataframe thead th {\n",
       "        text-align: right;\n",
       "    }\n",
       "</style>\n",
       "<table border=\"1\" class=\"dataframe\">\n",
       "  <thead>\n",
       "    <tr style=\"text-align: right;\">\n",
       "      <th></th>\n",
       "      <th>full_name</th>\n",
       "      <th>brand_name</th>\n",
       "      <th>model</th>\n",
       "      <th>min_price</th>\n",
       "      <th>max_price</th>\n",
       "      <th>selling_price</th>\n",
       "      <th>year</th>\n",
       "      <th>seller_type</th>\n",
       "      <th>km_driven</th>\n",
       "      <th>owner_type</th>\n",
       "      <th>fuel_type</th>\n",
       "      <th>transmission_type</th>\n",
       "      <th>mileage</th>\n",
       "      <th>engine</th>\n",
       "      <th>max_power</th>\n",
       "      <th>seats</th>\n",
       "    </tr>\n",
       "  </thead>\n",
       "  <tbody>\n",
       "  </tbody>\n",
       "</table>\n",
       "</div>"
      ],
      "text/plain": [
       "Empty DataFrame\n",
       "Columns: [full_name, brand_name, model, min_price, max_price, selling_price, year, seller_type, km_driven, owner_type, fuel_type, transmission_type, mileage, engine, max_power, seats]\n",
       "Index: []"
      ]
     },
     "execution_count": 639,
     "metadata": {},
     "output_type": "execute_result"
    }
   ],
   "source": [
    "df[df['mileage'] == 0]"
   ]
  },
  {
   "cell_type": "code",
   "execution_count": 640,
   "id": "7d10c9ed",
   "metadata": {},
   "outputs": [
    {
     "data": {
      "text/plain": [
       "<AxesSubplot: xlabel='mileage', ylabel='Density'>"
      ]
     },
     "execution_count": 640,
     "metadata": {},
     "output_type": "execute_result"
    },
    {
     "data": {
      "image/png": "[encoded data removed]",
      "text/plain": [
       "<Figure size 1000x300 with 1 Axes>"
      ]
     },
     "metadata": {},
     "output_type": "display_data"
    }
   ],
   "source": [
    "plt.figure(figsize= (10, 3))\n",
    "sns.kdeplot(np.log(df['mileage']))"
   ]
  },
  {
   "cell_type": "code",
   "execution_count": 641,
   "id": "6bd313f4",
   "metadata": {},
   "outputs": [
    {
     "data": {
      "text/plain": [
       "<AxesSubplot: xlabel='mileage'>"
      ]
     },
     "execution_count": 641,
     "metadata": {},
     "output_type": "execute_result"
    },
    {
     "data": {
      "image/png": "[encoded data removed]",
      "text/plain": [
       "<Figure size 1000x300 with 1 Axes>"
      ]
     },
     "metadata": {},
     "output_type": "display_data"
    }
   ],
   "source": [
    "plt.figure(figsize= (10, 3))\n",
    "sns.boxplot(x = np.log(df['mileage']))"
   ]
  },
  {
   "cell_type": "markdown",
   "id": "07195985",
   "metadata": {},
   "source": [
    "#### 9) engine"
   ]
  },
  {
   "cell_type": "code",
   "execution_count": 642,
   "id": "9896a425",
   "metadata": {},
   "outputs": [
    {
     "data": {
      "text/plain": [
       "0"
      ]
     },
     "execution_count": 642,
     "metadata": {},
     "output_type": "execute_result"
    }
   ],
   "source": [
    "df['engine'].isna().sum()"
   ]
  },
  {
   "cell_type": "code",
   "execution_count": 643,
   "id": "22f3e3e8",
   "metadata": {},
   "outputs": [
    {
     "data": {
      "text/plain": [
       "<AxesSubplot: xlabel='engine', ylabel='Density'>"
      ]
     },
     "execution_count": 643,
     "metadata": {},
     "output_type": "execute_result"
    },
    {
     "data": {
      "image/png": "[encoded data removed]",
      "text/plain": [
       "<Figure size 1000x300 with 1 Axes>"
      ]
     },
     "metadata": {},
     "output_type": "display_data"
    }
   ],
   "source": [
    "plt.figure(figsize= (10, 3))\n",
    "sns.kdeplot(df['engine'])"
   ]
  },
  {
   "cell_type": "code",
   "execution_count": 644,
   "id": "86ef1a07",
   "metadata": {
    "scrolled": true
   },
   "outputs": [
    {
     "data": {
      "text/plain": [
       "<AxesSubplot: xlabel='engine'>"
      ]
     },
     "execution_count": 644,
     "metadata": {},
     "output_type": "execute_result"
    },
    {
     "data": {
      "image/png": "[encoded data removed]",
      "text/plain": [
       "<Figure size 1000x300 with 1 Axes>"
      ]
     },
     "metadata": {},
     "output_type": "display_data"
    }
   ],
   "source": [
    "plt.figure(figsize= (10, 3))\n",
    "sns.boxplot(x = df['engine'])"
   ]
  },
  {
   "cell_type": "code",
   "execution_count": 645,
   "id": "677b0a9c",
   "metadata": {},
   "outputs": [
    {
     "data": {
      "text/html": [
       "<div>\n",
       "<style scoped>\n",
       "    .dataframe tbody tr th:only-of-type {\n",
       "        vertical-align: middle;\n",
       "    }\n",
       "\n",
       "    .dataframe tbody tr th {\n",
       "        vertical-align: top;\n",
       "    }\n",
       "\n",
       "    .dataframe thead th {\n",
       "        text-align: right;\n",
       "    }\n",
       "</style>\n",
       "<table border=\"1\" class=\"dataframe\">\n",
       "  <thead>\n",
       "    <tr style=\"text-align: right;\">\n",
       "      <th></th>\n",
       "      <th>full_name</th>\n",
       "      <th>brand_name</th>\n",
       "      <th>model</th>\n",
       "      <th>min_price</th>\n",
       "      <th>max_price</th>\n",
       "      <th>selling_price</th>\n",
       "      <th>year</th>\n",
       "      <th>seller_type</th>\n",
       "      <th>km_driven</th>\n",
       "      <th>owner_type</th>\n",
       "      <th>fuel_type</th>\n",
       "      <th>transmission_type</th>\n",
       "      <th>mileage</th>\n",
       "      <th>engine</th>\n",
       "      <th>max_power</th>\n",
       "      <th>seats</th>\n",
       "    </tr>\n",
       "  </thead>\n",
       "  <tbody>\n",
       "    <tr>\n",
       "      <th>2354</th>\n",
       "      <td>Mahindra E Verito</td>\n",
       "      <td>Mahindra</td>\n",
       "      <td>E Verito</td>\n",
       "      <td>1075000.0</td>\n",
       "      <td>1111000.0</td>\n",
       "      <td>945000</td>\n",
       "      <td>2020</td>\n",
       "      <td>1</td>\n",
       "      <td>2746</td>\n",
       "      <td>1</td>\n",
       "      <td>5</td>\n",
       "      <td>1</td>\n",
       "      <td>19.27</td>\n",
       "      <td>72</td>\n",
       "      <td>41.57</td>\n",
       "      <td>5</td>\n",
       "    </tr>\n",
       "    <tr>\n",
       "      <th>17429</th>\n",
       "      <td>Mahindra E Verito</td>\n",
       "      <td>Mahindra</td>\n",
       "      <td>E Verito</td>\n",
       "      <td>1339000.0</td>\n",
       "      <td>1377000.0</td>\n",
       "      <td>1197000</td>\n",
       "      <td>2019</td>\n",
       "      <td>2</td>\n",
       "      <td>18281</td>\n",
       "      <td>1</td>\n",
       "      <td>5</td>\n",
       "      <td>1</td>\n",
       "      <td>19.27</td>\n",
       "      <td>72</td>\n",
       "      <td>41.57</td>\n",
       "      <td>5</td>\n",
       "    </tr>\n",
       "    <tr>\n",
       "      <th>19135</th>\n",
       "      <td>Mahindra E Verito</td>\n",
       "      <td>Mahindra</td>\n",
       "      <td>E Verito</td>\n",
       "      <td>NaN</td>\n",
       "      <td>NaN</td>\n",
       "      <td>725000</td>\n",
       "      <td>2020</td>\n",
       "      <td>1</td>\n",
       "      <td>8200</td>\n",
       "      <td>1</td>\n",
       "      <td>5</td>\n",
       "      <td>1</td>\n",
       "      <td>19.27</td>\n",
       "      <td>72</td>\n",
       "      <td>41.57</td>\n",
       "      <td>5</td>\n",
       "    </tr>\n",
       "  </tbody>\n",
       "</table>\n",
       "</div>"
      ],
      "text/plain": [
       "               full_name brand_name     model  min_price  max_price  \\\n",
       "2354   Mahindra E Verito   Mahindra  E Verito  1075000.0  1111000.0   \n",
       "17429  Mahindra E Verito   Mahindra  E Verito  1339000.0  1377000.0   \n",
       "19135  Mahindra E Verito   Mahindra  E Verito        NaN        NaN   \n",
       "\n",
       "       selling_price  year  seller_type  km_driven  owner_type  fuel_type  \\\n",
       "2354          945000  2020            1       2746           1          5   \n",
       "17429        1197000  2019            2      18281           1          5   \n",
       "19135         725000  2020            1       8200           1          5   \n",
       "\n",
       "       transmission_type  mileage  engine  max_power  seats  \n",
       "2354                   1    19.27      72      41.57      5  \n",
       "17429                  1    19.27      72      41.57      5  \n",
       "19135                  1    19.27      72      41.57      5  "
      ]
     },
     "execution_count": 645,
     "metadata": {},
     "output_type": "execute_result"
    }
   ],
   "source": [
    "df.loc[df['engine'] < 624]"
   ]
  },
  {
   "cell_type": "code",
   "execution_count": 646,
   "id": "a45bd826",
   "metadata": {},
   "outputs": [
    {
     "data": {
      "text/plain": [
       "<AxesSubplot: xlabel='engine', ylabel='Density'>"
      ]
     },
     "execution_count": 646,
     "metadata": {},
     "output_type": "execute_result"
    },
    {
     "data": {
      "image/png": "[encoded data removed]",
      "text/plain": [
       "<Figure size 1000x300 with 1 Axes>"
      ]
     },
     "metadata": {},
     "output_type": "display_data"
    }
   ],
   "source": [
    "plt.figure(figsize= (10, 3))\n",
    "sns.kdeplot(np.log(df['engine']))"
   ]
  },
  {
   "cell_type": "code",
   "execution_count": 647,
   "id": "242b0f54",
   "metadata": {},
   "outputs": [
    {
     "data": {
      "text/plain": [
       "<AxesSubplot: xlabel='engine'>"
      ]
     },
     "execution_count": 647,
     "metadata": {},
     "output_type": "execute_result"
    },
    {
     "data": {
      "image/png": "[encoded data removed]",
      "text/plain": [
       "<Figure size 1000x300 with 1 Axes>"
      ]
     },
     "metadata": {},
     "output_type": "display_data"
    }
   ],
   "source": [
    "plt.figure(figsize= (10, 3))\n",
    "sns.boxplot(x = np.log(df['engine']))"
   ]
  },
  {
   "cell_type": "code",
   "execution_count": 648,
   "id": "0e0ccd76",
   "metadata": {},
   "outputs": [
    {
     "data": {
      "text/plain": [
       "0.4865417601266238"
      ]
     },
     "execution_count": 648,
     "metadata": {},
     "output_type": "execute_result"
    }
   ],
   "source": [
    "skew(np.log(df['engine']))"
   ]
  },
  {
   "cell_type": "code",
   "execution_count": 649,
   "id": "a34140b5",
   "metadata": {},
   "outputs": [
    {
     "data": {
      "text/plain": [
       "(array([0.69314549, 0.        ]), -7.050036447335159e-06)"
      ]
     },
     "execution_count": 649,
     "metadata": {},
     "output_type": "execute_result"
    }
   ],
   "source": [
    "boxcox([2, 1])"
   ]
  },
  {
   "cell_type": "code",
   "execution_count": 650,
   "id": "d2e787a7",
   "metadata": {},
   "outputs": [
    {
     "data": {
      "text/plain": [
       "<AxesSubplot: ylabel='Density'>"
      ]
     },
     "execution_count": 650,
     "metadata": {},
     "output_type": "execute_result"
    },
    {
     "data": {
      "image/png": "[encoded data removed]",
      "text/plain": [
       "<Figure size 640x480 with 1 Axes>"
      ]
     },
     "metadata": {},
     "output_type": "display_data"
    }
   ],
   "source": [
    "sns.kdeplot(boxcox(df['engine']))"
   ]
  },
  {
   "cell_type": "code",
   "execution_count": 651,
   "id": "738f0e0e",
   "metadata": {},
   "outputs": [
    {
     "data": {
      "text/plain": [
       "0.4865417601266238"
      ]
     },
     "execution_count": 651,
     "metadata": {},
     "output_type": "execute_result"
    }
   ],
   "source": [
    "skew(np.log(df['engine']))"
   ]
  },
  {
   "cell_type": "markdown",
   "id": "6f26678e",
   "metadata": {},
   "source": [
    "#### 10) max_power"
   ]
  },
  {
   "cell_type": "code",
   "execution_count": 652,
   "id": "059b6293",
   "metadata": {},
   "outputs": [
    {
     "data": {
      "text/plain": [
       "0"
      ]
     },
     "execution_count": 652,
     "metadata": {},
     "output_type": "execute_result"
    }
   ],
   "source": [
    "df['max_power'].isna().sum()"
   ]
  },
  {
   "cell_type": "code",
   "execution_count": 653,
   "id": "fb2341ea",
   "metadata": {},
   "outputs": [
    {
     "data": {
      "text/plain": [
       "<AxesSubplot: xlabel='max_power', ylabel='Density'>"
      ]
     },
     "execution_count": 653,
     "metadata": {},
     "output_type": "execute_result"
    },
    {
     "data": {
      "image/png": "[encoded data removed]",
      "text/plain": [
       "<Figure size 1000x300 with 1 Axes>"
      ]
     },
     "metadata": {},
     "output_type": "display_data"
    }
   ],
   "source": [
    "plt.figure(figsize = (10, 3))\n",
    "sns.kdeplot(df['max_power'])"
   ]
  },
  {
   "cell_type": "code",
   "execution_count": 654,
   "id": "9c71ffdc",
   "metadata": {},
   "outputs": [
    {
     "data": {
      "text/plain": [
       "<AxesSubplot: xlabel='max_power'>"
      ]
     },
     "execution_count": 654,
     "metadata": {},
     "output_type": "execute_result"
    },
    {
     "data": {
      "image/png": "[encoded data removed]",
      "text/plain": [
       "<Figure size 1000x300 with 1 Axes>"
      ]
     },
     "metadata": {},
     "output_type": "display_data"
    }
   ],
   "source": [
    "plt.figure(figsize = (10, 3))\n",
    "sns.boxplot(x = df['max_power'])"
   ]
  },
  {
   "cell_type": "code",
   "execution_count": 655,
   "id": "0e2999da",
   "metadata": {},
   "outputs": [
    {
     "data": {
      "text/plain": [
       "<AxesSubplot: ylabel='Density'>"
      ]
     },
     "execution_count": 655,
     "metadata": {},
     "output_type": "execute_result"
    },
    {
     "data": {
      "image/png": "[encoded data removed]",
      "text/plain": [
       "<Figure size 1000x300 with 1 Axes>"
      ]
     },
     "metadata": {},
     "output_type": "display_data"
    }
   ],
   "source": [
    "plt.figure(figsize = (10, 3))\n",
    "sns.kdeplot(boxcox(df['max_power'])[0])"
   ]
  },
  {
   "cell_type": "code",
   "execution_count": 656,
   "id": "70e2fb86",
   "metadata": {},
   "outputs": [
    {
     "data": {
      "text/plain": [
       "<AxesSubplot: >"
      ]
     },
     "execution_count": 656,
     "metadata": {},
     "output_type": "execute_result"
    },
    {
     "data": {
      "image/png": "[encoded data removed]",
      "text/plain": [
       "<Figure size 1000x300 with 1 Axes>"
      ]
     },
     "metadata": {},
     "output_type": "display_data"
    }
   ],
   "source": [
    "plt.figure(figsize = (10, 3))\n",
    "sns.boxplot(x = boxcox(df['max_power'])[0])"
   ]
  },
  {
   "cell_type": "code",
   "execution_count": 657,
   "id": "13c2955b",
   "metadata": {},
   "outputs": [
    {
     "data": {
      "text/plain": [
       "0.6936377663705412"
      ]
     },
     "execution_count": 657,
     "metadata": {},
     "output_type": "execute_result"
    }
   ],
   "source": [
    "skew(np.log(df['max_power']))"
   ]
  },
  {
   "cell_type": "code",
   "execution_count": 658,
   "id": "d655681c",
   "metadata": {},
   "outputs": [
    {
     "data": {
      "text/plain": [
       "<AxesSubplot: ylabel='Density'>"
      ]
     },
     "execution_count": 658,
     "metadata": {},
     "output_type": "execute_result"
    },
    {
     "data": {
      "image/png": "[encoded data removed]",
      "text/plain": [
       "<Figure size 640x480 with 1 Axes>"
      ]
     },
     "metadata": {},
     "output_type": "display_data"
    }
   ],
   "source": [
    "sns.kdeplot(boxcox(df['max_power']))"
   ]
  },
  {
   "cell_type": "code",
   "execution_count": 659,
   "id": "1bc2390b",
   "metadata": {},
   "outputs": [
    {
     "data": {
      "text/plain": [
       "-0.03680700424481984"
      ]
     },
     "execution_count": 659,
     "metadata": {},
     "output_type": "execute_result"
    }
   ],
   "source": [
    "skew(boxcox(df['max_power'])[0])"
   ]
  },
  {
   "cell_type": "markdown",
   "id": "76d5428a",
   "metadata": {},
   "source": [
    "#### 11) seats"
   ]
  },
  {
   "cell_type": "code",
   "execution_count": 660,
   "id": "e17fc286",
   "metadata": {},
   "outputs": [
    {
     "data": {
      "text/plain": [
       "0"
      ]
     },
     "execution_count": 660,
     "metadata": {},
     "output_type": "execute_result"
    }
   ],
   "source": [
    "df['seats'].isna().sum()"
   ]
  },
  {
   "cell_type": "code",
   "execution_count": 661,
   "id": "aceb9e42",
   "metadata": {},
   "outputs": [
    {
     "data": {
      "text/plain": [
       "<AxesSubplot: xlabel='seats', ylabel='Density'>"
      ]
     },
     "execution_count": 661,
     "metadata": {},
     "output_type": "execute_result"
    },
    {
     "data": {
      "image/png": "[encoded data removed]",
      "text/plain": [
       "<Figure size 1000x300 with 1 Axes>"
      ]
     },
     "metadata": {},
     "output_type": "display_data"
    }
   ],
   "source": [
    "plt.figure(figsize= (10, 3))\n",
    "sns.kdeplot(df['seats'])"
   ]
  },
  {
   "cell_type": "code",
   "execution_count": 662,
   "id": "6f902704",
   "metadata": {},
   "outputs": [
    {
     "data": {
      "text/plain": [
       "<AxesSubplot: xlabel='seats'>"
      ]
     },
     "execution_count": 662,
     "metadata": {},
     "output_type": "execute_result"
    },
    {
     "data": {
      "image/png": "[encoded data removed]",
      "text/plain": [
       "<Figure size 1000x300 with 1 Axes>"
      ]
     },
     "metadata": {},
     "output_type": "display_data"
    }
   ],
   "source": [
    "plt.figure(figsize= (10, 3))\n",
    "sns.boxplot(x = df['seats'])"
   ]
  },
  {
   "cell_type": "code",
   "execution_count": 663,
   "id": "df59ecb3",
   "metadata": {},
   "outputs": [
    {
     "data": {
      "text/plain": [
       "<AxesSubplot: xlabel='seats', ylabel='Density'>"
      ]
     },
     "execution_count": 663,
     "metadata": {},
     "output_type": "execute_result"
    },
    {
     "data": {
      "image/png": "[encoded data removed]",
      "text/plain": [
       "<Figure size 1000x300 with 1 Axes>"
      ]
     },
     "metadata": {},
     "output_type": "display_data"
    }
   ],
   "source": [
    "plt.figure(figsize= (10, 3))\n",
    "sns.kdeplot(np.log(df['seats']))"
   ]
  },
  {
   "cell_type": "code",
   "execution_count": 664,
   "id": "12610c2b",
   "metadata": {
    "collapsed": true
   },
   "outputs": [
    {
     "name": "stdout",
     "output_type": "stream",
     "text": [
      "<class 'pandas.core.frame.DataFrame'>\n",
      "RangeIndex: 20026 entries, 0 to 20025\n",
      "Data columns (total 16 columns):\n",
      " #   Column             Non-Null Count  Dtype  \n",
      "---  ------             --------------  -----  \n",
      " 0   full_name          20026 non-null  object \n",
      " 1   brand_name         20026 non-null  object \n",
      " 2   model              20026 non-null  object \n",
      " 3   min_price          9566 non-null   float64\n",
      " 4   max_price          9566 non-null   float64\n",
      " 5   selling_price      20026 non-null  int64  \n",
      " 6   year               20026 non-null  int64  \n",
      " 7   seller_type        20026 non-null  int64  \n",
      " 8   km_driven          20026 non-null  int64  \n",
      " 9   owner_type         20026 non-null  int64  \n",
      " 10  fuel_type          20026 non-null  int64  \n",
      " 11  transmission_type  20026 non-null  int64  \n",
      " 12  mileage            20026 non-null  float64\n",
      " 13  engine             20026 non-null  int64  \n",
      " 14  max_power          20026 non-null  float64\n",
      " 15  seats              20026 non-null  int64  \n",
      "dtypes: float64(4), int64(9), object(3)\n",
      "memory usage: 2.4+ MB\n"
     ]
    }
   ],
   "source": [
    "df.info()"
   ]
  },
  {
   "cell_type": "code",
   "execution_count": 665,
   "id": "9f45041e",
   "metadata": {},
   "outputs": [
    {
     "data": {
      "text/html": [
       "<div>\n",
       "<style scoped>\n",
       "    .dataframe tbody tr th:only-of-type {\n",
       "        vertical-align: middle;\n",
       "    }\n",
       "\n",
       "    .dataframe tbody tr th {\n",
       "        vertical-align: top;\n",
       "    }\n",
       "\n",
       "    .dataframe thead th {\n",
       "        text-align: right;\n",
       "    }\n",
       "</style>\n",
       "<table border=\"1\" class=\"dataframe\">\n",
       "  <thead>\n",
       "    <tr style=\"text-align: right;\">\n",
       "      <th></th>\n",
       "      <th>full_name</th>\n",
       "      <th>brand_name</th>\n",
       "      <th>model</th>\n",
       "      <th>min_price</th>\n",
       "      <th>max_price</th>\n",
       "      <th>selling_price</th>\n",
       "      <th>year</th>\n",
       "      <th>seller_type</th>\n",
       "      <th>km_driven</th>\n",
       "      <th>owner_type</th>\n",
       "      <th>fuel_type</th>\n",
       "      <th>transmission_type</th>\n",
       "      <th>mileage</th>\n",
       "      <th>engine</th>\n",
       "      <th>max_power</th>\n",
       "      <th>seats</th>\n",
       "    </tr>\n",
       "  </thead>\n",
       "  <tbody>\n",
       "    <tr>\n",
       "      <th>0</th>\n",
       "      <td>Maruti Alto Std</td>\n",
       "      <td>Maruti</td>\n",
       "      <td>Alto Std</td>\n",
       "      <td>NaN</td>\n",
       "      <td>NaN</td>\n",
       "      <td>120000</td>\n",
       "      <td>2012</td>\n",
       "      <td>2</td>\n",
       "      <td>120000</td>\n",
       "      <td>1</td>\n",
       "      <td>2</td>\n",
       "      <td>0</td>\n",
       "      <td>19.70</td>\n",
       "      <td>796</td>\n",
       "      <td>46.30</td>\n",
       "      <td>5</td>\n",
       "    </tr>\n",
       "    <tr>\n",
       "      <th>1</th>\n",
       "      <td>Hyundai Grand i10</td>\n",
       "      <td>Hyundai</td>\n",
       "      <td>Grand i10</td>\n",
       "      <td>711000.0</td>\n",
       "      <td>748000.0</td>\n",
       "      <td>550000</td>\n",
       "      <td>2016</td>\n",
       "      <td>2</td>\n",
       "      <td>20000</td>\n",
       "      <td>1</td>\n",
       "      <td>2</td>\n",
       "      <td>0</td>\n",
       "      <td>18.90</td>\n",
       "      <td>1197</td>\n",
       "      <td>82.00</td>\n",
       "      <td>5</td>\n",
       "    </tr>\n",
       "    <tr>\n",
       "      <th>2</th>\n",
       "      <td>Hyundai i20 Asta</td>\n",
       "      <td>Hyundai</td>\n",
       "      <td>i20 Asta</td>\n",
       "      <td>NaN</td>\n",
       "      <td>NaN</td>\n",
       "      <td>215000</td>\n",
       "      <td>2010</td>\n",
       "      <td>2</td>\n",
       "      <td>60000</td>\n",
       "      <td>1</td>\n",
       "      <td>2</td>\n",
       "      <td>0</td>\n",
       "      <td>17.00</td>\n",
       "      <td>1197</td>\n",
       "      <td>80.00</td>\n",
       "      <td>5</td>\n",
       "    </tr>\n",
       "    <tr>\n",
       "      <th>3</th>\n",
       "      <td>Maruti Alto K10</td>\n",
       "      <td>Maruti</td>\n",
       "      <td>Alto K10</td>\n",
       "      <td>NaN</td>\n",
       "      <td>NaN</td>\n",
       "      <td>226000</td>\n",
       "      <td>2012</td>\n",
       "      <td>2</td>\n",
       "      <td>37000</td>\n",
       "      <td>1</td>\n",
       "      <td>2</td>\n",
       "      <td>0</td>\n",
       "      <td>20.92</td>\n",
       "      <td>998</td>\n",
       "      <td>67.10</td>\n",
       "      <td>5</td>\n",
       "    </tr>\n",
       "    <tr>\n",
       "      <th>4</th>\n",
       "      <td>Ford Ecosport 2015-2021</td>\n",
       "      <td>Ford</td>\n",
       "      <td>Ecosport 2015-2021</td>\n",
       "      <td>1014000.0</td>\n",
       "      <td>1379000.0</td>\n",
       "      <td>570000</td>\n",
       "      <td>2015</td>\n",
       "      <td>1</td>\n",
       "      <td>30000</td>\n",
       "      <td>1</td>\n",
       "      <td>1</td>\n",
       "      <td>0</td>\n",
       "      <td>22.77</td>\n",
       "      <td>1498</td>\n",
       "      <td>98.59</td>\n",
       "      <td>5</td>\n",
       "    </tr>\n",
       "    <tr>\n",
       "      <th>...</th>\n",
       "      <td>...</td>\n",
       "      <td>...</td>\n",
       "      <td>...</td>\n",
       "      <td>...</td>\n",
       "      <td>...</td>\n",
       "      <td>...</td>\n",
       "      <td>...</td>\n",
       "      <td>...</td>\n",
       "      <td>...</td>\n",
       "      <td>...</td>\n",
       "      <td>...</td>\n",
       "      <td>...</td>\n",
       "      <td>...</td>\n",
       "      <td>...</td>\n",
       "      <td>...</td>\n",
       "      <td>...</td>\n",
       "    </tr>\n",
       "    <tr>\n",
       "      <th>20021</th>\n",
       "      <td>Toyota Platinum Etios</td>\n",
       "      <td>Toyota</td>\n",
       "      <td>Platinum Etios</td>\n",
       "      <td>NaN</td>\n",
       "      <td>NaN</td>\n",
       "      <td>650000</td>\n",
       "      <td>2017</td>\n",
       "      <td>1</td>\n",
       "      <td>69480</td>\n",
       "      <td>1</td>\n",
       "      <td>1</td>\n",
       "      <td>0</td>\n",
       "      <td>23.59</td>\n",
       "      <td>1364</td>\n",
       "      <td>67.05</td>\n",
       "      <td>5</td>\n",
       "    </tr>\n",
       "    <tr>\n",
       "      <th>20022</th>\n",
       "      <td>Maruti Ertiga BSIV</td>\n",
       "      <td>Maruti</td>\n",
       "      <td>Ertiga BSIV</td>\n",
       "      <td>NaN</td>\n",
       "      <td>NaN</td>\n",
       "      <td>925000</td>\n",
       "      <td>2019</td>\n",
       "      <td>1</td>\n",
       "      <td>18000</td>\n",
       "      <td>1</td>\n",
       "      <td>2</td>\n",
       "      <td>0</td>\n",
       "      <td>17.50</td>\n",
       "      <td>1373</td>\n",
       "      <td>91.10</td>\n",
       "      <td>7</td>\n",
       "    </tr>\n",
       "    <tr>\n",
       "      <th>20023</th>\n",
       "      <td>Skoda Rapid 1.5</td>\n",
       "      <td>Skoda</td>\n",
       "      <td>Rapid 1.5</td>\n",
       "      <td>NaN</td>\n",
       "      <td>NaN</td>\n",
       "      <td>425000</td>\n",
       "      <td>2015</td>\n",
       "      <td>1</td>\n",
       "      <td>67000</td>\n",
       "      <td>1</td>\n",
       "      <td>1</td>\n",
       "      <td>0</td>\n",
       "      <td>21.14</td>\n",
       "      <td>1498</td>\n",
       "      <td>103.52</td>\n",
       "      <td>5</td>\n",
       "    </tr>\n",
       "    <tr>\n",
       "      <th>20024</th>\n",
       "      <td>Mahindra XUV500 W6</td>\n",
       "      <td>Mahindra</td>\n",
       "      <td>XUV500 W6</td>\n",
       "      <td>1783000.0</td>\n",
       "      <td>2491000.0</td>\n",
       "      <td>1225000</td>\n",
       "      <td>2016</td>\n",
       "      <td>1</td>\n",
       "      <td>3800000</td>\n",
       "      <td>1</td>\n",
       "      <td>1</td>\n",
       "      <td>0</td>\n",
       "      <td>16.00</td>\n",
       "      <td>2179</td>\n",
       "      <td>140.00</td>\n",
       "      <td>7</td>\n",
       "    </tr>\n",
       "    <tr>\n",
       "      <th>20025</th>\n",
       "      <td>Honda City i-VTEC</td>\n",
       "      <td>Honda</td>\n",
       "      <td>City i-VTEC</td>\n",
       "      <td>NaN</td>\n",
       "      <td>NaN</td>\n",
       "      <td>1200000</td>\n",
       "      <td>2019</td>\n",
       "      <td>1</td>\n",
       "      <td>13000</td>\n",
       "      <td>1</td>\n",
       "      <td>2</td>\n",
       "      <td>1</td>\n",
       "      <td>18.00</td>\n",
       "      <td>1497</td>\n",
       "      <td>117.60</td>\n",
       "      <td>5</td>\n",
       "    </tr>\n",
       "  </tbody>\n",
       "</table>\n",
       "<p>20026 rows × 16 columns</p>\n",
       "</div>"
      ],
      "text/plain": [
       "                     full_name brand_name               model  min_price  \\\n",
       "0              Maruti Alto Std     Maruti            Alto Std        NaN   \n",
       "1            Hyundai Grand i10    Hyundai           Grand i10   711000.0   \n",
       "2             Hyundai i20 Asta    Hyundai            i20 Asta        NaN   \n",
       "3              Maruti Alto K10     Maruti            Alto K10        NaN   \n",
       "4      Ford Ecosport 2015-2021       Ford  Ecosport 2015-2021  1014000.0   \n",
       "...                        ...        ...                 ...        ...   \n",
       "20021    Toyota Platinum Etios     Toyota      Platinum Etios        NaN   \n",
       "20022       Maruti Ertiga BSIV     Maruti         Ertiga BSIV        NaN   \n",
       "20023          Skoda Rapid 1.5      Skoda           Rapid 1.5        NaN   \n",
       "20024       Mahindra XUV500 W6   Mahindra           XUV500 W6  1783000.0   \n",
       "20025        Honda City i-VTEC      Honda         City i-VTEC        NaN   \n",
       "\n",
       "       max_price  selling_price  year  seller_type  km_driven  owner_type  \\\n",
       "0            NaN         120000  2012            2     120000           1   \n",
       "1       748000.0         550000  2016            2      20000           1   \n",
       "2            NaN         215000  2010            2      60000           1   \n",
       "3            NaN         226000  2012            2      37000           1   \n",
       "4      1379000.0         570000  2015            1      30000           1   \n",
       "...          ...            ...   ...          ...        ...         ...   \n",
       "20021        NaN         650000  2017            1      69480           1   \n",
       "20022        NaN         925000  2019            1      18000           1   \n",
       "20023        NaN         425000  2015            1      67000           1   \n",
       "20024  2491000.0        1225000  2016            1    3800000           1   \n",
       "20025        NaN        1200000  2019            1      13000           1   \n",
       "\n",
       "       fuel_type  transmission_type  mileage  engine  max_power  seats  \n",
       "0              2                  0    19.70     796      46.30      5  \n",
       "1              2                  0    18.90    1197      82.00      5  \n",
       "2              2                  0    17.00    1197      80.00      5  \n",
       "3              2                  0    20.92     998      67.10      5  \n",
       "4              1                  0    22.77    1498      98.59      5  \n",
       "...          ...                ...      ...     ...        ...    ...  \n",
       "20021          1                  0    23.59    1364      67.05      5  \n",
       "20022          2                  0    17.50    1373      91.10      7  \n",
       "20023          1                  0    21.14    1498     103.52      5  \n",
       "20024          1                  0    16.00    2179     140.00      7  \n",
       "20025          2                  1    18.00    1497     117.60      5  \n",
       "\n",
       "[20026 rows x 16 columns]"
      ]
     },
     "execution_count": 665,
     "metadata": {},
     "output_type": "execute_result"
    }
   ],
   "source": [
    "df"
   ]
  },
  {
   "cell_type": "markdown",
   "id": "c05a4349",
   "metadata": {},
   "source": [
    "# Feature engineering ==========================================="
   ]
  },
  {
   "cell_type": "code",
   "execution_count": 703,
   "id": "67320aa7",
   "metadata": {},
   "outputs": [],
   "source": [
    "df1 = df.copy()"
   ]
  },
  {
   "cell_type": "code",
   "execution_count": 704,
   "id": "9b2295c1",
   "metadata": {},
   "outputs": [],
   "source": [
    "# df1"
   ]
  },
  {
   "cell_type": "code",
   "execution_count": 705,
   "id": "af65c38f",
   "metadata": {
    "scrolled": false
   },
   "outputs": [],
   "source": [
    "# df1.info()"
   ]
  },
  {
   "cell_type": "code",
   "execution_count": 706,
   "id": "eebf87d3",
   "metadata": {},
   "outputs": [],
   "source": [
    "columns = ['selling_price', 'engine','max_power']\n",
    "new_df = df1[columns]\n",
    "# df1 = df1.drop(['min_price', 'max_price'], axis = 1)"
   ]
  },
  {
   "cell_type": "code",
   "execution_count": 707,
   "id": "20c9564f",
   "metadata": {
    "scrolled": false
   },
   "outputs": [
    {
     "data": {
      "text/html": [
       "<div>\n",
       "<style scoped>\n",
       "    .dataframe tbody tr th:only-of-type {\n",
       "        vertical-align: middle;\n",
       "    }\n",
       "\n",
       "    .dataframe tbody tr th {\n",
       "        vertical-align: top;\n",
       "    }\n",
       "\n",
       "    .dataframe thead th {\n",
       "        text-align: right;\n",
       "    }\n",
       "</style>\n",
       "<table border=\"1\" class=\"dataframe\">\n",
       "  <thead>\n",
       "    <tr style=\"text-align: right;\">\n",
       "      <th></th>\n",
       "      <th>selling_price</th>\n",
       "      <th>engine</th>\n",
       "      <th>max_power</th>\n",
       "    </tr>\n",
       "  </thead>\n",
       "  <tbody>\n",
       "    <tr>\n",
       "      <th>0</th>\n",
       "      <td>0.002407</td>\n",
       "      <td>0.108383</td>\n",
       "      <td>0.034799</td>\n",
       "    </tr>\n",
       "    <tr>\n",
       "      <th>1</th>\n",
       "      <td>0.013300</td>\n",
       "      <td>0.168413</td>\n",
       "      <td>0.094239</td>\n",
       "    </tr>\n",
       "    <tr>\n",
       "      <th>2</th>\n",
       "      <td>0.004813</td>\n",
       "      <td>0.168413</td>\n",
       "      <td>0.090909</td>\n",
       "    </tr>\n",
       "    <tr>\n",
       "      <th>3</th>\n",
       "      <td>0.005092</td>\n",
       "      <td>0.138623</td>\n",
       "      <td>0.069431</td>\n",
       "    </tr>\n",
       "    <tr>\n",
       "      <th>4</th>\n",
       "      <td>0.013806</td>\n",
       "      <td>0.213473</td>\n",
       "      <td>0.121861</td>\n",
       "    </tr>\n",
       "    <tr>\n",
       "      <th>...</th>\n",
       "      <td>...</td>\n",
       "      <td>...</td>\n",
       "      <td>...</td>\n",
       "    </tr>\n",
       "    <tr>\n",
       "      <th>20021</th>\n",
       "      <td>0.015833</td>\n",
       "      <td>0.193413</td>\n",
       "      <td>0.069347</td>\n",
       "    </tr>\n",
       "    <tr>\n",
       "      <th>20022</th>\n",
       "      <td>0.022799</td>\n",
       "      <td>0.194760</td>\n",
       "      <td>0.109391</td>\n",
       "    </tr>\n",
       "    <tr>\n",
       "      <th>20023</th>\n",
       "      <td>0.010133</td>\n",
       "      <td>0.213473</td>\n",
       "      <td>0.130070</td>\n",
       "    </tr>\n",
       "    <tr>\n",
       "      <th>20024</th>\n",
       "      <td>0.030399</td>\n",
       "      <td>0.315419</td>\n",
       "      <td>0.190809</td>\n",
       "    </tr>\n",
       "    <tr>\n",
       "      <th>20025</th>\n",
       "      <td>0.029766</td>\n",
       "      <td>0.213323</td>\n",
       "      <td>0.153513</td>\n",
       "    </tr>\n",
       "  </tbody>\n",
       "</table>\n",
       "<p>20026 rows × 3 columns</p>\n",
       "</div>"
      ],
      "text/plain": [
       "       selling_price    engine  max_power\n",
       "0           0.002407  0.108383   0.034799\n",
       "1           0.013300  0.168413   0.094239\n",
       "2           0.004813  0.168413   0.090909\n",
       "3           0.005092  0.138623   0.069431\n",
       "4           0.013806  0.213473   0.121861\n",
       "...              ...       ...        ...\n",
       "20021       0.015833  0.193413   0.069347\n",
       "20022       0.022799  0.194760   0.109391\n",
       "20023       0.010133  0.213473   0.130070\n",
       "20024       0.030399  0.315419   0.190809\n",
       "20025       0.029766  0.213323   0.153513\n",
       "\n",
       "[20026 rows x 3 columns]"
      ]
     },
     "execution_count": 707,
     "metadata": {},
     "output_type": "execute_result"
    }
   ],
   "source": [
    "normal_scalar = MinMaxScaler()\n",
    "array1 = normal_scalar.fit_transform(new_df)\n",
    "new_df1 = pd.DataFrame(array1, columns = new_df.columns)\n",
    "new_df1"
   ]
  },
  {
   "cell_type": "code",
   "execution_count": 708,
   "id": "d7ed28a9",
   "metadata": {},
   "outputs": [],
   "source": [
    "new_df1.insert(0, \"min_price\", value = df1['min_price'])"
   ]
  },
  {
   "cell_type": "code",
   "execution_count": 709,
   "id": "ba1e1b77",
   "metadata": {},
   "outputs": [
    {
     "data": {
      "text/html": [
       "<div>\n",
       "<style scoped>\n",
       "    .dataframe tbody tr th:only-of-type {\n",
       "        vertical-align: middle;\n",
       "    }\n",
       "\n",
       "    .dataframe tbody tr th {\n",
       "        vertical-align: top;\n",
       "    }\n",
       "\n",
       "    .dataframe thead th {\n",
       "        text-align: right;\n",
       "    }\n",
       "</style>\n",
       "<table border=\"1\" class=\"dataframe\">\n",
       "  <thead>\n",
       "    <tr style=\"text-align: right;\">\n",
       "      <th></th>\n",
       "      <th>min_price</th>\n",
       "      <th>selling_price</th>\n",
       "      <th>engine</th>\n",
       "      <th>max_power</th>\n",
       "    </tr>\n",
       "  </thead>\n",
       "  <tbody>\n",
       "    <tr>\n",
       "      <th>0</th>\n",
       "      <td>NaN</td>\n",
       "      <td>0.002407</td>\n",
       "      <td>0.108383</td>\n",
       "      <td>0.034799</td>\n",
       "    </tr>\n",
       "    <tr>\n",
       "      <th>1</th>\n",
       "      <td>711000.0</td>\n",
       "      <td>0.013300</td>\n",
       "      <td>0.168413</td>\n",
       "      <td>0.094239</td>\n",
       "    </tr>\n",
       "    <tr>\n",
       "      <th>2</th>\n",
       "      <td>NaN</td>\n",
       "      <td>0.004813</td>\n",
       "      <td>0.168413</td>\n",
       "      <td>0.090909</td>\n",
       "    </tr>\n",
       "    <tr>\n",
       "      <th>3</th>\n",
       "      <td>NaN</td>\n",
       "      <td>0.005092</td>\n",
       "      <td>0.138623</td>\n",
       "      <td>0.069431</td>\n",
       "    </tr>\n",
       "    <tr>\n",
       "      <th>4</th>\n",
       "      <td>1014000.0</td>\n",
       "      <td>0.013806</td>\n",
       "      <td>0.213473</td>\n",
       "      <td>0.121861</td>\n",
       "    </tr>\n",
       "    <tr>\n",
       "      <th>5</th>\n",
       "      <td>516000.0</td>\n",
       "      <td>0.008233</td>\n",
       "      <td>0.138623</td>\n",
       "      <td>0.069431</td>\n",
       "    </tr>\n",
       "    <tr>\n",
       "      <th>6</th>\n",
       "      <td>654000.0</td>\n",
       "      <td>0.007346</td>\n",
       "      <td>0.168413</td>\n",
       "      <td>0.089078</td>\n",
       "    </tr>\n",
       "    <tr>\n",
       "      <th>7</th>\n",
       "      <td>526000.0</td>\n",
       "      <td>0.009753</td>\n",
       "      <td>0.138623</td>\n",
       "      <td>0.069331</td>\n",
       "    </tr>\n",
       "    <tr>\n",
       "      <th>8</th>\n",
       "      <td>770000.0</td>\n",
       "      <td>0.025966</td>\n",
       "      <td>0.138623</td>\n",
       "      <td>0.154762</td>\n",
       "    </tr>\n",
       "    <tr>\n",
       "      <th>9</th>\n",
       "      <td>NaN</td>\n",
       "      <td>0.013933</td>\n",
       "      <td>0.212725</td>\n",
       "      <td>0.124209</td>\n",
       "    </tr>\n",
       "  </tbody>\n",
       "</table>\n",
       "</div>"
      ],
      "text/plain": [
       "   min_price  selling_price    engine  max_power\n",
       "0        NaN       0.002407  0.108383   0.034799\n",
       "1   711000.0       0.013300  0.168413   0.094239\n",
       "2        NaN       0.004813  0.168413   0.090909\n",
       "3        NaN       0.005092  0.138623   0.069431\n",
       "4  1014000.0       0.013806  0.213473   0.121861\n",
       "5   516000.0       0.008233  0.138623   0.069431\n",
       "6   654000.0       0.007346  0.168413   0.089078\n",
       "7   526000.0       0.009753  0.138623   0.069331\n",
       "8   770000.0       0.025966  0.138623   0.154762\n",
       "9        NaN       0.013933  0.212725   0.124209"
      ]
     },
     "execution_count": 709,
     "metadata": {},
     "output_type": "execute_result"
    }
   ],
   "source": [
    "new_df1.head(10)"
   ]
  },
  {
   "cell_type": "code",
   "execution_count": 710,
   "id": "ee5a27d4",
   "metadata": {
    "scrolled": false
   },
   "outputs": [
    {
     "data": {
      "text/html": [
       "<div>\n",
       "<style scoped>\n",
       "    .dataframe tbody tr th:only-of-type {\n",
       "        vertical-align: middle;\n",
       "    }\n",
       "\n",
       "    .dataframe tbody tr th {\n",
       "        vertical-align: top;\n",
       "    }\n",
       "\n",
       "    .dataframe thead th {\n",
       "        text-align: right;\n",
       "    }\n",
       "</style>\n",
       "<table border=\"1\" class=\"dataframe\">\n",
       "  <thead>\n",
       "    <tr style=\"text-align: right;\">\n",
       "      <th></th>\n",
       "      <th>min_price</th>\n",
       "      <th>selling_price</th>\n",
       "      <th>engine</th>\n",
       "      <th>max_power</th>\n",
       "    </tr>\n",
       "  </thead>\n",
       "  <tbody>\n",
       "    <tr>\n",
       "      <th>0</th>\n",
       "      <td>3.390000e+05</td>\n",
       "      <td>0.002407</td>\n",
       "      <td>0.108383</td>\n",
       "      <td>0.034799</td>\n",
       "    </tr>\n",
       "    <tr>\n",
       "      <th>1</th>\n",
       "      <td>7.110000e+05</td>\n",
       "      <td>0.013300</td>\n",
       "      <td>0.168413</td>\n",
       "      <td>0.094239</td>\n",
       "    </tr>\n",
       "    <tr>\n",
       "      <th>2</th>\n",
       "      <td>7.830000e+05</td>\n",
       "      <td>0.004813</td>\n",
       "      <td>0.168413</td>\n",
       "      <td>0.090909</td>\n",
       "    </tr>\n",
       "    <tr>\n",
       "      <th>3</th>\n",
       "      <td>4.313333e+05</td>\n",
       "      <td>0.005092</td>\n",
       "      <td>0.138623</td>\n",
       "      <td>0.069431</td>\n",
       "    </tr>\n",
       "    <tr>\n",
       "      <th>4</th>\n",
       "      <td>1.014000e+06</td>\n",
       "      <td>0.013806</td>\n",
       "      <td>0.213473</td>\n",
       "      <td>0.121861</td>\n",
       "    </tr>\n",
       "    <tr>\n",
       "      <th>5</th>\n",
       "      <td>5.160000e+05</td>\n",
       "      <td>0.008233</td>\n",
       "      <td>0.138623</td>\n",
       "      <td>0.069431</td>\n",
       "    </tr>\n",
       "    <tr>\n",
       "      <th>6</th>\n",
       "      <td>6.540000e+05</td>\n",
       "      <td>0.007346</td>\n",
       "      <td>0.168413</td>\n",
       "      <td>0.089078</td>\n",
       "    </tr>\n",
       "    <tr>\n",
       "      <th>7</th>\n",
       "      <td>5.260000e+05</td>\n",
       "      <td>0.009753</td>\n",
       "      <td>0.138623</td>\n",
       "      <td>0.069331</td>\n",
       "    </tr>\n",
       "    <tr>\n",
       "      <th>8</th>\n",
       "      <td>7.700000e+05</td>\n",
       "      <td>0.025966</td>\n",
       "      <td>0.138623</td>\n",
       "      <td>0.154762</td>\n",
       "    </tr>\n",
       "    <tr>\n",
       "      <th>9</th>\n",
       "      <td>1.000333e+06</td>\n",
       "      <td>0.013933</td>\n",
       "      <td>0.212725</td>\n",
       "      <td>0.124209</td>\n",
       "    </tr>\n",
       "  </tbody>\n",
       "</table>\n",
       "</div>"
      ],
      "text/plain": [
       "      min_price  selling_price    engine  max_power\n",
       "0  3.390000e+05       0.002407  0.108383   0.034799\n",
       "1  7.110000e+05       0.013300  0.168413   0.094239\n",
       "2  7.830000e+05       0.004813  0.168413   0.090909\n",
       "3  4.313333e+05       0.005092  0.138623   0.069431\n",
       "4  1.014000e+06       0.013806  0.213473   0.121861\n",
       "5  5.160000e+05       0.008233  0.138623   0.069431\n",
       "6  6.540000e+05       0.007346  0.168413   0.089078\n",
       "7  5.260000e+05       0.009753  0.138623   0.069331\n",
       "8  7.700000e+05       0.025966  0.138623   0.154762\n",
       "9  1.000333e+06       0.013933  0.212725   0.124209"
      ]
     },
     "execution_count": 710,
     "metadata": {},
     "output_type": "execute_result"
    }
   ],
   "source": [
    "knn_imputer = KNNImputer(n_neighbors=3)\n",
    "array = knn_imputer.fit_transform(new_df1)\n",
    "filled_df = pd.DataFrame(array, columns=new_df1.columns)\n",
    "filled_df.head(10)"
   ]
  },
  {
   "cell_type": "code",
   "execution_count": 711,
   "id": "a5947f13",
   "metadata": {},
   "outputs": [],
   "source": [
    "df1['min_price'] = filled_df['min_price']"
   ]
  },
  {
   "cell_type": "markdown",
   "id": "0c4726f5",
   "metadata": {},
   "source": [
    "# ============================================================="
   ]
  },
  {
   "cell_type": "code",
   "execution_count": 712,
   "id": "83f615dd",
   "metadata": {
    "scrolled": true
   },
   "outputs": [],
   "source": [
    "df2 = df1.copy()\n",
    "\n",
    "columns = ['selling_price', 'engine']\n",
    "new_df = df2[columns]\n",
    "\n",
    "normal_scalar = MinMaxScaler()\n",
    "array1 = normal_scalar.fit_transform(new_df)\n",
    "new_df1 = pd.DataFrame(array1, columns = new_df.columns)\n",
    "\n",
    "new_df1.insert(0, \"max_price\", value = df2['max_price'])"
   ]
  },
  {
   "cell_type": "code",
   "execution_count": 713,
   "id": "0c7f1ad5",
   "metadata": {
    "scrolled": true
   },
   "outputs": [
    {
     "data": {
      "text/html": [
       "<div>\n",
       "<style scoped>\n",
       "    .dataframe tbody tr th:only-of-type {\n",
       "        vertical-align: middle;\n",
       "    }\n",
       "\n",
       "    .dataframe tbody tr th {\n",
       "        vertical-align: top;\n",
       "    }\n",
       "\n",
       "    .dataframe thead th {\n",
       "        text-align: right;\n",
       "    }\n",
       "</style>\n",
       "<table border=\"1\" class=\"dataframe\">\n",
       "  <thead>\n",
       "    <tr style=\"text-align: right;\">\n",
       "      <th></th>\n",
       "      <th>max_price</th>\n",
       "      <th>selling_price</th>\n",
       "      <th>engine</th>\n",
       "    </tr>\n",
       "  </thead>\n",
       "  <tbody>\n",
       "    <tr>\n",
       "      <th>0</th>\n",
       "      <td>5.133333e+05</td>\n",
       "      <td>0.002407</td>\n",
       "      <td>0.108383</td>\n",
       "    </tr>\n",
       "    <tr>\n",
       "      <th>1</th>\n",
       "      <td>7.480000e+05</td>\n",
       "      <td>0.013300</td>\n",
       "      <td>0.168413</td>\n",
       "    </tr>\n",
       "    <tr>\n",
       "      <th>2</th>\n",
       "      <td>9.096667e+05</td>\n",
       "      <td>0.004813</td>\n",
       "      <td>0.168413</td>\n",
       "    </tr>\n",
       "    <tr>\n",
       "      <th>3</th>\n",
       "      <td>5.796000e+06</td>\n",
       "      <td>0.005092</td>\n",
       "      <td>0.138623</td>\n",
       "    </tr>\n",
       "    <tr>\n",
       "      <th>4</th>\n",
       "      <td>1.379000e+06</td>\n",
       "      <td>0.013806</td>\n",
       "      <td>0.213473</td>\n",
       "    </tr>\n",
       "    <tr>\n",
       "      <th>5</th>\n",
       "      <td>6.940000e+05</td>\n",
       "      <td>0.008233</td>\n",
       "      <td>0.138623</td>\n",
       "    </tr>\n",
       "    <tr>\n",
       "      <th>6</th>\n",
       "      <td>6.630000e+05</td>\n",
       "      <td>0.007346</td>\n",
       "      <td>0.168413</td>\n",
       "    </tr>\n",
       "    <tr>\n",
       "      <th>7</th>\n",
       "      <td>7.010000e+05</td>\n",
       "      <td>0.009753</td>\n",
       "      <td>0.138623</td>\n",
       "    </tr>\n",
       "    <tr>\n",
       "      <th>8</th>\n",
       "      <td>1.302000e+06</td>\n",
       "      <td>0.025966</td>\n",
       "      <td>0.138623</td>\n",
       "    </tr>\n",
       "    <tr>\n",
       "      <th>9</th>\n",
       "      <td>1.648333e+06</td>\n",
       "      <td>0.013933</td>\n",
       "      <td>0.212725</td>\n",
       "    </tr>\n",
       "  </tbody>\n",
       "</table>\n",
       "</div>"
      ],
      "text/plain": [
       "      max_price  selling_price    engine\n",
       "0  5.133333e+05       0.002407  0.108383\n",
       "1  7.480000e+05       0.013300  0.168413\n",
       "2  9.096667e+05       0.004813  0.168413\n",
       "3  5.796000e+06       0.005092  0.138623\n",
       "4  1.379000e+06       0.013806  0.213473\n",
       "5  6.940000e+05       0.008233  0.138623\n",
       "6  6.630000e+05       0.007346  0.168413\n",
       "7  7.010000e+05       0.009753  0.138623\n",
       "8  1.302000e+06       0.025966  0.138623\n",
       "9  1.648333e+06       0.013933  0.212725"
      ]
     },
     "execution_count": 713,
     "metadata": {},
     "output_type": "execute_result"
    }
   ],
   "source": [
    "knn_imputer1 = KNNImputer(n_neighbors=3)\n",
    "array1 = knn_imputer1.fit_transform(new_df1)\n",
    "filled_df1 = pd.DataFrame(array1, columns=new_df1.columns)\n",
    "filled_df1.head(10)"
   ]
  },
  {
   "cell_type": "code",
   "execution_count": 714,
   "id": "f8b1e1c7",
   "metadata": {},
   "outputs": [],
   "source": [
    "df1['max_price'] = filled_df1['max_price']"
   ]
  },
  {
   "cell_type": "code",
   "execution_count": null,
   "id": "dd395aef",
   "metadata": {},
   "outputs": [],
   "source": []
  },
  {
   "cell_type": "code",
   "execution_count": 775,
   "id": "c218893f",
   "metadata": {
    "collapsed": true
   },
   "outputs": [
    {
     "data": {
      "text/html": [
       "<div>\n",
       "<style scoped>\n",
       "    .dataframe tbody tr th:only-of-type {\n",
       "        vertical-align: middle;\n",
       "    }\n",
       "\n",
       "    .dataframe tbody tr th {\n",
       "        vertical-align: top;\n",
       "    }\n",
       "\n",
       "    .dataframe thead th {\n",
       "        text-align: right;\n",
       "    }\n",
       "</style>\n",
       "<table border=\"1\" class=\"dataframe\">\n",
       "  <thead>\n",
       "    <tr style=\"text-align: right;\">\n",
       "      <th></th>\n",
       "      <th>full_name</th>\n",
       "      <th>brand_name</th>\n",
       "      <th>model</th>\n",
       "      <th>min_price</th>\n",
       "      <th>max_price</th>\n",
       "      <th>selling_price</th>\n",
       "      <th>year</th>\n",
       "      <th>seller_type</th>\n",
       "      <th>km_driven</th>\n",
       "      <th>owner_type</th>\n",
       "      <th>fuel_type</th>\n",
       "      <th>transmission_type</th>\n",
       "      <th>mileage</th>\n",
       "      <th>engine</th>\n",
       "      <th>max_power</th>\n",
       "      <th>seats</th>\n",
       "    </tr>\n",
       "  </thead>\n",
       "  <tbody>\n",
       "    <tr>\n",
       "      <th>0</th>\n",
       "      <td>Maruti Alto Std</td>\n",
       "      <td>Maruti</td>\n",
       "      <td>Alto Std</td>\n",
       "      <td>3.390000e+05</td>\n",
       "      <td>5.133333e+05</td>\n",
       "      <td>120000</td>\n",
       "      <td>2012</td>\n",
       "      <td>2</td>\n",
       "      <td>120000</td>\n",
       "      <td>1</td>\n",
       "      <td>2</td>\n",
       "      <td>0</td>\n",
       "      <td>19.70</td>\n",
       "      <td>796</td>\n",
       "      <td>46.30</td>\n",
       "      <td>5</td>\n",
       "    </tr>\n",
       "    <tr>\n",
       "      <th>1</th>\n",
       "      <td>Hyundai Grand i10</td>\n",
       "      <td>Hyundai</td>\n",
       "      <td>Grand i10</td>\n",
       "      <td>7.110000e+05</td>\n",
       "      <td>7.480000e+05</td>\n",
       "      <td>550000</td>\n",
       "      <td>2016</td>\n",
       "      <td>2</td>\n",
       "      <td>20000</td>\n",
       "      <td>1</td>\n",
       "      <td>2</td>\n",
       "      <td>0</td>\n",
       "      <td>18.90</td>\n",
       "      <td>1197</td>\n",
       "      <td>82.00</td>\n",
       "      <td>5</td>\n",
       "    </tr>\n",
       "    <tr>\n",
       "      <th>2</th>\n",
       "      <td>Hyundai i20 Asta</td>\n",
       "      <td>Hyundai</td>\n",
       "      <td>i20 Asta</td>\n",
       "      <td>7.830000e+05</td>\n",
       "      <td>9.096667e+05</td>\n",
       "      <td>215000</td>\n",
       "      <td>2010</td>\n",
       "      <td>2</td>\n",
       "      <td>60000</td>\n",
       "      <td>1</td>\n",
       "      <td>2</td>\n",
       "      <td>0</td>\n",
       "      <td>17.00</td>\n",
       "      <td>1197</td>\n",
       "      <td>80.00</td>\n",
       "      <td>5</td>\n",
       "    </tr>\n",
       "    <tr>\n",
       "      <th>3</th>\n",
       "      <td>Maruti Alto K10</td>\n",
       "      <td>Maruti</td>\n",
       "      <td>Alto K10</td>\n",
       "      <td>4.313333e+05</td>\n",
       "      <td>5.796000e+06</td>\n",
       "      <td>226000</td>\n",
       "      <td>2012</td>\n",
       "      <td>2</td>\n",
       "      <td>37000</td>\n",
       "      <td>1</td>\n",
       "      <td>2</td>\n",
       "      <td>0</td>\n",
       "      <td>20.92</td>\n",
       "      <td>998</td>\n",
       "      <td>67.10</td>\n",
       "      <td>5</td>\n",
       "    </tr>\n",
       "    <tr>\n",
       "      <th>4</th>\n",
       "      <td>Ford Ecosport 2015-2021</td>\n",
       "      <td>Ford</td>\n",
       "      <td>Ecosport 2015-2021</td>\n",
       "      <td>1.014000e+06</td>\n",
       "      <td>1.379000e+06</td>\n",
       "      <td>570000</td>\n",
       "      <td>2015</td>\n",
       "      <td>1</td>\n",
       "      <td>30000</td>\n",
       "      <td>1</td>\n",
       "      <td>1</td>\n",
       "      <td>0</td>\n",
       "      <td>22.77</td>\n",
       "      <td>1498</td>\n",
       "      <td>98.59</td>\n",
       "      <td>5</td>\n",
       "    </tr>\n",
       "    <tr>\n",
       "      <th>...</th>\n",
       "      <td>...</td>\n",
       "      <td>...</td>\n",
       "      <td>...</td>\n",
       "      <td>...</td>\n",
       "      <td>...</td>\n",
       "      <td>...</td>\n",
       "      <td>...</td>\n",
       "      <td>...</td>\n",
       "      <td>...</td>\n",
       "      <td>...</td>\n",
       "      <td>...</td>\n",
       "      <td>...</td>\n",
       "      <td>...</td>\n",
       "      <td>...</td>\n",
       "      <td>...</td>\n",
       "      <td>...</td>\n",
       "    </tr>\n",
       "    <tr>\n",
       "      <th>20021</th>\n",
       "      <td>Toyota Platinum Etios</td>\n",
       "      <td>Toyota</td>\n",
       "      <td>Platinum Etios</td>\n",
       "      <td>8.833333e+05</td>\n",
       "      <td>6.342667e+06</td>\n",
       "      <td>650000</td>\n",
       "      <td>2017</td>\n",
       "      <td>1</td>\n",
       "      <td>69480</td>\n",
       "      <td>1</td>\n",
       "      <td>1</td>\n",
       "      <td>0</td>\n",
       "      <td>23.59</td>\n",
       "      <td>1364</td>\n",
       "      <td>67.05</td>\n",
       "      <td>5</td>\n",
       "    </tr>\n",
       "    <tr>\n",
       "      <th>20022</th>\n",
       "      <td>Maruti Ertiga BSIV</td>\n",
       "      <td>Maruti</td>\n",
       "      <td>Ertiga BSIV</td>\n",
       "      <td>9.270000e+05</td>\n",
       "      <td>1.557000e+06</td>\n",
       "      <td>925000</td>\n",
       "      <td>2019</td>\n",
       "      <td>1</td>\n",
       "      <td>18000</td>\n",
       "      <td>1</td>\n",
       "      <td>2</td>\n",
       "      <td>0</td>\n",
       "      <td>17.50</td>\n",
       "      <td>1373</td>\n",
       "      <td>91.10</td>\n",
       "      <td>7</td>\n",
       "    </tr>\n",
       "    <tr>\n",
       "      <th>20023</th>\n",
       "      <td>Skoda Rapid 1.5</td>\n",
       "      <td>Skoda</td>\n",
       "      <td>Rapid 1.5</td>\n",
       "      <td>1.098667e+06</td>\n",
       "      <td>1.698000e+06</td>\n",
       "      <td>425000</td>\n",
       "      <td>2015</td>\n",
       "      <td>1</td>\n",
       "      <td>67000</td>\n",
       "      <td>1</td>\n",
       "      <td>1</td>\n",
       "      <td>0</td>\n",
       "      <td>21.14</td>\n",
       "      <td>1498</td>\n",
       "      <td>103.52</td>\n",
       "      <td>5</td>\n",
       "    </tr>\n",
       "    <tr>\n",
       "      <th>20024</th>\n",
       "      <td>Mahindra XUV500 W6</td>\n",
       "      <td>Mahindra</td>\n",
       "      <td>XUV500 W6</td>\n",
       "      <td>1.783000e+06</td>\n",
       "      <td>2.491000e+06</td>\n",
       "      <td>1225000</td>\n",
       "      <td>2016</td>\n",
       "      <td>1</td>\n",
       "      <td>3800000</td>\n",
       "      <td>1</td>\n",
       "      <td>1</td>\n",
       "      <td>0</td>\n",
       "      <td>16.00</td>\n",
       "      <td>2179</td>\n",
       "      <td>140.00</td>\n",
       "      <td>7</td>\n",
       "    </tr>\n",
       "    <tr>\n",
       "      <th>20025</th>\n",
       "      <td>Honda City i-VTEC</td>\n",
       "      <td>Honda</td>\n",
       "      <td>City i-VTEC</td>\n",
       "      <td>1.297667e+06</td>\n",
       "      <td>1.681667e+06</td>\n",
       "      <td>1200000</td>\n",
       "      <td>2019</td>\n",
       "      <td>1</td>\n",
       "      <td>13000</td>\n",
       "      <td>1</td>\n",
       "      <td>2</td>\n",
       "      <td>1</td>\n",
       "      <td>18.00</td>\n",
       "      <td>1497</td>\n",
       "      <td>117.60</td>\n",
       "      <td>5</td>\n",
       "    </tr>\n",
       "  </tbody>\n",
       "</table>\n",
       "<p>20026 rows × 16 columns</p>\n",
       "</div>"
      ],
      "text/plain": [
       "                     full_name brand_name               model     min_price  \\\n",
       "0              Maruti Alto Std     Maruti            Alto Std  3.390000e+05   \n",
       "1            Hyundai Grand i10    Hyundai           Grand i10  7.110000e+05   \n",
       "2             Hyundai i20 Asta    Hyundai            i20 Asta  7.830000e+05   \n",
       "3              Maruti Alto K10     Maruti            Alto K10  4.313333e+05   \n",
       "4      Ford Ecosport 2015-2021       Ford  Ecosport 2015-2021  1.014000e+06   \n",
       "...                        ...        ...                 ...           ...   \n",
       "20021    Toyota Platinum Etios     Toyota      Platinum Etios  8.833333e+05   \n",
       "20022       Maruti Ertiga BSIV     Maruti         Ertiga BSIV  9.270000e+05   \n",
       "20023          Skoda Rapid 1.5      Skoda           Rapid 1.5  1.098667e+06   \n",
       "20024       Mahindra XUV500 W6   Mahindra           XUV500 W6  1.783000e+06   \n",
       "20025        Honda City i-VTEC      Honda         City i-VTEC  1.297667e+06   \n",
       "\n",
       "          max_price  selling_price  year  seller_type  km_driven  owner_type  \\\n",
       "0      5.133333e+05         120000  2012            2     120000           1   \n",
       "1      7.480000e+05         550000  2016            2      20000           1   \n",
       "2      9.096667e+05         215000  2010            2      60000           1   \n",
       "3      5.796000e+06         226000  2012            2      37000           1   \n",
       "4      1.379000e+06         570000  2015            1      30000           1   \n",
       "...             ...            ...   ...          ...        ...         ...   \n",
       "20021  6.342667e+06         650000  2017            1      69480           1   \n",
       "20022  1.557000e+06         925000  2019            1      18000           1   \n",
       "20023  1.698000e+06         425000  2015            1      67000           1   \n",
       "20024  2.491000e+06        1225000  2016            1    3800000           1   \n",
       "20025  1.681667e+06        1200000  2019            1      13000           1   \n",
       "\n",
       "       fuel_type  transmission_type  mileage  engine  max_power  seats  \n",
       "0              2                  0    19.70     796      46.30      5  \n",
       "1              2                  0    18.90    1197      82.00      5  \n",
       "2              2                  0    17.00    1197      80.00      5  \n",
       "3              2                  0    20.92     998      67.10      5  \n",
       "4              1                  0    22.77    1498      98.59      5  \n",
       "...          ...                ...      ...     ...        ...    ...  \n",
       "20021          1                  0    23.59    1364      67.05      5  \n",
       "20022          2                  0    17.50    1373      91.10      7  \n",
       "20023          1                  0    21.14    1498     103.52      5  \n",
       "20024          1                  0    16.00    2179     140.00      7  \n",
       "20025          2                  1    18.00    1497     117.60      5  \n",
       "\n",
       "[20026 rows x 16 columns]"
      ]
     },
     "execution_count": 775,
     "metadata": {},
     "output_type": "execute_result"
    }
   ],
   "source": [
    "df1"
   ]
  },
  {
   "cell_type": "markdown",
   "id": "49c723c4",
   "metadata": {},
   "source": [
    "# 5) Feature selection"
   ]
  },
  {
   "cell_type": "code",
   "execution_count": null,
   "id": "f9fa4a6d",
   "metadata": {},
   "outputs": [],
   "source": []
  },
  {
   "cell_type": "markdown",
   "id": "48931b00",
   "metadata": {},
   "source": [
    "# 6) Model Training"
   ]
  },
  {
   "cell_type": "code",
   "execution_count": 777,
   "id": "858595c3",
   "metadata": {},
   "outputs": [],
   "source": [
    "from sklearn.preprocessing import OneHotEncoder\n",
    "from sklearn.compose import make_column_transformer\n",
    "from sklearn.pipeline import make_pipeline"
   ]
  },
  {
   "cell_type": "markdown",
   "id": "11b06cf2",
   "metadata": {},
   "source": [
    "#### train_test_split"
   ]
  },
  {
   "cell_type": "code",
   "execution_count": 778,
   "id": "22a869db",
   "metadata": {},
   "outputs": [
    {
     "data": {
      "text/html": [
       "<style>#sk-container-id-30 {color: black;background-color: white;}#sk-container-id-30 pre{padding: 0;}#sk-container-id-30 div.sk-toggleable {background-color: white;}#sk-container-id-30 label.sk-toggleable__label {cursor: pointer;display: block;width: 100%;margin-bottom: 0;padding: 0.3em;box-sizing: border-box;text-align: center;}#sk-container-id-30 label.sk-toggleable__label-arrow:before {content: \"▸\";float: left;margin-right: 0.25em;color: #696969;}#sk-container-id-30 label.sk-toggleable__label-arrow:hover:before {color: black;}#sk-container-id-30 div.sk-estimator:hover label.sk-toggleable__label-arrow:before {color: black;}#sk-container-id-30 div.sk-toggleable__content {max-height: 0;max-width: 0;overflow: hidden;text-align: left;background-color: #f0f8ff;}#sk-container-id-30 div.sk-toggleable__content pre {margin: 0.2em;color: black;border-radius: 0.25em;background-color: #f0f8ff;}#sk-container-id-30 input.sk-toggleable__control:checked~div.sk-toggleable__content {max-height: 200px;max-width: 100%;overflow: auto;}#sk-container-id-30 input.sk-toggleable__control:checked~label.sk-toggleable__label-arrow:before {content: \"▾\";}#sk-container-id-30 div.sk-estimator input.sk-toggleable__control:checked~label.sk-toggleable__label {background-color: #d4ebff;}#sk-container-id-30 div.sk-label input.sk-toggleable__control:checked~label.sk-toggleable__label {background-color: #d4ebff;}#sk-container-id-30 input.sk-hidden--visually {border: 0;clip: rect(1px 1px 1px 1px);clip: rect(1px, 1px, 1px, 1px);height: 1px;margin: -1px;overflow: hidden;padding: 0;position: absolute;width: 1px;}#sk-container-id-30 div.sk-estimator {font-family: monospace;background-color: #f0f8ff;border: 1px dotted black;border-radius: 0.25em;box-sizing: border-box;margin-bottom: 0.5em;}#sk-container-id-30 div.sk-estimator:hover {background-color: #d4ebff;}#sk-container-id-30 div.sk-parallel-item::after {content: \"\";width: 100%;border-bottom: 1px solid gray;flex-grow: 1;}#sk-container-id-30 div.sk-label:hover label.sk-toggleable__label {background-color: #d4ebff;}#sk-container-id-30 div.sk-serial::before {content: \"\";position: absolute;border-left: 1px solid gray;box-sizing: border-box;top: 0;bottom: 0;left: 50%;z-index: 0;}#sk-container-id-30 div.sk-serial {display: flex;flex-direction: column;align-items: center;background-color: white;padding-right: 0.2em;padding-left: 0.2em;position: relative;}#sk-container-id-30 div.sk-item {position: relative;z-index: 1;}#sk-container-id-30 div.sk-parallel {display: flex;align-items: stretch;justify-content: center;background-color: white;position: relative;}#sk-container-id-30 div.sk-item::before, #sk-container-id-30 div.sk-parallel-item::before {content: \"\";position: absolute;border-left: 1px solid gray;box-sizing: border-box;top: 0;bottom: 0;left: 50%;z-index: -1;}#sk-container-id-30 div.sk-parallel-item {display: flex;flex-direction: column;z-index: 1;position: relative;background-color: white;}#sk-container-id-30 div.sk-parallel-item:first-child::after {align-self: flex-end;width: 50%;}#sk-container-id-30 div.sk-parallel-item:last-child::after {align-self: flex-start;width: 50%;}#sk-container-id-30 div.sk-parallel-item:only-child::after {width: 0;}#sk-container-id-30 div.sk-dashed-wrapped {border: 1px dashed gray;margin: 0 0.4em 0.5em 0.4em;box-sizing: border-box;padding-bottom: 0.4em;background-color: white;}#sk-container-id-30 div.sk-label label {font-family: monospace;font-weight: bold;display: inline-block;line-height: 1.2em;}#sk-container-id-30 div.sk-label-container {text-align: center;}#sk-container-id-30 div.sk-container {/* jupyter's `normalize.less` sets `[hidden] { display: none; }` but bootstrap.min.css set `[hidden] { display: none !important; }` so we also need the `!important` here to be able to override the default hidden behavior on the sphinx rendered scikit-learn.org. See: https://github.com/scikit-learn/scikit-learn/issues/21755 */display: inline-block !important;position: relative;}#sk-container-id-30 div.sk-text-repr-fallback {display: none;}</style><div id=\"sk-container-id-30\" class=\"sk-top-container\"><div class=\"sk-text-repr-fallback\"><pre>OneHotEncoder()</pre><b>In a Jupyter environment, please rerun this cell to show the HTML representation or trust the notebook. <br />On GitHub, the HTML representation is unable to render, please try loading this page with nbviewer.org.</b></div><div class=\"sk-container\" hidden><div class=\"sk-item\"><div class=\"sk-estimator sk-toggleable\"><input class=\"sk-toggleable__control sk-hidden--visually\" id=\"sk-estimator-id-156\" type=\"checkbox\" checked><label for=\"sk-estimator-id-156\" class=\"sk-toggleable__label sk-toggleable__label-arrow\">OneHotEncoder</label><div class=\"sk-toggleable__content\"><pre>OneHotEncoder()</pre></div></div></div></div></div>"
      ],
      "text/plain": [
       "OneHotEncoder()"
      ]
     },
     "execution_count": 778,
     "metadata": {},
     "output_type": "execute_result"
    }
   ],
   "source": [
    "x = df1.drop(['selling_price', 'model'], axis=1)\n",
    "y = df1['selling_price']\n",
    "x_train, x_test, y_train, y_test = train_test_split(x, y , test_size= 0.2, random_state= 42)\n",
    "\n",
    "## Creates object for one hot encoding on specified columns, which can be used for pipeline and column transformer\n",
    "ohe = OneHotEncoder()\n",
    "ohe.fit(x[[\"full_name\", \"brand_name\"]])"
   ]
  },
  {
   "cell_type": "code",
   "execution_count": 779,
   "id": "0b6c0937",
   "metadata": {},
   "outputs": [],
   "source": [
    "# ohe.categories_ ## Returns Unique values of each columns in array type"
   ]
  },
  {
   "cell_type": "code",
   "execution_count": 780,
   "id": "997d4569",
   "metadata": {},
   "outputs": [
    {
     "data": {
      "text/html": [
       "<style>#sk-container-id-31 {color: black;background-color: white;}#sk-container-id-31 pre{padding: 0;}#sk-container-id-31 div.sk-toggleable {background-color: white;}#sk-container-id-31 label.sk-toggleable__label {cursor: pointer;display: block;width: 100%;margin-bottom: 0;padding: 0.3em;box-sizing: border-box;text-align: center;}#sk-container-id-31 label.sk-toggleable__label-arrow:before {content: \"▸\";float: left;margin-right: 0.25em;color: #696969;}#sk-container-id-31 label.sk-toggleable__label-arrow:hover:before {color: black;}#sk-container-id-31 div.sk-estimator:hover label.sk-toggleable__label-arrow:before {color: black;}#sk-container-id-31 div.sk-toggleable__content {max-height: 0;max-width: 0;overflow: hidden;text-align: left;background-color: #f0f8ff;}#sk-container-id-31 div.sk-toggleable__content pre {margin: 0.2em;color: black;border-radius: 0.25em;background-color: #f0f8ff;}#sk-container-id-31 input.sk-toggleable__control:checked~div.sk-toggleable__content {max-height: 200px;max-width: 100%;overflow: auto;}#sk-container-id-31 input.sk-toggleable__control:checked~label.sk-toggleable__label-arrow:before {content: \"▾\";}#sk-container-id-31 div.sk-estimator input.sk-toggleable__control:checked~label.sk-toggleable__label {background-color: #d4ebff;}#sk-container-id-31 div.sk-label input.sk-toggleable__control:checked~label.sk-toggleable__label {background-color: #d4ebff;}#sk-container-id-31 input.sk-hidden--visually {border: 0;clip: rect(1px 1px 1px 1px);clip: rect(1px, 1px, 1px, 1px);height: 1px;margin: -1px;overflow: hidden;padding: 0;position: absolute;width: 1px;}#sk-container-id-31 div.sk-estimator {font-family: monospace;background-color: #f0f8ff;border: 1px dotted black;border-radius: 0.25em;box-sizing: border-box;margin-bottom: 0.5em;}#sk-container-id-31 div.sk-estimator:hover {background-color: #d4ebff;}#sk-container-id-31 div.sk-parallel-item::after {content: \"\";width: 100%;border-bottom: 1px solid gray;flex-grow: 1;}#sk-container-id-31 div.sk-label:hover label.sk-toggleable__label {background-color: #d4ebff;}#sk-container-id-31 div.sk-serial::before {content: \"\";position: absolute;border-left: 1px solid gray;box-sizing: border-box;top: 0;bottom: 0;left: 50%;z-index: 0;}#sk-container-id-31 div.sk-serial {display: flex;flex-direction: column;align-items: center;background-color: white;padding-right: 0.2em;padding-left: 0.2em;position: relative;}#sk-container-id-31 div.sk-item {position: relative;z-index: 1;}#sk-container-id-31 div.sk-parallel {display: flex;align-items: stretch;justify-content: center;background-color: white;position: relative;}#sk-container-id-31 div.sk-item::before, #sk-container-id-31 div.sk-parallel-item::before {content: \"\";position: absolute;border-left: 1px solid gray;box-sizing: border-box;top: 0;bottom: 0;left: 50%;z-index: -1;}#sk-container-id-31 div.sk-parallel-item {display: flex;flex-direction: column;z-index: 1;position: relative;background-color: white;}#sk-container-id-31 div.sk-parallel-item:first-child::after {align-self: flex-end;width: 50%;}#sk-container-id-31 div.sk-parallel-item:last-child::after {align-self: flex-start;width: 50%;}#sk-container-id-31 div.sk-parallel-item:only-child::after {width: 0;}#sk-container-id-31 div.sk-dashed-wrapped {border: 1px dashed gray;margin: 0 0.4em 0.5em 0.4em;box-sizing: border-box;padding-bottom: 0.4em;background-color: white;}#sk-container-id-31 div.sk-label label {font-family: monospace;font-weight: bold;display: inline-block;line-height: 1.2em;}#sk-container-id-31 div.sk-label-container {text-align: center;}#sk-container-id-31 div.sk-container {/* jupyter's `normalize.less` sets `[hidden] { display: none; }` but bootstrap.min.css set `[hidden] { display: none !important; }` so we also need the `!important` here to be able to override the default hidden behavior on the sphinx rendered scikit-learn.org. See: https://github.com/scikit-learn/scikit-learn/issues/21755 */display: inline-block !important;position: relative;}#sk-container-id-31 div.sk-text-repr-fallback {display: none;}</style><div id=\"sk-container-id-31\" class=\"sk-top-container\"><div class=\"sk-text-repr-fallback\"><pre>ColumnTransformer(remainder=&#x27;passthrough&#x27;,\n",
       "                  transformers=[(&#x27;onehotencoder&#x27;,\n",
       "                                 OneHotEncoder(categories=[array([&#x27;Ambassador Avigo 1800&#x27;, &#x27;Ambassador Avigo 2000&#x27;,\n",
       "       &#x27;Ambassador Classic 1800&#x27;, ..., &#x27;Volvo XC60 D4&#x27;, &#x27;Volvo XC60 D5&#x27;,\n",
       "       &#x27;Volvo XC90 D5&#x27;], dtype=object),\n",
       "                                                           array([&#x27;Ambassador&#x27;, &#x27;Audi&#x27;, &#x27;BMW&#x27;, &#x27;Bentley&#x27;, &#x27;Chevrolet&#x27;, &#x27;DC&#x27;,\n",
       "       &#x27;Daewoo&#x27;, &#x27;Datsun&#x27;, &#x27;Ferrari&#x27;, &#x27;Fiat&#x27;, &#x27;Force&#x27;, &#x27;Ford&#x27;, &#x27;Honda&#x27;,\n",
       "       &#x27;Hyundai&#x27;, &#x27;ISUZU&#x27;, &#x27;Isuzu&#x27;, &#x27;Jaguar&#x27;, &#x27;Jeep&#x27;, &#x27;Kia&#x27;,\n",
       "       &#x27;Lamborghini&#x27;, &#x27;Land&#x27;, &#x27;Lexus&#x27;, &#x27;MG&#x27;, &#x27;Mahindra&#x27;, &#x27;Maruti&#x27;,\n",
       "       &#x27;Maserati&#x27;, &#x27;Mercedes-AMG&#x27;, &#x27;Mercedes-Benz&#x27;, &#x27;Mini&#x27;, &#x27;Mitsubishi&#x27;,\n",
       "       &#x27;Nissan&#x27;, &#x27;Opel&#x27;, &#x27;OpelCorsa&#x27;, &#x27;Porsche&#x27;, &#x27;Premier&#x27;, &#x27;Renault&#x27;,\n",
       "       &#x27;Rolls-Royce&#x27;, &#x27;Skoda&#x27;, &#x27;Tata&#x27;, &#x27;Toyota&#x27;, &#x27;Volkswagen&#x27;, &#x27;Volvo&#x27;],\n",
       "      dtype=object)]),\n",
       "                                 [&#x27;full_name&#x27;, &#x27;brand_name&#x27;])])</pre><b>In a Jupyter environment, please rerun this cell to show the HTML representation or trust the notebook. <br />On GitHub, the HTML representation is unable to render, please try loading this page with nbviewer.org.</b></div><div class=\"sk-container\" hidden><div class=\"sk-item sk-dashed-wrapped\"><div class=\"sk-label-container\"><div class=\"sk-label sk-toggleable\"><input class=\"sk-toggleable__control sk-hidden--visually\" id=\"sk-estimator-id-157\" type=\"checkbox\" ><label for=\"sk-estimator-id-157\" class=\"sk-toggleable__label sk-toggleable__label-arrow\">ColumnTransformer</label><div class=\"sk-toggleable__content\"><pre>ColumnTransformer(remainder=&#x27;passthrough&#x27;,\n",
       "                  transformers=[(&#x27;onehotencoder&#x27;,\n",
       "                                 OneHotEncoder(categories=[array([&#x27;Ambassador Avigo 1800&#x27;, &#x27;Ambassador Avigo 2000&#x27;,\n",
       "       &#x27;Ambassador Classic 1800&#x27;, ..., &#x27;Volvo XC60 D4&#x27;, &#x27;Volvo XC60 D5&#x27;,\n",
       "       &#x27;Volvo XC90 D5&#x27;], dtype=object),\n",
       "                                                           array([&#x27;Ambassador&#x27;, &#x27;Audi&#x27;, &#x27;BMW&#x27;, &#x27;Bentley&#x27;, &#x27;Chevrolet&#x27;, &#x27;DC&#x27;,\n",
       "       &#x27;Daewoo&#x27;, &#x27;Datsun&#x27;, &#x27;Ferrari&#x27;, &#x27;Fiat&#x27;, &#x27;Force&#x27;, &#x27;Ford&#x27;, &#x27;Honda&#x27;,\n",
       "       &#x27;Hyundai&#x27;, &#x27;ISUZU&#x27;, &#x27;Isuzu&#x27;, &#x27;Jaguar&#x27;, &#x27;Jeep&#x27;, &#x27;Kia&#x27;,\n",
       "       &#x27;Lamborghini&#x27;, &#x27;Land&#x27;, &#x27;Lexus&#x27;, &#x27;MG&#x27;, &#x27;Mahindra&#x27;, &#x27;Maruti&#x27;,\n",
       "       &#x27;Maserati&#x27;, &#x27;Mercedes-AMG&#x27;, &#x27;Mercedes-Benz&#x27;, &#x27;Mini&#x27;, &#x27;Mitsubishi&#x27;,\n",
       "       &#x27;Nissan&#x27;, &#x27;Opel&#x27;, &#x27;OpelCorsa&#x27;, &#x27;Porsche&#x27;, &#x27;Premier&#x27;, &#x27;Renault&#x27;,\n",
       "       &#x27;Rolls-Royce&#x27;, &#x27;Skoda&#x27;, &#x27;Tata&#x27;, &#x27;Toyota&#x27;, &#x27;Volkswagen&#x27;, &#x27;Volvo&#x27;],\n",
       "      dtype=object)]),\n",
       "                                 [&#x27;full_name&#x27;, &#x27;brand_name&#x27;])])</pre></div></div></div><div class=\"sk-parallel\"><div class=\"sk-parallel-item\"><div class=\"sk-item\"><div class=\"sk-label-container\"><div class=\"sk-label sk-toggleable\"><input class=\"sk-toggleable__control sk-hidden--visually\" id=\"sk-estimator-id-158\" type=\"checkbox\" ><label for=\"sk-estimator-id-158\" class=\"sk-toggleable__label sk-toggleable__label-arrow\">onehotencoder</label><div class=\"sk-toggleable__content\"><pre>[&#x27;full_name&#x27;, &#x27;brand_name&#x27;]</pre></div></div></div><div class=\"sk-serial\"><div class=\"sk-item\"><div class=\"sk-estimator sk-toggleable\"><input class=\"sk-toggleable__control sk-hidden--visually\" id=\"sk-estimator-id-159\" type=\"checkbox\" ><label for=\"sk-estimator-id-159\" class=\"sk-toggleable__label sk-toggleable__label-arrow\">OneHotEncoder</label><div class=\"sk-toggleable__content\"><pre>OneHotEncoder(categories=[array([&#x27;Ambassador Avigo 1800&#x27;, &#x27;Ambassador Avigo 2000&#x27;,\n",
       "       &#x27;Ambassador Classic 1800&#x27;, ..., &#x27;Volvo XC60 D4&#x27;, &#x27;Volvo XC60 D5&#x27;,\n",
       "       &#x27;Volvo XC90 D5&#x27;], dtype=object),\n",
       "                          array([&#x27;Ambassador&#x27;, &#x27;Audi&#x27;, &#x27;BMW&#x27;, &#x27;Bentley&#x27;, &#x27;Chevrolet&#x27;, &#x27;DC&#x27;,\n",
       "       &#x27;Daewoo&#x27;, &#x27;Datsun&#x27;, &#x27;Ferrari&#x27;, &#x27;Fiat&#x27;, &#x27;Force&#x27;, &#x27;Ford&#x27;, &#x27;Honda&#x27;,\n",
       "       &#x27;Hyundai&#x27;, &#x27;ISUZU&#x27;, &#x27;Isuzu&#x27;, &#x27;Jaguar&#x27;, &#x27;Jeep&#x27;, &#x27;Kia&#x27;,\n",
       "       &#x27;Lamborghini&#x27;, &#x27;Land&#x27;, &#x27;Lexus&#x27;, &#x27;MG&#x27;, &#x27;Mahindra&#x27;, &#x27;Maruti&#x27;,\n",
       "       &#x27;Maserati&#x27;, &#x27;Mercedes-AMG&#x27;, &#x27;Mercedes-Benz&#x27;, &#x27;Mini&#x27;, &#x27;Mitsubishi&#x27;,\n",
       "       &#x27;Nissan&#x27;, &#x27;Opel&#x27;, &#x27;OpelCorsa&#x27;, &#x27;Porsche&#x27;, &#x27;Premier&#x27;, &#x27;Renault&#x27;,\n",
       "       &#x27;Rolls-Royce&#x27;, &#x27;Skoda&#x27;, &#x27;Tata&#x27;, &#x27;Toyota&#x27;, &#x27;Volkswagen&#x27;, &#x27;Volvo&#x27;],\n",
       "      dtype=object)])</pre></div></div></div></div></div></div><div class=\"sk-parallel-item\"><div class=\"sk-item\"><div class=\"sk-label-container\"><div class=\"sk-label sk-toggleable\"><input class=\"sk-toggleable__control sk-hidden--visually\" id=\"sk-estimator-id-160\" type=\"checkbox\" ><label for=\"sk-estimator-id-160\" class=\"sk-toggleable__label sk-toggleable__label-arrow\">remainder</label><div class=\"sk-toggleable__content\"><pre></pre></div></div></div><div class=\"sk-serial\"><div class=\"sk-item\"><div class=\"sk-estimator sk-toggleable\"><input class=\"sk-toggleable__control sk-hidden--visually\" id=\"sk-estimator-id-161\" type=\"checkbox\" ><label for=\"sk-estimator-id-161\" class=\"sk-toggleable__label sk-toggleable__label-arrow\">passthrough</label><div class=\"sk-toggleable__content\"><pre>passthrough</pre></div></div></div></div></div></div></div></div></div></div>"
      ],
      "text/plain": [
       "ColumnTransformer(remainder='passthrough',\n",
       "                  transformers=[('onehotencoder',\n",
       "                                 OneHotEncoder(categories=[array(['Ambassador Avigo 1800', 'Ambassador Avigo 2000',\n",
       "       'Ambassador Classic 1800', ..., 'Volvo XC60 D4', 'Volvo XC60 D5',\n",
       "       'Volvo XC90 D5'], dtype=object),\n",
       "                                                           array(['Ambassador', 'Audi', 'BMW', 'Bentley', 'Chevrolet', 'DC',\n",
       "       'Daewoo', 'Datsun', 'Ferrari', 'Fiat', 'Force', 'Ford', 'Honda',\n",
       "       'Hyundai', 'ISUZU', 'Isuzu', 'Jaguar', 'Jeep', 'Kia',\n",
       "       'Lamborghini', 'Land', 'Lexus', 'MG', 'Mahindra', 'Maruti',\n",
       "       'Maserati', 'Mercedes-AMG', 'Mercedes-Benz', 'Mini', 'Mitsubishi',\n",
       "       'Nissan', 'Opel', 'OpelCorsa', 'Porsche', 'Premier', 'Renault',\n",
       "       'Rolls-Royce', 'Skoda', 'Tata', 'Toyota', 'Volkswagen', 'Volvo'],\n",
       "      dtype=object)]),\n",
       "                                 ['full_name', 'brand_name'])])"
      ]
     },
     "execution_count": 780,
     "metadata": {},
     "output_type": "execute_result"
    }
   ],
   "source": [
    "column_trans = make_column_transformer((OneHotEncoder(categories=ohe.categories_),\n",
    "                                        [\"full_name\", \"brand_name\"]), \n",
    "                                       remainder= \"passthrough\")\n",
    "column_trans"
   ]
  },
  {
   "cell_type": "code",
   "execution_count": 781,
   "id": "9f3d8eeb",
   "metadata": {},
   "outputs": [],
   "source": [
    "lin_reg = LinearRegression()"
   ]
  },
  {
   "cell_type": "code",
   "execution_count": 782,
   "id": "de837395",
   "metadata": {},
   "outputs": [],
   "source": [
    "knn_reg = KNeighborsRegressor()"
   ]
  },
  {
   "cell_type": "code",
   "execution_count": 783,
   "id": "67d40748",
   "metadata": {},
   "outputs": [],
   "source": [
    "lin_reg_pipe = make_pipeline(column_trans, lin_reg)"
   ]
  },
  {
   "cell_type": "code",
   "execution_count": 784,
   "id": "74074e76",
   "metadata": {},
   "outputs": [],
   "source": [
    "knn_reg_pipe = make_pipeline(column_trans, knn_reg)"
   ]
  },
  {
   "cell_type": "code",
   "execution_count": 785,
   "id": "04a1d0c9",
   "metadata": {},
   "outputs": [
    {
     "data": {
      "text/html": [
       "<style>#sk-container-id-32 {color: black;background-color: white;}#sk-container-id-32 pre{padding: 0;}#sk-container-id-32 div.sk-toggleable {background-color: white;}#sk-container-id-32 label.sk-toggleable__label {cursor: pointer;display: block;width: 100%;margin-bottom: 0;padding: 0.3em;box-sizing: border-box;text-align: center;}#sk-container-id-32 label.sk-toggleable__label-arrow:before {content: \"▸\";float: left;margin-right: 0.25em;color: #696969;}#sk-container-id-32 label.sk-toggleable__label-arrow:hover:before {color: black;}#sk-container-id-32 div.sk-estimator:hover label.sk-toggleable__label-arrow:before {color: black;}#sk-container-id-32 div.sk-toggleable__content {max-height: 0;max-width: 0;overflow: hidden;text-align: left;background-color: #f0f8ff;}#sk-container-id-32 div.sk-toggleable__content pre {margin: 0.2em;color: black;border-radius: 0.25em;background-color: #f0f8ff;}#sk-container-id-32 input.sk-toggleable__control:checked~div.sk-toggleable__content {max-height: 200px;max-width: 100%;overflow: auto;}#sk-container-id-32 input.sk-toggleable__control:checked~label.sk-toggleable__label-arrow:before {content: \"▾\";}#sk-container-id-32 div.sk-estimator input.sk-toggleable__control:checked~label.sk-toggleable__label {background-color: #d4ebff;}#sk-container-id-32 div.sk-label input.sk-toggleable__control:checked~label.sk-toggleable__label {background-color: #d4ebff;}#sk-container-id-32 input.sk-hidden--visually {border: 0;clip: rect(1px 1px 1px 1px);clip: rect(1px, 1px, 1px, 1px);height: 1px;margin: -1px;overflow: hidden;padding: 0;position: absolute;width: 1px;}#sk-container-id-32 div.sk-estimator {font-family: monospace;background-color: #f0f8ff;border: 1px dotted black;border-radius: 0.25em;box-sizing: border-box;margin-bottom: 0.5em;}#sk-container-id-32 div.sk-estimator:hover {background-color: #d4ebff;}#sk-container-id-32 div.sk-parallel-item::after {content: \"\";width: 100%;border-bottom: 1px solid gray;flex-grow: 1;}#sk-container-id-32 div.sk-label:hover label.sk-toggleable__label {background-color: #d4ebff;}#sk-container-id-32 div.sk-serial::before {content: \"\";position: absolute;border-left: 1px solid gray;box-sizing: border-box;top: 0;bottom: 0;left: 50%;z-index: 0;}#sk-container-id-32 div.sk-serial {display: flex;flex-direction: column;align-items: center;background-color: white;padding-right: 0.2em;padding-left: 0.2em;position: relative;}#sk-container-id-32 div.sk-item {position: relative;z-index: 1;}#sk-container-id-32 div.sk-parallel {display: flex;align-items: stretch;justify-content: center;background-color: white;position: relative;}#sk-container-id-32 div.sk-item::before, #sk-container-id-32 div.sk-parallel-item::before {content: \"\";position: absolute;border-left: 1px solid gray;box-sizing: border-box;top: 0;bottom: 0;left: 50%;z-index: -1;}#sk-container-id-32 div.sk-parallel-item {display: flex;flex-direction: column;z-index: 1;position: relative;background-color: white;}#sk-container-id-32 div.sk-parallel-item:first-child::after {align-self: flex-end;width: 50%;}#sk-container-id-32 div.sk-parallel-item:last-child::after {align-self: flex-start;width: 50%;}#sk-container-id-32 div.sk-parallel-item:only-child::after {width: 0;}#sk-container-id-32 div.sk-dashed-wrapped {border: 1px dashed gray;margin: 0 0.4em 0.5em 0.4em;box-sizing: border-box;padding-bottom: 0.4em;background-color: white;}#sk-container-id-32 div.sk-label label {font-family: monospace;font-weight: bold;display: inline-block;line-height: 1.2em;}#sk-container-id-32 div.sk-label-container {text-align: center;}#sk-container-id-32 div.sk-container {/* jupyter's `normalize.less` sets `[hidden] { display: none; }` but bootstrap.min.css set `[hidden] { display: none !important; }` so we also need the `!important` here to be able to override the default hidden behavior on the sphinx rendered scikit-learn.org. See: https://github.com/scikit-learn/scikit-learn/issues/21755 */display: inline-block !important;position: relative;}#sk-container-id-32 div.sk-text-repr-fallback {display: none;}</style><div id=\"sk-container-id-32\" class=\"sk-top-container\"><div class=\"sk-text-repr-fallback\"><pre>Pipeline(steps=[(&#x27;columntransformer&#x27;,\n",
       "                 ColumnTransformer(remainder=&#x27;passthrough&#x27;,\n",
       "                                   transformers=[(&#x27;onehotencoder&#x27;,\n",
       "                                                  OneHotEncoder(categories=[array([&#x27;Ambassador Avigo 1800&#x27;, &#x27;Ambassador Avigo 2000&#x27;,\n",
       "       &#x27;Ambassador Classic 1800&#x27;, ..., &#x27;Volvo XC60 D4&#x27;, &#x27;Volvo XC60 D5&#x27;,\n",
       "       &#x27;Volvo XC90 D5&#x27;], dtype=object),\n",
       "                                                                            array([&#x27;Ambassador&#x27;, &#x27;Audi&#x27;, &#x27;BMW&#x27;, &#x27;Bentley&#x27;, &#x27;Chevrolet&#x27;, &#x27;DC&#x27;,\n",
       "       &#x27;Daewoo&#x27;, &#x27;Datsun&#x27;,...\n",
       "       &#x27;Hyundai&#x27;, &#x27;ISUZU&#x27;, &#x27;Isuzu&#x27;, &#x27;Jaguar&#x27;, &#x27;Jeep&#x27;, &#x27;Kia&#x27;,\n",
       "       &#x27;Lamborghini&#x27;, &#x27;Land&#x27;, &#x27;Lexus&#x27;, &#x27;MG&#x27;, &#x27;Mahindra&#x27;, &#x27;Maruti&#x27;,\n",
       "       &#x27;Maserati&#x27;, &#x27;Mercedes-AMG&#x27;, &#x27;Mercedes-Benz&#x27;, &#x27;Mini&#x27;, &#x27;Mitsubishi&#x27;,\n",
       "       &#x27;Nissan&#x27;, &#x27;Opel&#x27;, &#x27;OpelCorsa&#x27;, &#x27;Porsche&#x27;, &#x27;Premier&#x27;, &#x27;Renault&#x27;,\n",
       "       &#x27;Rolls-Royce&#x27;, &#x27;Skoda&#x27;, &#x27;Tata&#x27;, &#x27;Toyota&#x27;, &#x27;Volkswagen&#x27;, &#x27;Volvo&#x27;],\n",
       "      dtype=object)]),\n",
       "                                                  [&#x27;full_name&#x27;,\n",
       "                                                   &#x27;brand_name&#x27;])])),\n",
       "                (&#x27;linearregression&#x27;, LinearRegression())])</pre><b>In a Jupyter environment, please rerun this cell to show the HTML representation or trust the notebook. <br />On GitHub, the HTML representation is unable to render, please try loading this page with nbviewer.org.</b></div><div class=\"sk-container\" hidden><div class=\"sk-item sk-dashed-wrapped\"><div class=\"sk-label-container\"><div class=\"sk-label sk-toggleable\"><input class=\"sk-toggleable__control sk-hidden--visually\" id=\"sk-estimator-id-162\" type=\"checkbox\" ><label for=\"sk-estimator-id-162\" class=\"sk-toggleable__label sk-toggleable__label-arrow\">Pipeline</label><div class=\"sk-toggleable__content\"><pre>Pipeline(steps=[(&#x27;columntransformer&#x27;,\n",
       "                 ColumnTransformer(remainder=&#x27;passthrough&#x27;,\n",
       "                                   transformers=[(&#x27;onehotencoder&#x27;,\n",
       "                                                  OneHotEncoder(categories=[array([&#x27;Ambassador Avigo 1800&#x27;, &#x27;Ambassador Avigo 2000&#x27;,\n",
       "       &#x27;Ambassador Classic 1800&#x27;, ..., &#x27;Volvo XC60 D4&#x27;, &#x27;Volvo XC60 D5&#x27;,\n",
       "       &#x27;Volvo XC90 D5&#x27;], dtype=object),\n",
       "                                                                            array([&#x27;Ambassador&#x27;, &#x27;Audi&#x27;, &#x27;BMW&#x27;, &#x27;Bentley&#x27;, &#x27;Chevrolet&#x27;, &#x27;DC&#x27;,\n",
       "       &#x27;Daewoo&#x27;, &#x27;Datsun&#x27;,...\n",
       "       &#x27;Hyundai&#x27;, &#x27;ISUZU&#x27;, &#x27;Isuzu&#x27;, &#x27;Jaguar&#x27;, &#x27;Jeep&#x27;, &#x27;Kia&#x27;,\n",
       "       &#x27;Lamborghini&#x27;, &#x27;Land&#x27;, &#x27;Lexus&#x27;, &#x27;MG&#x27;, &#x27;Mahindra&#x27;, &#x27;Maruti&#x27;,\n",
       "       &#x27;Maserati&#x27;, &#x27;Mercedes-AMG&#x27;, &#x27;Mercedes-Benz&#x27;, &#x27;Mini&#x27;, &#x27;Mitsubishi&#x27;,\n",
       "       &#x27;Nissan&#x27;, &#x27;Opel&#x27;, &#x27;OpelCorsa&#x27;, &#x27;Porsche&#x27;, &#x27;Premier&#x27;, &#x27;Renault&#x27;,\n",
       "       &#x27;Rolls-Royce&#x27;, &#x27;Skoda&#x27;, &#x27;Tata&#x27;, &#x27;Toyota&#x27;, &#x27;Volkswagen&#x27;, &#x27;Volvo&#x27;],\n",
       "      dtype=object)]),\n",
       "                                                  [&#x27;full_name&#x27;,\n",
       "                                                   &#x27;brand_name&#x27;])])),\n",
       "                (&#x27;linearregression&#x27;, LinearRegression())])</pre></div></div></div><div class=\"sk-serial\"><div class=\"sk-item sk-dashed-wrapped\"><div class=\"sk-label-container\"><div class=\"sk-label sk-toggleable\"><input class=\"sk-toggleable__control sk-hidden--visually\" id=\"sk-estimator-id-163\" type=\"checkbox\" ><label for=\"sk-estimator-id-163\" class=\"sk-toggleable__label sk-toggleable__label-arrow\">columntransformer: ColumnTransformer</label><div class=\"sk-toggleable__content\"><pre>ColumnTransformer(remainder=&#x27;passthrough&#x27;,\n",
       "                  transformers=[(&#x27;onehotencoder&#x27;,\n",
       "                                 OneHotEncoder(categories=[array([&#x27;Ambassador Avigo 1800&#x27;, &#x27;Ambassador Avigo 2000&#x27;,\n",
       "       &#x27;Ambassador Classic 1800&#x27;, ..., &#x27;Volvo XC60 D4&#x27;, &#x27;Volvo XC60 D5&#x27;,\n",
       "       &#x27;Volvo XC90 D5&#x27;], dtype=object),\n",
       "                                                           array([&#x27;Ambassador&#x27;, &#x27;Audi&#x27;, &#x27;BMW&#x27;, &#x27;Bentley&#x27;, &#x27;Chevrolet&#x27;, &#x27;DC&#x27;,\n",
       "       &#x27;Daewoo&#x27;, &#x27;Datsun&#x27;, &#x27;Ferrari&#x27;, &#x27;Fiat&#x27;, &#x27;Force&#x27;, &#x27;Ford&#x27;, &#x27;Honda&#x27;,\n",
       "       &#x27;Hyundai&#x27;, &#x27;ISUZU&#x27;, &#x27;Isuzu&#x27;, &#x27;Jaguar&#x27;, &#x27;Jeep&#x27;, &#x27;Kia&#x27;,\n",
       "       &#x27;Lamborghini&#x27;, &#x27;Land&#x27;, &#x27;Lexus&#x27;, &#x27;MG&#x27;, &#x27;Mahindra&#x27;, &#x27;Maruti&#x27;,\n",
       "       &#x27;Maserati&#x27;, &#x27;Mercedes-AMG&#x27;, &#x27;Mercedes-Benz&#x27;, &#x27;Mini&#x27;, &#x27;Mitsubishi&#x27;,\n",
       "       &#x27;Nissan&#x27;, &#x27;Opel&#x27;, &#x27;OpelCorsa&#x27;, &#x27;Porsche&#x27;, &#x27;Premier&#x27;, &#x27;Renault&#x27;,\n",
       "       &#x27;Rolls-Royce&#x27;, &#x27;Skoda&#x27;, &#x27;Tata&#x27;, &#x27;Toyota&#x27;, &#x27;Volkswagen&#x27;, &#x27;Volvo&#x27;],\n",
       "      dtype=object)]),\n",
       "                                 [&#x27;full_name&#x27;, &#x27;brand_name&#x27;])])</pre></div></div></div><div class=\"sk-parallel\"><div class=\"sk-parallel-item\"><div class=\"sk-item\"><div class=\"sk-label-container\"><div class=\"sk-label sk-toggleable\"><input class=\"sk-toggleable__control sk-hidden--visually\" id=\"sk-estimator-id-164\" type=\"checkbox\" ><label for=\"sk-estimator-id-164\" class=\"sk-toggleable__label sk-toggleable__label-arrow\">onehotencoder</label><div class=\"sk-toggleable__content\"><pre>[&#x27;full_name&#x27;, &#x27;brand_name&#x27;]</pre></div></div></div><div class=\"sk-serial\"><div class=\"sk-item\"><div class=\"sk-estimator sk-toggleable\"><input class=\"sk-toggleable__control sk-hidden--visually\" id=\"sk-estimator-id-165\" type=\"checkbox\" ><label for=\"sk-estimator-id-165\" class=\"sk-toggleable__label sk-toggleable__label-arrow\">OneHotEncoder</label><div class=\"sk-toggleable__content\"><pre>OneHotEncoder(categories=[array([&#x27;Ambassador Avigo 1800&#x27;, &#x27;Ambassador Avigo 2000&#x27;,\n",
       "       &#x27;Ambassador Classic 1800&#x27;, ..., &#x27;Volvo XC60 D4&#x27;, &#x27;Volvo XC60 D5&#x27;,\n",
       "       &#x27;Volvo XC90 D5&#x27;], dtype=object),\n",
       "                          array([&#x27;Ambassador&#x27;, &#x27;Audi&#x27;, &#x27;BMW&#x27;, &#x27;Bentley&#x27;, &#x27;Chevrolet&#x27;, &#x27;DC&#x27;,\n",
       "       &#x27;Daewoo&#x27;, &#x27;Datsun&#x27;, &#x27;Ferrari&#x27;, &#x27;Fiat&#x27;, &#x27;Force&#x27;, &#x27;Ford&#x27;, &#x27;Honda&#x27;,\n",
       "       &#x27;Hyundai&#x27;, &#x27;ISUZU&#x27;, &#x27;Isuzu&#x27;, &#x27;Jaguar&#x27;, &#x27;Jeep&#x27;, &#x27;Kia&#x27;,\n",
       "       &#x27;Lamborghini&#x27;, &#x27;Land&#x27;, &#x27;Lexus&#x27;, &#x27;MG&#x27;, &#x27;Mahindra&#x27;, &#x27;Maruti&#x27;,\n",
       "       &#x27;Maserati&#x27;, &#x27;Mercedes-AMG&#x27;, &#x27;Mercedes-Benz&#x27;, &#x27;Mini&#x27;, &#x27;Mitsubishi&#x27;,\n",
       "       &#x27;Nissan&#x27;, &#x27;Opel&#x27;, &#x27;OpelCorsa&#x27;, &#x27;Porsche&#x27;, &#x27;Premier&#x27;, &#x27;Renault&#x27;,\n",
       "       &#x27;Rolls-Royce&#x27;, &#x27;Skoda&#x27;, &#x27;Tata&#x27;, &#x27;Toyota&#x27;, &#x27;Volkswagen&#x27;, &#x27;Volvo&#x27;],\n",
       "      dtype=object)])</pre></div></div></div></div></div></div><div class=\"sk-parallel-item\"><div class=\"sk-item\"><div class=\"sk-label-container\"><div class=\"sk-label sk-toggleable\"><input class=\"sk-toggleable__control sk-hidden--visually\" id=\"sk-estimator-id-166\" type=\"checkbox\" ><label for=\"sk-estimator-id-166\" class=\"sk-toggleable__label sk-toggleable__label-arrow\">remainder</label><div class=\"sk-toggleable__content\"><pre>[&#x27;min_price&#x27;, &#x27;max_price&#x27;, &#x27;year&#x27;, &#x27;seller_type&#x27;, &#x27;km_driven&#x27;, &#x27;owner_type&#x27;, &#x27;fuel_type&#x27;, &#x27;transmission_type&#x27;, &#x27;mileage&#x27;, &#x27;engine&#x27;, &#x27;max_power&#x27;, &#x27;seats&#x27;]</pre></div></div></div><div class=\"sk-serial\"><div class=\"sk-item\"><div class=\"sk-estimator sk-toggleable\"><input class=\"sk-toggleable__control sk-hidden--visually\" id=\"sk-estimator-id-167\" type=\"checkbox\" ><label for=\"sk-estimator-id-167\" class=\"sk-toggleable__label sk-toggleable__label-arrow\">passthrough</label><div class=\"sk-toggleable__content\"><pre>passthrough</pre></div></div></div></div></div></div></div></div><div class=\"sk-item\"><div class=\"sk-estimator sk-toggleable\"><input class=\"sk-toggleable__control sk-hidden--visually\" id=\"sk-estimator-id-168\" type=\"checkbox\" ><label for=\"sk-estimator-id-168\" class=\"sk-toggleable__label sk-toggleable__label-arrow\">LinearRegression</label><div class=\"sk-toggleable__content\"><pre>LinearRegression()</pre></div></div></div></div></div></div></div>"
      ],
      "text/plain": [
       "Pipeline(steps=[('columntransformer',\n",
       "                 ColumnTransformer(remainder='passthrough',\n",
       "                                   transformers=[('onehotencoder',\n",
       "                                                  OneHotEncoder(categories=[array(['Ambassador Avigo 1800', 'Ambassador Avigo 2000',\n",
       "       'Ambassador Classic 1800', ..., 'Volvo XC60 D4', 'Volvo XC60 D5',\n",
       "       'Volvo XC90 D5'], dtype=object),\n",
       "                                                                            array(['Ambassador', 'Audi', 'BMW', 'Bentley', 'Chevrolet', 'DC',\n",
       "       'Daewoo', 'Datsun',...\n",
       "       'Hyundai', 'ISUZU', 'Isuzu', 'Jaguar', 'Jeep', 'Kia',\n",
       "       'Lamborghini', 'Land', 'Lexus', 'MG', 'Mahindra', 'Maruti',\n",
       "       'Maserati', 'Mercedes-AMG', 'Mercedes-Benz', 'Mini', 'Mitsubishi',\n",
       "       'Nissan', 'Opel', 'OpelCorsa', 'Porsche', 'Premier', 'Renault',\n",
       "       'Rolls-Royce', 'Skoda', 'Tata', 'Toyota', 'Volkswagen', 'Volvo'],\n",
       "      dtype=object)]),\n",
       "                                                  ['full_name',\n",
       "                                                   'brand_name'])])),\n",
       "                ('linearregression', LinearRegression())])"
      ]
     },
     "execution_count": 785,
     "metadata": {},
     "output_type": "execute_result"
    }
   ],
   "source": [
    "lin_reg_pipe.fit(x_train, y_train)"
   ]
  },
  {
   "cell_type": "code",
   "execution_count": 786,
   "id": "e7500dc5",
   "metadata": {
    "scrolled": true
   },
   "outputs": [
    {
     "data": {
      "text/html": [
       "<style>#sk-container-id-33 {color: black;background-color: white;}#sk-container-id-33 pre{padding: 0;}#sk-container-id-33 div.sk-toggleable {background-color: white;}#sk-container-id-33 label.sk-toggleable__label {cursor: pointer;display: block;width: 100%;margin-bottom: 0;padding: 0.3em;box-sizing: border-box;text-align: center;}#sk-container-id-33 label.sk-toggleable__label-arrow:before {content: \"▸\";float: left;margin-right: 0.25em;color: #696969;}#sk-container-id-33 label.sk-toggleable__label-arrow:hover:before {color: black;}#sk-container-id-33 div.sk-estimator:hover label.sk-toggleable__label-arrow:before {color: black;}#sk-container-id-33 div.sk-toggleable__content {max-height: 0;max-width: 0;overflow: hidden;text-align: left;background-color: #f0f8ff;}#sk-container-id-33 div.sk-toggleable__content pre {margin: 0.2em;color: black;border-radius: 0.25em;background-color: #f0f8ff;}#sk-container-id-33 input.sk-toggleable__control:checked~div.sk-toggleable__content {max-height: 200px;max-width: 100%;overflow: auto;}#sk-container-id-33 input.sk-toggleable__control:checked~label.sk-toggleable__label-arrow:before {content: \"▾\";}#sk-container-id-33 div.sk-estimator input.sk-toggleable__control:checked~label.sk-toggleable__label {background-color: #d4ebff;}#sk-container-id-33 div.sk-label input.sk-toggleable__control:checked~label.sk-toggleable__label {background-color: #d4ebff;}#sk-container-id-33 input.sk-hidden--visually {border: 0;clip: rect(1px 1px 1px 1px);clip: rect(1px, 1px, 1px, 1px);height: 1px;margin: -1px;overflow: hidden;padding: 0;position: absolute;width: 1px;}#sk-container-id-33 div.sk-estimator {font-family: monospace;background-color: #f0f8ff;border: 1px dotted black;border-radius: 0.25em;box-sizing: border-box;margin-bottom: 0.5em;}#sk-container-id-33 div.sk-estimator:hover {background-color: #d4ebff;}#sk-container-id-33 div.sk-parallel-item::after {content: \"\";width: 100%;border-bottom: 1px solid gray;flex-grow: 1;}#sk-container-id-33 div.sk-label:hover label.sk-toggleable__label {background-color: #d4ebff;}#sk-container-id-33 div.sk-serial::before {content: \"\";position: absolute;border-left: 1px solid gray;box-sizing: border-box;top: 0;bottom: 0;left: 50%;z-index: 0;}#sk-container-id-33 div.sk-serial {display: flex;flex-direction: column;align-items: center;background-color: white;padding-right: 0.2em;padding-left: 0.2em;position: relative;}#sk-container-id-33 div.sk-item {position: relative;z-index: 1;}#sk-container-id-33 div.sk-parallel {display: flex;align-items: stretch;justify-content: center;background-color: white;position: relative;}#sk-container-id-33 div.sk-item::before, #sk-container-id-33 div.sk-parallel-item::before {content: \"\";position: absolute;border-left: 1px solid gray;box-sizing: border-box;top: 0;bottom: 0;left: 50%;z-index: -1;}#sk-container-id-33 div.sk-parallel-item {display: flex;flex-direction: column;z-index: 1;position: relative;background-color: white;}#sk-container-id-33 div.sk-parallel-item:first-child::after {align-self: flex-end;width: 50%;}#sk-container-id-33 div.sk-parallel-item:last-child::after {align-self: flex-start;width: 50%;}#sk-container-id-33 div.sk-parallel-item:only-child::after {width: 0;}#sk-container-id-33 div.sk-dashed-wrapped {border: 1px dashed gray;margin: 0 0.4em 0.5em 0.4em;box-sizing: border-box;padding-bottom: 0.4em;background-color: white;}#sk-container-id-33 div.sk-label label {font-family: monospace;font-weight: bold;display: inline-block;line-height: 1.2em;}#sk-container-id-33 div.sk-label-container {text-align: center;}#sk-container-id-33 div.sk-container {/* jupyter's `normalize.less` sets `[hidden] { display: none; }` but bootstrap.min.css set `[hidden] { display: none !important; }` so we also need the `!important` here to be able to override the default hidden behavior on the sphinx rendered scikit-learn.org. See: https://github.com/scikit-learn/scikit-learn/issues/21755 */display: inline-block !important;position: relative;}#sk-container-id-33 div.sk-text-repr-fallback {display: none;}</style><div id=\"sk-container-id-33\" class=\"sk-top-container\"><div class=\"sk-text-repr-fallback\"><pre>Pipeline(steps=[(&#x27;columntransformer&#x27;,\n",
       "                 ColumnTransformer(remainder=&#x27;passthrough&#x27;,\n",
       "                                   transformers=[(&#x27;onehotencoder&#x27;,\n",
       "                                                  OneHotEncoder(categories=[array([&#x27;Ambassador Avigo 1800&#x27;, &#x27;Ambassador Avigo 2000&#x27;,\n",
       "       &#x27;Ambassador Classic 1800&#x27;, ..., &#x27;Volvo XC60 D4&#x27;, &#x27;Volvo XC60 D5&#x27;,\n",
       "       &#x27;Volvo XC90 D5&#x27;], dtype=object),\n",
       "                                                                            array([&#x27;Ambassador&#x27;, &#x27;Audi&#x27;, &#x27;BMW&#x27;, &#x27;Bentley&#x27;, &#x27;Chevrolet&#x27;, &#x27;DC&#x27;,\n",
       "       &#x27;Daewoo&#x27;, &#x27;Datsun&#x27;,...\n",
       "       &#x27;Hyundai&#x27;, &#x27;ISUZU&#x27;, &#x27;Isuzu&#x27;, &#x27;Jaguar&#x27;, &#x27;Jeep&#x27;, &#x27;Kia&#x27;,\n",
       "       &#x27;Lamborghini&#x27;, &#x27;Land&#x27;, &#x27;Lexus&#x27;, &#x27;MG&#x27;, &#x27;Mahindra&#x27;, &#x27;Maruti&#x27;,\n",
       "       &#x27;Maserati&#x27;, &#x27;Mercedes-AMG&#x27;, &#x27;Mercedes-Benz&#x27;, &#x27;Mini&#x27;, &#x27;Mitsubishi&#x27;,\n",
       "       &#x27;Nissan&#x27;, &#x27;Opel&#x27;, &#x27;OpelCorsa&#x27;, &#x27;Porsche&#x27;, &#x27;Premier&#x27;, &#x27;Renault&#x27;,\n",
       "       &#x27;Rolls-Royce&#x27;, &#x27;Skoda&#x27;, &#x27;Tata&#x27;, &#x27;Toyota&#x27;, &#x27;Volkswagen&#x27;, &#x27;Volvo&#x27;],\n",
       "      dtype=object)]),\n",
       "                                                  [&#x27;full_name&#x27;,\n",
       "                                                   &#x27;brand_name&#x27;])])),\n",
       "                (&#x27;kneighborsregressor&#x27;, KNeighborsRegressor())])</pre><b>In a Jupyter environment, please rerun this cell to show the HTML representation or trust the notebook. <br />On GitHub, the HTML representation is unable to render, please try loading this page with nbviewer.org.</b></div><div class=\"sk-container\" hidden><div class=\"sk-item sk-dashed-wrapped\"><div class=\"sk-label-container\"><div class=\"sk-label sk-toggleable\"><input class=\"sk-toggleable__control sk-hidden--visually\" id=\"sk-estimator-id-169\" type=\"checkbox\" ><label for=\"sk-estimator-id-169\" class=\"sk-toggleable__label sk-toggleable__label-arrow\">Pipeline</label><div class=\"sk-toggleable__content\"><pre>Pipeline(steps=[(&#x27;columntransformer&#x27;,\n",
       "                 ColumnTransformer(remainder=&#x27;passthrough&#x27;,\n",
       "                                   transformers=[(&#x27;onehotencoder&#x27;,\n",
       "                                                  OneHotEncoder(categories=[array([&#x27;Ambassador Avigo 1800&#x27;, &#x27;Ambassador Avigo 2000&#x27;,\n",
       "       &#x27;Ambassador Classic 1800&#x27;, ..., &#x27;Volvo XC60 D4&#x27;, &#x27;Volvo XC60 D5&#x27;,\n",
       "       &#x27;Volvo XC90 D5&#x27;], dtype=object),\n",
       "                                                                            array([&#x27;Ambassador&#x27;, &#x27;Audi&#x27;, &#x27;BMW&#x27;, &#x27;Bentley&#x27;, &#x27;Chevrolet&#x27;, &#x27;DC&#x27;,\n",
       "       &#x27;Daewoo&#x27;, &#x27;Datsun&#x27;,...\n",
       "       &#x27;Hyundai&#x27;, &#x27;ISUZU&#x27;, &#x27;Isuzu&#x27;, &#x27;Jaguar&#x27;, &#x27;Jeep&#x27;, &#x27;Kia&#x27;,\n",
       "       &#x27;Lamborghini&#x27;, &#x27;Land&#x27;, &#x27;Lexus&#x27;, &#x27;MG&#x27;, &#x27;Mahindra&#x27;, &#x27;Maruti&#x27;,\n",
       "       &#x27;Maserati&#x27;, &#x27;Mercedes-AMG&#x27;, &#x27;Mercedes-Benz&#x27;, &#x27;Mini&#x27;, &#x27;Mitsubishi&#x27;,\n",
       "       &#x27;Nissan&#x27;, &#x27;Opel&#x27;, &#x27;OpelCorsa&#x27;, &#x27;Porsche&#x27;, &#x27;Premier&#x27;, &#x27;Renault&#x27;,\n",
       "       &#x27;Rolls-Royce&#x27;, &#x27;Skoda&#x27;, &#x27;Tata&#x27;, &#x27;Toyota&#x27;, &#x27;Volkswagen&#x27;, &#x27;Volvo&#x27;],\n",
       "      dtype=object)]),\n",
       "                                                  [&#x27;full_name&#x27;,\n",
       "                                                   &#x27;brand_name&#x27;])])),\n",
       "                (&#x27;kneighborsregressor&#x27;, KNeighborsRegressor())])</pre></div></div></div><div class=\"sk-serial\"><div class=\"sk-item sk-dashed-wrapped\"><div class=\"sk-label-container\"><div class=\"sk-label sk-toggleable\"><input class=\"sk-toggleable__control sk-hidden--visually\" id=\"sk-estimator-id-170\" type=\"checkbox\" ><label for=\"sk-estimator-id-170\" class=\"sk-toggleable__label sk-toggleable__label-arrow\">columntransformer: ColumnTransformer</label><div class=\"sk-toggleable__content\"><pre>ColumnTransformer(remainder=&#x27;passthrough&#x27;,\n",
       "                  transformers=[(&#x27;onehotencoder&#x27;,\n",
       "                                 OneHotEncoder(categories=[array([&#x27;Ambassador Avigo 1800&#x27;, &#x27;Ambassador Avigo 2000&#x27;,\n",
       "       &#x27;Ambassador Classic 1800&#x27;, ..., &#x27;Volvo XC60 D4&#x27;, &#x27;Volvo XC60 D5&#x27;,\n",
       "       &#x27;Volvo XC90 D5&#x27;], dtype=object),\n",
       "                                                           array([&#x27;Ambassador&#x27;, &#x27;Audi&#x27;, &#x27;BMW&#x27;, &#x27;Bentley&#x27;, &#x27;Chevrolet&#x27;, &#x27;DC&#x27;,\n",
       "       &#x27;Daewoo&#x27;, &#x27;Datsun&#x27;, &#x27;Ferrari&#x27;, &#x27;Fiat&#x27;, &#x27;Force&#x27;, &#x27;Ford&#x27;, &#x27;Honda&#x27;,\n",
       "       &#x27;Hyundai&#x27;, &#x27;ISUZU&#x27;, &#x27;Isuzu&#x27;, &#x27;Jaguar&#x27;, &#x27;Jeep&#x27;, &#x27;Kia&#x27;,\n",
       "       &#x27;Lamborghini&#x27;, &#x27;Land&#x27;, &#x27;Lexus&#x27;, &#x27;MG&#x27;, &#x27;Mahindra&#x27;, &#x27;Maruti&#x27;,\n",
       "       &#x27;Maserati&#x27;, &#x27;Mercedes-AMG&#x27;, &#x27;Mercedes-Benz&#x27;, &#x27;Mini&#x27;, &#x27;Mitsubishi&#x27;,\n",
       "       &#x27;Nissan&#x27;, &#x27;Opel&#x27;, &#x27;OpelCorsa&#x27;, &#x27;Porsche&#x27;, &#x27;Premier&#x27;, &#x27;Renault&#x27;,\n",
       "       &#x27;Rolls-Royce&#x27;, &#x27;Skoda&#x27;, &#x27;Tata&#x27;, &#x27;Toyota&#x27;, &#x27;Volkswagen&#x27;, &#x27;Volvo&#x27;],\n",
       "      dtype=object)]),\n",
       "                                 [&#x27;full_name&#x27;, &#x27;brand_name&#x27;])])</pre></div></div></div><div class=\"sk-parallel\"><div class=\"sk-parallel-item\"><div class=\"sk-item\"><div class=\"sk-label-container\"><div class=\"sk-label sk-toggleable\"><input class=\"sk-toggleable__control sk-hidden--visually\" id=\"sk-estimator-id-171\" type=\"checkbox\" ><label for=\"sk-estimator-id-171\" class=\"sk-toggleable__label sk-toggleable__label-arrow\">onehotencoder</label><div class=\"sk-toggleable__content\"><pre>[&#x27;full_name&#x27;, &#x27;brand_name&#x27;]</pre></div></div></div><div class=\"sk-serial\"><div class=\"sk-item\"><div class=\"sk-estimator sk-toggleable\"><input class=\"sk-toggleable__control sk-hidden--visually\" id=\"sk-estimator-id-172\" type=\"checkbox\" ><label for=\"sk-estimator-id-172\" class=\"sk-toggleable__label sk-toggleable__label-arrow\">OneHotEncoder</label><div class=\"sk-toggleable__content\"><pre>OneHotEncoder(categories=[array([&#x27;Ambassador Avigo 1800&#x27;, &#x27;Ambassador Avigo 2000&#x27;,\n",
       "       &#x27;Ambassador Classic 1800&#x27;, ..., &#x27;Volvo XC60 D4&#x27;, &#x27;Volvo XC60 D5&#x27;,\n",
       "       &#x27;Volvo XC90 D5&#x27;], dtype=object),\n",
       "                          array([&#x27;Ambassador&#x27;, &#x27;Audi&#x27;, &#x27;BMW&#x27;, &#x27;Bentley&#x27;, &#x27;Chevrolet&#x27;, &#x27;DC&#x27;,\n",
       "       &#x27;Daewoo&#x27;, &#x27;Datsun&#x27;, &#x27;Ferrari&#x27;, &#x27;Fiat&#x27;, &#x27;Force&#x27;, &#x27;Ford&#x27;, &#x27;Honda&#x27;,\n",
       "       &#x27;Hyundai&#x27;, &#x27;ISUZU&#x27;, &#x27;Isuzu&#x27;, &#x27;Jaguar&#x27;, &#x27;Jeep&#x27;, &#x27;Kia&#x27;,\n",
       "       &#x27;Lamborghini&#x27;, &#x27;Land&#x27;, &#x27;Lexus&#x27;, &#x27;MG&#x27;, &#x27;Mahindra&#x27;, &#x27;Maruti&#x27;,\n",
       "       &#x27;Maserati&#x27;, &#x27;Mercedes-AMG&#x27;, &#x27;Mercedes-Benz&#x27;, &#x27;Mini&#x27;, &#x27;Mitsubishi&#x27;,\n",
       "       &#x27;Nissan&#x27;, &#x27;Opel&#x27;, &#x27;OpelCorsa&#x27;, &#x27;Porsche&#x27;, &#x27;Premier&#x27;, &#x27;Renault&#x27;,\n",
       "       &#x27;Rolls-Royce&#x27;, &#x27;Skoda&#x27;, &#x27;Tata&#x27;, &#x27;Toyota&#x27;, &#x27;Volkswagen&#x27;, &#x27;Volvo&#x27;],\n",
       "      dtype=object)])</pre></div></div></div></div></div></div><div class=\"sk-parallel-item\"><div class=\"sk-item\"><div class=\"sk-label-container\"><div class=\"sk-label sk-toggleable\"><input class=\"sk-toggleable__control sk-hidden--visually\" id=\"sk-estimator-id-173\" type=\"checkbox\" ><label for=\"sk-estimator-id-173\" class=\"sk-toggleable__label sk-toggleable__label-arrow\">remainder</label><div class=\"sk-toggleable__content\"><pre>[&#x27;min_price&#x27;, &#x27;max_price&#x27;, &#x27;year&#x27;, &#x27;seller_type&#x27;, &#x27;km_driven&#x27;, &#x27;owner_type&#x27;, &#x27;fuel_type&#x27;, &#x27;transmission_type&#x27;, &#x27;mileage&#x27;, &#x27;engine&#x27;, &#x27;max_power&#x27;, &#x27;seats&#x27;]</pre></div></div></div><div class=\"sk-serial\"><div class=\"sk-item\"><div class=\"sk-estimator sk-toggleable\"><input class=\"sk-toggleable__control sk-hidden--visually\" id=\"sk-estimator-id-174\" type=\"checkbox\" ><label for=\"sk-estimator-id-174\" class=\"sk-toggleable__label sk-toggleable__label-arrow\">passthrough</label><div class=\"sk-toggleable__content\"><pre>passthrough</pre></div></div></div></div></div></div></div></div><div class=\"sk-item\"><div class=\"sk-estimator sk-toggleable\"><input class=\"sk-toggleable__control sk-hidden--visually\" id=\"sk-estimator-id-175\" type=\"checkbox\" ><label for=\"sk-estimator-id-175\" class=\"sk-toggleable__label sk-toggleable__label-arrow\">KNeighborsRegressor</label><div class=\"sk-toggleable__content\"><pre>KNeighborsRegressor()</pre></div></div></div></div></div></div></div>"
      ],
      "text/plain": [
       "Pipeline(steps=[('columntransformer',\n",
       "                 ColumnTransformer(remainder='passthrough',\n",
       "                                   transformers=[('onehotencoder',\n",
       "                                                  OneHotEncoder(categories=[array(['Ambassador Avigo 1800', 'Ambassador Avigo 2000',\n",
       "       'Ambassador Classic 1800', ..., 'Volvo XC60 D4', 'Volvo XC60 D5',\n",
       "       'Volvo XC90 D5'], dtype=object),\n",
       "                                                                            array(['Ambassador', 'Audi', 'BMW', 'Bentley', 'Chevrolet', 'DC',\n",
       "       'Daewoo', 'Datsun',...\n",
       "       'Hyundai', 'ISUZU', 'Isuzu', 'Jaguar', 'Jeep', 'Kia',\n",
       "       'Lamborghini', 'Land', 'Lexus', 'MG', 'Mahindra', 'Maruti',\n",
       "       'Maserati', 'Mercedes-AMG', 'Mercedes-Benz', 'Mini', 'Mitsubishi',\n",
       "       'Nissan', 'Opel', 'OpelCorsa', 'Porsche', 'Premier', 'Renault',\n",
       "       'Rolls-Royce', 'Skoda', 'Tata', 'Toyota', 'Volkswagen', 'Volvo'],\n",
       "      dtype=object)]),\n",
       "                                                  ['full_name',\n",
       "                                                   'brand_name'])])),\n",
       "                ('kneighborsregressor', KNeighborsRegressor())])"
      ]
     },
     "execution_count": 786,
     "metadata": {},
     "output_type": "execute_result"
    }
   ],
   "source": [
    "knn_reg_pipe.fit(x_train, y_train)"
   ]
  },
  {
   "cell_type": "markdown",
   "id": "a46a40dd",
   "metadata": {},
   "source": [
    "### for linear regresssion"
   ]
  },
  {
   "cell_type": "code",
   "execution_count": 787,
   "id": "0f8e17d1",
   "metadata": {},
   "outputs": [
    {
     "data": {
      "text/plain": [
       "0.6334634587274621"
      ]
     },
     "execution_count": 787,
     "metadata": {},
     "output_type": "execute_result"
    }
   ],
   "source": [
    "lin_reg = LinearRegression(n_jobs = -1)\n",
    "lin_reg_pipe = make_pipeline(column_trans, lin_reg)\n",
    "lin_reg_pipe.fit(x_train, y_train)\n",
    "lin_reg_pipe.score(x_train, y_train)"
   ]
  },
  {
   "cell_type": "code",
   "execution_count": 788,
   "id": "25809338",
   "metadata": {},
   "outputs": [
    {
     "name": "stdout",
     "output_type": "stream",
     "text": [
      "MSE Train Lin_reg =  259918200009.45886\n",
      "RMSE Train Lin_reg =  509821.73355934804\n",
      "MAE Train Lin_reg =  273075.9721013064\n",
      "R2_Squared Train Lin_reg =  0.6334634587274621\n",
      "\n",
      "************************************************************\n",
      "\n",
      "MSE test Lin_reg =  563475740075.646\n",
      "RMSE test Lin_reg =  750650.2115337383\n",
      "MAE test Lin_reg =  282687.96731781616\n",
      "test Train Lin_reg =  0.5658508808240927\n"
     ]
    }
   ],
   "source": [
    "#Training data Evaluation #########################################################################################\n",
    "\n",
    "y_pred_train_lin = lin_reg_pipe.predict(x_train)\n",
    "\n",
    "mse = mean_squared_error(y_train, y_pred_train_lin)\n",
    "print(\"MSE Train Lin_reg = \", mse)\n",
    "\n",
    "rmse = np.sqrt(mse)\n",
    "print(\"RMSE Train Lin_reg = \", rmse)\n",
    "\n",
    "mae = mean_absolute_error(y_train, y_pred_train_lin)\n",
    "print(\"MAE Train Lin_reg = \", mae)\n",
    "\n",
    "r_squared = r2_score(y_train, y_pred_train_lin)\n",
    "print(\"R2_Squared Train Lin_reg = \", r_squared)\n",
    "\n",
    "print()\n",
    "print(\"*\"*60)\n",
    "print()\n",
    "\n",
    "#Testing data Evaluation #########################################################################################\n",
    "\n",
    "y_pred_test_lin = lin_reg_pipe.predict(x_test)\n",
    "\n",
    "mse = mean_squared_error(y_test, y_pred_test_lin)\n",
    "print(\"MSE test Lin_reg = \", mse)\n",
    "\n",
    "rmse = np.sqrt(mse)\n",
    "print(\"RMSE test Lin_reg = \", rmse)\n",
    "\n",
    "mae = mean_absolute_error(y_test, y_pred_test_lin)\n",
    "print(\"MAE test Lin_reg = \", mae)\n",
    "\n",
    "r_squared = r2_score(y_test, y_pred_test_lin)\n",
    "print(\"test Train Lin_reg = \", r_squared)"
   ]
  },
  {
   "cell_type": "markdown",
   "id": "8915eea3",
   "metadata": {},
   "source": [
    "### for knn regression"
   ]
  },
  {
   "cell_type": "code",
   "execution_count": 789,
   "id": "0c290585",
   "metadata": {},
   "outputs": [
    {
     "data": {
      "text/html": [
       "<style>#sk-container-id-34 {color: black;background-color: white;}#sk-container-id-34 pre{padding: 0;}#sk-container-id-34 div.sk-toggleable {background-color: white;}#sk-container-id-34 label.sk-toggleable__label {cursor: pointer;display: block;width: 100%;margin-bottom: 0;padding: 0.3em;box-sizing: border-box;text-align: center;}#sk-container-id-34 label.sk-toggleable__label-arrow:before {content: \"▸\";float: left;margin-right: 0.25em;color: #696969;}#sk-container-id-34 label.sk-toggleable__label-arrow:hover:before {color: black;}#sk-container-id-34 div.sk-estimator:hover label.sk-toggleable__label-arrow:before {color: black;}#sk-container-id-34 div.sk-toggleable__content {max-height: 0;max-width: 0;overflow: hidden;text-align: left;background-color: #f0f8ff;}#sk-container-id-34 div.sk-toggleable__content pre {margin: 0.2em;color: black;border-radius: 0.25em;background-color: #f0f8ff;}#sk-container-id-34 input.sk-toggleable__control:checked~div.sk-toggleable__content {max-height: 200px;max-width: 100%;overflow: auto;}#sk-container-id-34 input.sk-toggleable__control:checked~label.sk-toggleable__label-arrow:before {content: \"▾\";}#sk-container-id-34 div.sk-estimator input.sk-toggleable__control:checked~label.sk-toggleable__label {background-color: #d4ebff;}#sk-container-id-34 div.sk-label input.sk-toggleable__control:checked~label.sk-toggleable__label {background-color: #d4ebff;}#sk-container-id-34 input.sk-hidden--visually {border: 0;clip: rect(1px 1px 1px 1px);clip: rect(1px, 1px, 1px, 1px);height: 1px;margin: -1px;overflow: hidden;padding: 0;position: absolute;width: 1px;}#sk-container-id-34 div.sk-estimator {font-family: monospace;background-color: #f0f8ff;border: 1px dotted black;border-radius: 0.25em;box-sizing: border-box;margin-bottom: 0.5em;}#sk-container-id-34 div.sk-estimator:hover {background-color: #d4ebff;}#sk-container-id-34 div.sk-parallel-item::after {content: \"\";width: 100%;border-bottom: 1px solid gray;flex-grow: 1;}#sk-container-id-34 div.sk-label:hover label.sk-toggleable__label {background-color: #d4ebff;}#sk-container-id-34 div.sk-serial::before {content: \"\";position: absolute;border-left: 1px solid gray;box-sizing: border-box;top: 0;bottom: 0;left: 50%;z-index: 0;}#sk-container-id-34 div.sk-serial {display: flex;flex-direction: column;align-items: center;background-color: white;padding-right: 0.2em;padding-left: 0.2em;position: relative;}#sk-container-id-34 div.sk-item {position: relative;z-index: 1;}#sk-container-id-34 div.sk-parallel {display: flex;align-items: stretch;justify-content: center;background-color: white;position: relative;}#sk-container-id-34 div.sk-item::before, #sk-container-id-34 div.sk-parallel-item::before {content: \"\";position: absolute;border-left: 1px solid gray;box-sizing: border-box;top: 0;bottom: 0;left: 50%;z-index: -1;}#sk-container-id-34 div.sk-parallel-item {display: flex;flex-direction: column;z-index: 1;position: relative;background-color: white;}#sk-container-id-34 div.sk-parallel-item:first-child::after {align-self: flex-end;width: 50%;}#sk-container-id-34 div.sk-parallel-item:last-child::after {align-self: flex-start;width: 50%;}#sk-container-id-34 div.sk-parallel-item:only-child::after {width: 0;}#sk-container-id-34 div.sk-dashed-wrapped {border: 1px dashed gray;margin: 0 0.4em 0.5em 0.4em;box-sizing: border-box;padding-bottom: 0.4em;background-color: white;}#sk-container-id-34 div.sk-label label {font-family: monospace;font-weight: bold;display: inline-block;line-height: 1.2em;}#sk-container-id-34 div.sk-label-container {text-align: center;}#sk-container-id-34 div.sk-container {/* jupyter's `normalize.less` sets `[hidden] { display: none; }` but bootstrap.min.css set `[hidden] { display: none !important; }` so we also need the `!important` here to be able to override the default hidden behavior on the sphinx rendered scikit-learn.org. See: https://github.com/scikit-learn/scikit-learn/issues/21755 */display: inline-block !important;position: relative;}#sk-container-id-34 div.sk-text-repr-fallback {display: none;}</style><div id=\"sk-container-id-34\" class=\"sk-top-container\"><div class=\"sk-text-repr-fallback\"><pre>Pipeline(steps=[(&#x27;columntransformer&#x27;,\n",
       "                 ColumnTransformer(remainder=&#x27;passthrough&#x27;,\n",
       "                                   transformers=[(&#x27;onehotencoder&#x27;,\n",
       "                                                  OneHotEncoder(categories=[array([&#x27;Ambassador Avigo 1800&#x27;, &#x27;Ambassador Avigo 2000&#x27;,\n",
       "       &#x27;Ambassador Classic 1800&#x27;, ..., &#x27;Volvo XC60 D4&#x27;, &#x27;Volvo XC60 D5&#x27;,\n",
       "       &#x27;Volvo XC90 D5&#x27;], dtype=object),\n",
       "                                                                            array([&#x27;Ambassador&#x27;, &#x27;Audi&#x27;, &#x27;BMW&#x27;, &#x27;Bentley&#x27;, &#x27;Chevrolet&#x27;, &#x27;DC&#x27;,\n",
       "       &#x27;Daewoo&#x27;, &#x27;Datsun&#x27;,...\n",
       "       &#x27;Hyundai&#x27;, &#x27;ISUZU&#x27;, &#x27;Isuzu&#x27;, &#x27;Jaguar&#x27;, &#x27;Jeep&#x27;, &#x27;Kia&#x27;,\n",
       "       &#x27;Lamborghini&#x27;, &#x27;Land&#x27;, &#x27;Lexus&#x27;, &#x27;MG&#x27;, &#x27;Mahindra&#x27;, &#x27;Maruti&#x27;,\n",
       "       &#x27;Maserati&#x27;, &#x27;Mercedes-AMG&#x27;, &#x27;Mercedes-Benz&#x27;, &#x27;Mini&#x27;, &#x27;Mitsubishi&#x27;,\n",
       "       &#x27;Nissan&#x27;, &#x27;Opel&#x27;, &#x27;OpelCorsa&#x27;, &#x27;Porsche&#x27;, &#x27;Premier&#x27;, &#x27;Renault&#x27;,\n",
       "       &#x27;Rolls-Royce&#x27;, &#x27;Skoda&#x27;, &#x27;Tata&#x27;, &#x27;Toyota&#x27;, &#x27;Volkswagen&#x27;, &#x27;Volvo&#x27;],\n",
       "      dtype=object)]),\n",
       "                                                  [&#x27;full_name&#x27;,\n",
       "                                                   &#x27;brand_name&#x27;])])),\n",
       "                (&#x27;kneighborsregressor&#x27;, KNeighborsRegressor(n_jobs=-1))])</pre><b>In a Jupyter environment, please rerun this cell to show the HTML representation or trust the notebook. <br />On GitHub, the HTML representation is unable to render, please try loading this page with nbviewer.org.</b></div><div class=\"sk-container\" hidden><div class=\"sk-item sk-dashed-wrapped\"><div class=\"sk-label-container\"><div class=\"sk-label sk-toggleable\"><input class=\"sk-toggleable__control sk-hidden--visually\" id=\"sk-estimator-id-176\" type=\"checkbox\" ><label for=\"sk-estimator-id-176\" class=\"sk-toggleable__label sk-toggleable__label-arrow\">Pipeline</label><div class=\"sk-toggleable__content\"><pre>Pipeline(steps=[(&#x27;columntransformer&#x27;,\n",
       "                 ColumnTransformer(remainder=&#x27;passthrough&#x27;,\n",
       "                                   transformers=[(&#x27;onehotencoder&#x27;,\n",
       "                                                  OneHotEncoder(categories=[array([&#x27;Ambassador Avigo 1800&#x27;, &#x27;Ambassador Avigo 2000&#x27;,\n",
       "       &#x27;Ambassador Classic 1800&#x27;, ..., &#x27;Volvo XC60 D4&#x27;, &#x27;Volvo XC60 D5&#x27;,\n",
       "       &#x27;Volvo XC90 D5&#x27;], dtype=object),\n",
       "                                                                            array([&#x27;Ambassador&#x27;, &#x27;Audi&#x27;, &#x27;BMW&#x27;, &#x27;Bentley&#x27;, &#x27;Chevrolet&#x27;, &#x27;DC&#x27;,\n",
       "       &#x27;Daewoo&#x27;, &#x27;Datsun&#x27;,...\n",
       "       &#x27;Hyundai&#x27;, &#x27;ISUZU&#x27;, &#x27;Isuzu&#x27;, &#x27;Jaguar&#x27;, &#x27;Jeep&#x27;, &#x27;Kia&#x27;,\n",
       "       &#x27;Lamborghini&#x27;, &#x27;Land&#x27;, &#x27;Lexus&#x27;, &#x27;MG&#x27;, &#x27;Mahindra&#x27;, &#x27;Maruti&#x27;,\n",
       "       &#x27;Maserati&#x27;, &#x27;Mercedes-AMG&#x27;, &#x27;Mercedes-Benz&#x27;, &#x27;Mini&#x27;, &#x27;Mitsubishi&#x27;,\n",
       "       &#x27;Nissan&#x27;, &#x27;Opel&#x27;, &#x27;OpelCorsa&#x27;, &#x27;Porsche&#x27;, &#x27;Premier&#x27;, &#x27;Renault&#x27;,\n",
       "       &#x27;Rolls-Royce&#x27;, &#x27;Skoda&#x27;, &#x27;Tata&#x27;, &#x27;Toyota&#x27;, &#x27;Volkswagen&#x27;, &#x27;Volvo&#x27;],\n",
       "      dtype=object)]),\n",
       "                                                  [&#x27;full_name&#x27;,\n",
       "                                                   &#x27;brand_name&#x27;])])),\n",
       "                (&#x27;kneighborsregressor&#x27;, KNeighborsRegressor(n_jobs=-1))])</pre></div></div></div><div class=\"sk-serial\"><div class=\"sk-item sk-dashed-wrapped\"><div class=\"sk-label-container\"><div class=\"sk-label sk-toggleable\"><input class=\"sk-toggleable__control sk-hidden--visually\" id=\"sk-estimator-id-177\" type=\"checkbox\" ><label for=\"sk-estimator-id-177\" class=\"sk-toggleable__label sk-toggleable__label-arrow\">columntransformer: ColumnTransformer</label><div class=\"sk-toggleable__content\"><pre>ColumnTransformer(remainder=&#x27;passthrough&#x27;,\n",
       "                  transformers=[(&#x27;onehotencoder&#x27;,\n",
       "                                 OneHotEncoder(categories=[array([&#x27;Ambassador Avigo 1800&#x27;, &#x27;Ambassador Avigo 2000&#x27;,\n",
       "       &#x27;Ambassador Classic 1800&#x27;, ..., &#x27;Volvo XC60 D4&#x27;, &#x27;Volvo XC60 D5&#x27;,\n",
       "       &#x27;Volvo XC90 D5&#x27;], dtype=object),\n",
       "                                                           array([&#x27;Ambassador&#x27;, &#x27;Audi&#x27;, &#x27;BMW&#x27;, &#x27;Bentley&#x27;, &#x27;Chevrolet&#x27;, &#x27;DC&#x27;,\n",
       "       &#x27;Daewoo&#x27;, &#x27;Datsun&#x27;, &#x27;Ferrari&#x27;, &#x27;Fiat&#x27;, &#x27;Force&#x27;, &#x27;Ford&#x27;, &#x27;Honda&#x27;,\n",
       "       &#x27;Hyundai&#x27;, &#x27;ISUZU&#x27;, &#x27;Isuzu&#x27;, &#x27;Jaguar&#x27;, &#x27;Jeep&#x27;, &#x27;Kia&#x27;,\n",
       "       &#x27;Lamborghini&#x27;, &#x27;Land&#x27;, &#x27;Lexus&#x27;, &#x27;MG&#x27;, &#x27;Mahindra&#x27;, &#x27;Maruti&#x27;,\n",
       "       &#x27;Maserati&#x27;, &#x27;Mercedes-AMG&#x27;, &#x27;Mercedes-Benz&#x27;, &#x27;Mini&#x27;, &#x27;Mitsubishi&#x27;,\n",
       "       &#x27;Nissan&#x27;, &#x27;Opel&#x27;, &#x27;OpelCorsa&#x27;, &#x27;Porsche&#x27;, &#x27;Premier&#x27;, &#x27;Renault&#x27;,\n",
       "       &#x27;Rolls-Royce&#x27;, &#x27;Skoda&#x27;, &#x27;Tata&#x27;, &#x27;Toyota&#x27;, &#x27;Volkswagen&#x27;, &#x27;Volvo&#x27;],\n",
       "      dtype=object)]),\n",
       "                                 [&#x27;full_name&#x27;, &#x27;brand_name&#x27;])])</pre></div></div></div><div class=\"sk-parallel\"><div class=\"sk-parallel-item\"><div class=\"sk-item\"><div class=\"sk-label-container\"><div class=\"sk-label sk-toggleable\"><input class=\"sk-toggleable__control sk-hidden--visually\" id=\"sk-estimator-id-178\" type=\"checkbox\" ><label for=\"sk-estimator-id-178\" class=\"sk-toggleable__label sk-toggleable__label-arrow\">onehotencoder</label><div class=\"sk-toggleable__content\"><pre>[&#x27;full_name&#x27;, &#x27;brand_name&#x27;]</pre></div></div></div><div class=\"sk-serial\"><div class=\"sk-item\"><div class=\"sk-estimator sk-toggleable\"><input class=\"sk-toggleable__control sk-hidden--visually\" id=\"sk-estimator-id-179\" type=\"checkbox\" ><label for=\"sk-estimator-id-179\" class=\"sk-toggleable__label sk-toggleable__label-arrow\">OneHotEncoder</label><div class=\"sk-toggleable__content\"><pre>OneHotEncoder(categories=[array([&#x27;Ambassador Avigo 1800&#x27;, &#x27;Ambassador Avigo 2000&#x27;,\n",
       "       &#x27;Ambassador Classic 1800&#x27;, ..., &#x27;Volvo XC60 D4&#x27;, &#x27;Volvo XC60 D5&#x27;,\n",
       "       &#x27;Volvo XC90 D5&#x27;], dtype=object),\n",
       "                          array([&#x27;Ambassador&#x27;, &#x27;Audi&#x27;, &#x27;BMW&#x27;, &#x27;Bentley&#x27;, &#x27;Chevrolet&#x27;, &#x27;DC&#x27;,\n",
       "       &#x27;Daewoo&#x27;, &#x27;Datsun&#x27;, &#x27;Ferrari&#x27;, &#x27;Fiat&#x27;, &#x27;Force&#x27;, &#x27;Ford&#x27;, &#x27;Honda&#x27;,\n",
       "       &#x27;Hyundai&#x27;, &#x27;ISUZU&#x27;, &#x27;Isuzu&#x27;, &#x27;Jaguar&#x27;, &#x27;Jeep&#x27;, &#x27;Kia&#x27;,\n",
       "       &#x27;Lamborghini&#x27;, &#x27;Land&#x27;, &#x27;Lexus&#x27;, &#x27;MG&#x27;, &#x27;Mahindra&#x27;, &#x27;Maruti&#x27;,\n",
       "       &#x27;Maserati&#x27;, &#x27;Mercedes-AMG&#x27;, &#x27;Mercedes-Benz&#x27;, &#x27;Mini&#x27;, &#x27;Mitsubishi&#x27;,\n",
       "       &#x27;Nissan&#x27;, &#x27;Opel&#x27;, &#x27;OpelCorsa&#x27;, &#x27;Porsche&#x27;, &#x27;Premier&#x27;, &#x27;Renault&#x27;,\n",
       "       &#x27;Rolls-Royce&#x27;, &#x27;Skoda&#x27;, &#x27;Tata&#x27;, &#x27;Toyota&#x27;, &#x27;Volkswagen&#x27;, &#x27;Volvo&#x27;],\n",
       "      dtype=object)])</pre></div></div></div></div></div></div><div class=\"sk-parallel-item\"><div class=\"sk-item\"><div class=\"sk-label-container\"><div class=\"sk-label sk-toggleable\"><input class=\"sk-toggleable__control sk-hidden--visually\" id=\"sk-estimator-id-180\" type=\"checkbox\" ><label for=\"sk-estimator-id-180\" class=\"sk-toggleable__label sk-toggleable__label-arrow\">remainder</label><div class=\"sk-toggleable__content\"><pre>[&#x27;min_price&#x27;, &#x27;max_price&#x27;, &#x27;year&#x27;, &#x27;seller_type&#x27;, &#x27;km_driven&#x27;, &#x27;owner_type&#x27;, &#x27;fuel_type&#x27;, &#x27;transmission_type&#x27;, &#x27;mileage&#x27;, &#x27;engine&#x27;, &#x27;max_power&#x27;, &#x27;seats&#x27;]</pre></div></div></div><div class=\"sk-serial\"><div class=\"sk-item\"><div class=\"sk-estimator sk-toggleable\"><input class=\"sk-toggleable__control sk-hidden--visually\" id=\"sk-estimator-id-181\" type=\"checkbox\" ><label for=\"sk-estimator-id-181\" class=\"sk-toggleable__label sk-toggleable__label-arrow\">passthrough</label><div class=\"sk-toggleable__content\"><pre>passthrough</pre></div></div></div></div></div></div></div></div><div class=\"sk-item\"><div class=\"sk-estimator sk-toggleable\"><input class=\"sk-toggleable__control sk-hidden--visually\" id=\"sk-estimator-id-182\" type=\"checkbox\" ><label for=\"sk-estimator-id-182\" class=\"sk-toggleable__label sk-toggleable__label-arrow\">KNeighborsRegressor</label><div class=\"sk-toggleable__content\"><pre>KNeighborsRegressor(n_jobs=-1)</pre></div></div></div></div></div></div></div>"
      ],
      "text/plain": [
       "Pipeline(steps=[('columntransformer',\n",
       "                 ColumnTransformer(remainder='passthrough',\n",
       "                                   transformers=[('onehotencoder',\n",
       "                                                  OneHotEncoder(categories=[array(['Ambassador Avigo 1800', 'Ambassador Avigo 2000',\n",
       "       'Ambassador Classic 1800', ..., 'Volvo XC60 D4', 'Volvo XC60 D5',\n",
       "       'Volvo XC90 D5'], dtype=object),\n",
       "                                                                            array(['Ambassador', 'Audi', 'BMW', 'Bentley', 'Chevrolet', 'DC',\n",
       "       'Daewoo', 'Datsun',...\n",
       "       'Hyundai', 'ISUZU', 'Isuzu', 'Jaguar', 'Jeep', 'Kia',\n",
       "       'Lamborghini', 'Land', 'Lexus', 'MG', 'Mahindra', 'Maruti',\n",
       "       'Maserati', 'Mercedes-AMG', 'Mercedes-Benz', 'Mini', 'Mitsubishi',\n",
       "       'Nissan', 'Opel', 'OpelCorsa', 'Porsche', 'Premier', 'Renault',\n",
       "       'Rolls-Royce', 'Skoda', 'Tata', 'Toyota', 'Volkswagen', 'Volvo'],\n",
       "      dtype=object)]),\n",
       "                                                  ['full_name',\n",
       "                                                   'brand_name'])])),\n",
       "                ('kneighborsregressor', KNeighborsRegressor(n_jobs=-1))])"
      ]
     },
     "execution_count": 789,
     "metadata": {},
     "output_type": "execute_result"
    }
   ],
   "source": [
    "knn_reg = KNeighborsRegressor(n_jobs = -1)\n",
    "knn_reg_pipe = make_pipeline(column_trans, knn_reg)\n",
    "knn_reg_pipe.fit(x_train, y_train)"
   ]
  },
  {
   "cell_type": "code",
   "execution_count": 790,
   "id": "20460aa8",
   "metadata": {},
   "outputs": [
    {
     "name": "stdout",
     "output_type": "stream",
     "text": [
      "MSE Train KNN_reg =  98277115849.37128\n",
      "RMSE Train KNN_reg =  313491.81145505427\n",
      "MAE Train KNN_reg =  123875.04191011236\n",
      "R2_Squared Train KNN_reg =  0.8614096506964186\n",
      "\n",
      "************************************************************\n",
      "\n",
      "MSE test KNN_reg =  475862201875.1881\n",
      "RMSE test KNN_reg =  689827.6609959825\n",
      "MAE test KNN_reg =  165964.85282076887\n",
      "test test KNN_reg =  0.633355722172732\n"
     ]
    }
   ],
   "source": [
    "#Training data Evaluation #########################################################################################\n",
    "\n",
    "y_pred_train_knn = knn_reg_pipe.predict(x_train)\n",
    "\n",
    "mse = mean_squared_error(y_train, y_pred_train_knn)\n",
    "print(\"MSE Train KNN_reg = \", mse)\n",
    "\n",
    "rmse = np.sqrt(mse)\n",
    "print(\"RMSE Train KNN_reg = \", rmse)\n",
    "\n",
    "mae = mean_absolute_error(y_train, y_pred_train_knn)\n",
    "print(\"MAE Train KNN_reg = \", mae)\n",
    "\n",
    "r_squared = r2_score(y_train, y_pred_train_knn)\n",
    "print(\"R2_Squared Train KNN_reg = \", r_squared)\n",
    "\n",
    "print()\n",
    "print(\"*\"*60)\n",
    "print()\n",
    "\n",
    "#Testing data Evaluation #########################################################################################\n",
    "\n",
    "y_pred_test_knn = knn_reg_pipe.predict(x_test)\n",
    "\n",
    "mse = mean_squared_error(y_test, y_pred_test_knn)\n",
    "print(\"MSE test KNN_reg = \", mse)\n",
    "\n",
    "rmse = np.sqrt(mse)\n",
    "print(\"RMSE test KNN_reg = \", rmse)\n",
    "\n",
    "mae = mean_absolute_error(y_test, y_pred_test_knn)\n",
    "print(\"MAE test KNN_reg = \", mae)\n",
    "\n",
    "r_squared = r2_score(y_test, y_pred_test_knn)\n",
    "print(\"test test KNN_reg = \", r_squared)"
   ]
  },
  {
   "cell_type": "markdown",
   "id": "fd74939f",
   "metadata": {},
   "source": [
    "# KNN model with Normalization of Data"
   ]
  },
  {
   "cell_type": "code",
   "execution_count": 792,
   "id": "27de950f",
   "metadata": {},
   "outputs": [],
   "source": [
    "# df1"
   ]
  },
  {
   "cell_type": "code",
   "execution_count": 794,
   "id": "0d04a6d7",
   "metadata": {},
   "outputs": [],
   "source": [
    "norm_col = ['min_price', 'max_price', 'year', 'seller_type', 'km_driven', 'owner_type',\n",
    "       'fuel_type', 'transmission_type', 'mileage', 'engine', 'max_power', 'seats']\n",
    "\n",
    "x1 = df1[norm_col]\n",
    "x = df1.drop(['model','min_price', 'max_price', 'year', 'seller_type', 'km_driven', 'owner_type',\n",
    "       'fuel_type', 'transmission_type', 'mileage', 'engine', 'max_power', 'seats', 'selling_price'], axis= 1)\n",
    "y = df1['selling_price']\n",
    "\n",
    "normal_scalar1 = MinMaxScaler()\n",
    "array3 = normal_scalar1.fit_transform(x1)\n",
    "new_x1_norm_df = pd.DataFrame(array3, columns = x1.columns)\n",
    "new_x1_norm_df\n",
    "x = pd.concat([x, new_x1_norm_df], axis = 1)\n",
    "\n",
    "\n",
    "x_train, x_test, y_train, y_test = train_test_split(x, y , test_size= 0.2, random_state= 42)\n",
    "# x_train"
   ]
  },
  {
   "cell_type": "code",
   "execution_count": 795,
   "id": "7807c16e",
   "metadata": {},
   "outputs": [
    {
     "data": {
      "text/html": [
       "<style>#sk-container-id-35 {color: black;background-color: white;}#sk-container-id-35 pre{padding: 0;}#sk-container-id-35 div.sk-toggleable {background-color: white;}#sk-container-id-35 label.sk-toggleable__label {cursor: pointer;display: block;width: 100%;margin-bottom: 0;padding: 0.3em;box-sizing: border-box;text-align: center;}#sk-container-id-35 label.sk-toggleable__label-arrow:before {content: \"▸\";float: left;margin-right: 0.25em;color: #696969;}#sk-container-id-35 label.sk-toggleable__label-arrow:hover:before {color: black;}#sk-container-id-35 div.sk-estimator:hover label.sk-toggleable__label-arrow:before {color: black;}#sk-container-id-35 div.sk-toggleable__content {max-height: 0;max-width: 0;overflow: hidden;text-align: left;background-color: #f0f8ff;}#sk-container-id-35 div.sk-toggleable__content pre {margin: 0.2em;color: black;border-radius: 0.25em;background-color: #f0f8ff;}#sk-container-id-35 input.sk-toggleable__control:checked~div.sk-toggleable__content {max-height: 200px;max-width: 100%;overflow: auto;}#sk-container-id-35 input.sk-toggleable__control:checked~label.sk-toggleable__label-arrow:before {content: \"▾\";}#sk-container-id-35 div.sk-estimator input.sk-toggleable__control:checked~label.sk-toggleable__label {background-color: #d4ebff;}#sk-container-id-35 div.sk-label input.sk-toggleable__control:checked~label.sk-toggleable__label {background-color: #d4ebff;}#sk-container-id-35 input.sk-hidden--visually {border: 0;clip: rect(1px 1px 1px 1px);clip: rect(1px, 1px, 1px, 1px);height: 1px;margin: -1px;overflow: hidden;padding: 0;position: absolute;width: 1px;}#sk-container-id-35 div.sk-estimator {font-family: monospace;background-color: #f0f8ff;border: 1px dotted black;border-radius: 0.25em;box-sizing: border-box;margin-bottom: 0.5em;}#sk-container-id-35 div.sk-estimator:hover {background-color: #d4ebff;}#sk-container-id-35 div.sk-parallel-item::after {content: \"\";width: 100%;border-bottom: 1px solid gray;flex-grow: 1;}#sk-container-id-35 div.sk-label:hover label.sk-toggleable__label {background-color: #d4ebff;}#sk-container-id-35 div.sk-serial::before {content: \"\";position: absolute;border-left: 1px solid gray;box-sizing: border-box;top: 0;bottom: 0;left: 50%;z-index: 0;}#sk-container-id-35 div.sk-serial {display: flex;flex-direction: column;align-items: center;background-color: white;padding-right: 0.2em;padding-left: 0.2em;position: relative;}#sk-container-id-35 div.sk-item {position: relative;z-index: 1;}#sk-container-id-35 div.sk-parallel {display: flex;align-items: stretch;justify-content: center;background-color: white;position: relative;}#sk-container-id-35 div.sk-item::before, #sk-container-id-35 div.sk-parallel-item::before {content: \"\";position: absolute;border-left: 1px solid gray;box-sizing: border-box;top: 0;bottom: 0;left: 50%;z-index: -1;}#sk-container-id-35 div.sk-parallel-item {display: flex;flex-direction: column;z-index: 1;position: relative;background-color: white;}#sk-container-id-35 div.sk-parallel-item:first-child::after {align-self: flex-end;width: 50%;}#sk-container-id-35 div.sk-parallel-item:last-child::after {align-self: flex-start;width: 50%;}#sk-container-id-35 div.sk-parallel-item:only-child::after {width: 0;}#sk-container-id-35 div.sk-dashed-wrapped {border: 1px dashed gray;margin: 0 0.4em 0.5em 0.4em;box-sizing: border-box;padding-bottom: 0.4em;background-color: white;}#sk-container-id-35 div.sk-label label {font-family: monospace;font-weight: bold;display: inline-block;line-height: 1.2em;}#sk-container-id-35 div.sk-label-container {text-align: center;}#sk-container-id-35 div.sk-container {/* jupyter's `normalize.less` sets `[hidden] { display: none; }` but bootstrap.min.css set `[hidden] { display: none !important; }` so we also need the `!important` here to be able to override the default hidden behavior on the sphinx rendered scikit-learn.org. See: https://github.com/scikit-learn/scikit-learn/issues/21755 */display: inline-block !important;position: relative;}#sk-container-id-35 div.sk-text-repr-fallback {display: none;}</style><div id=\"sk-container-id-35\" class=\"sk-top-container\"><div class=\"sk-text-repr-fallback\"><pre>OneHotEncoder()</pre><b>In a Jupyter environment, please rerun this cell to show the HTML representation or trust the notebook. <br />On GitHub, the HTML representation is unable to render, please try loading this page with nbviewer.org.</b></div><div class=\"sk-container\" hidden><div class=\"sk-item\"><div class=\"sk-estimator sk-toggleable\"><input class=\"sk-toggleable__control sk-hidden--visually\" id=\"sk-estimator-id-183\" type=\"checkbox\" checked><label for=\"sk-estimator-id-183\" class=\"sk-toggleable__label sk-toggleable__label-arrow\">OneHotEncoder</label><div class=\"sk-toggleable__content\"><pre>OneHotEncoder()</pre></div></div></div></div></div>"
      ],
      "text/plain": [
       "OneHotEncoder()"
      ]
     },
     "execution_count": 795,
     "metadata": {},
     "output_type": "execute_result"
    }
   ],
   "source": [
    "ohe1 = OneHotEncoder()\n",
    "ohe1.fit(x[[\"full_name\", \"brand_name\"]])"
   ]
  },
  {
   "cell_type": "code",
   "execution_count": 796,
   "id": "ded609e6",
   "metadata": {},
   "outputs": [
    {
     "data": {
      "text/html": [
       "<style>#sk-container-id-36 {color: black;background-color: white;}#sk-container-id-36 pre{padding: 0;}#sk-container-id-36 div.sk-toggleable {background-color: white;}#sk-container-id-36 label.sk-toggleable__label {cursor: pointer;display: block;width: 100%;margin-bottom: 0;padding: 0.3em;box-sizing: border-box;text-align: center;}#sk-container-id-36 label.sk-toggleable__label-arrow:before {content: \"▸\";float: left;margin-right: 0.25em;color: #696969;}#sk-container-id-36 label.sk-toggleable__label-arrow:hover:before {color: black;}#sk-container-id-36 div.sk-estimator:hover label.sk-toggleable__label-arrow:before {color: black;}#sk-container-id-36 div.sk-toggleable__content {max-height: 0;max-width: 0;overflow: hidden;text-align: left;background-color: #f0f8ff;}#sk-container-id-36 div.sk-toggleable__content pre {margin: 0.2em;color: black;border-radius: 0.25em;background-color: #f0f8ff;}#sk-container-id-36 input.sk-toggleable__control:checked~div.sk-toggleable__content {max-height: 200px;max-width: 100%;overflow: auto;}#sk-container-id-36 input.sk-toggleable__control:checked~label.sk-toggleable__label-arrow:before {content: \"▾\";}#sk-container-id-36 div.sk-estimator input.sk-toggleable__control:checked~label.sk-toggleable__label {background-color: #d4ebff;}#sk-container-id-36 div.sk-label input.sk-toggleable__control:checked~label.sk-toggleable__label {background-color: #d4ebff;}#sk-container-id-36 input.sk-hidden--visually {border: 0;clip: rect(1px 1px 1px 1px);clip: rect(1px, 1px, 1px, 1px);height: 1px;margin: -1px;overflow: hidden;padding: 0;position: absolute;width: 1px;}#sk-container-id-36 div.sk-estimator {font-family: monospace;background-color: #f0f8ff;border: 1px dotted black;border-radius: 0.25em;box-sizing: border-box;margin-bottom: 0.5em;}#sk-container-id-36 div.sk-estimator:hover {background-color: #d4ebff;}#sk-container-id-36 div.sk-parallel-item::after {content: \"\";width: 100%;border-bottom: 1px solid gray;flex-grow: 1;}#sk-container-id-36 div.sk-label:hover label.sk-toggleable__label {background-color: #d4ebff;}#sk-container-id-36 div.sk-serial::before {content: \"\";position: absolute;border-left: 1px solid gray;box-sizing: border-box;top: 0;bottom: 0;left: 50%;z-index: 0;}#sk-container-id-36 div.sk-serial {display: flex;flex-direction: column;align-items: center;background-color: white;padding-right: 0.2em;padding-left: 0.2em;position: relative;}#sk-container-id-36 div.sk-item {position: relative;z-index: 1;}#sk-container-id-36 div.sk-parallel {display: flex;align-items: stretch;justify-content: center;background-color: white;position: relative;}#sk-container-id-36 div.sk-item::before, #sk-container-id-36 div.sk-parallel-item::before {content: \"\";position: absolute;border-left: 1px solid gray;box-sizing: border-box;top: 0;bottom: 0;left: 50%;z-index: -1;}#sk-container-id-36 div.sk-parallel-item {display: flex;flex-direction: column;z-index: 1;position: relative;background-color: white;}#sk-container-id-36 div.sk-parallel-item:first-child::after {align-self: flex-end;width: 50%;}#sk-container-id-36 div.sk-parallel-item:last-child::after {align-self: flex-start;width: 50%;}#sk-container-id-36 div.sk-parallel-item:only-child::after {width: 0;}#sk-container-id-36 div.sk-dashed-wrapped {border: 1px dashed gray;margin: 0 0.4em 0.5em 0.4em;box-sizing: border-box;padding-bottom: 0.4em;background-color: white;}#sk-container-id-36 div.sk-label label {font-family: monospace;font-weight: bold;display: inline-block;line-height: 1.2em;}#sk-container-id-36 div.sk-label-container {text-align: center;}#sk-container-id-36 div.sk-container {/* jupyter's `normalize.less` sets `[hidden] { display: none; }` but bootstrap.min.css set `[hidden] { display: none !important; }` so we also need the `!important` here to be able to override the default hidden behavior on the sphinx rendered scikit-learn.org. See: https://github.com/scikit-learn/scikit-learn/issues/21755 */display: inline-block !important;position: relative;}#sk-container-id-36 div.sk-text-repr-fallback {display: none;}</style><div id=\"sk-container-id-36\" class=\"sk-top-container\"><div class=\"sk-text-repr-fallback\"><pre>ColumnTransformer(remainder=&#x27;passthrough&#x27;,\n",
       "                  transformers=[(&#x27;onehotencoder&#x27;,\n",
       "                                 OneHotEncoder(categories=[array([&#x27;Ambassador Avigo 1800&#x27;, &#x27;Ambassador Avigo 2000&#x27;,\n",
       "       &#x27;Ambassador Classic 1800&#x27;, ..., &#x27;Volvo XC60 D4&#x27;, &#x27;Volvo XC60 D5&#x27;,\n",
       "       &#x27;Volvo XC90 D5&#x27;], dtype=object),\n",
       "                                                           array([&#x27;Ambassador&#x27;, &#x27;Audi&#x27;, &#x27;BMW&#x27;, &#x27;Bentley&#x27;, &#x27;Chevrolet&#x27;, &#x27;DC&#x27;,\n",
       "       &#x27;Daewoo&#x27;, &#x27;Datsun&#x27;, &#x27;Ferrari&#x27;, &#x27;Fiat&#x27;, &#x27;Force&#x27;, &#x27;Ford&#x27;, &#x27;Honda&#x27;,\n",
       "       &#x27;Hyundai&#x27;, &#x27;ISUZU&#x27;, &#x27;Isuzu&#x27;, &#x27;Jaguar&#x27;, &#x27;Jeep&#x27;, &#x27;Kia&#x27;,\n",
       "       &#x27;Lamborghini&#x27;, &#x27;Land&#x27;, &#x27;Lexus&#x27;, &#x27;MG&#x27;, &#x27;Mahindra&#x27;, &#x27;Maruti&#x27;,\n",
       "       &#x27;Maserati&#x27;, &#x27;Mercedes-AMG&#x27;, &#x27;Mercedes-Benz&#x27;, &#x27;Mini&#x27;, &#x27;Mitsubishi&#x27;,\n",
       "       &#x27;Nissan&#x27;, &#x27;Opel&#x27;, &#x27;OpelCorsa&#x27;, &#x27;Porsche&#x27;, &#x27;Premier&#x27;, &#x27;Renault&#x27;,\n",
       "       &#x27;Rolls-Royce&#x27;, &#x27;Skoda&#x27;, &#x27;Tata&#x27;, &#x27;Toyota&#x27;, &#x27;Volkswagen&#x27;, &#x27;Volvo&#x27;],\n",
       "      dtype=object)]),\n",
       "                                 [&#x27;full_name&#x27;, &#x27;brand_name&#x27;])])</pre><b>In a Jupyter environment, please rerun this cell to show the HTML representation or trust the notebook. <br />On GitHub, the HTML representation is unable to render, please try loading this page with nbviewer.org.</b></div><div class=\"sk-container\" hidden><div class=\"sk-item sk-dashed-wrapped\"><div class=\"sk-label-container\"><div class=\"sk-label sk-toggleable\"><input class=\"sk-toggleable__control sk-hidden--visually\" id=\"sk-estimator-id-184\" type=\"checkbox\" ><label for=\"sk-estimator-id-184\" class=\"sk-toggleable__label sk-toggleable__label-arrow\">ColumnTransformer</label><div class=\"sk-toggleable__content\"><pre>ColumnTransformer(remainder=&#x27;passthrough&#x27;,\n",
       "                  transformers=[(&#x27;onehotencoder&#x27;,\n",
       "                                 OneHotEncoder(categories=[array([&#x27;Ambassador Avigo 1800&#x27;, &#x27;Ambassador Avigo 2000&#x27;,\n",
       "       &#x27;Ambassador Classic 1800&#x27;, ..., &#x27;Volvo XC60 D4&#x27;, &#x27;Volvo XC60 D5&#x27;,\n",
       "       &#x27;Volvo XC90 D5&#x27;], dtype=object),\n",
       "                                                           array([&#x27;Ambassador&#x27;, &#x27;Audi&#x27;, &#x27;BMW&#x27;, &#x27;Bentley&#x27;, &#x27;Chevrolet&#x27;, &#x27;DC&#x27;,\n",
       "       &#x27;Daewoo&#x27;, &#x27;Datsun&#x27;, &#x27;Ferrari&#x27;, &#x27;Fiat&#x27;, &#x27;Force&#x27;, &#x27;Ford&#x27;, &#x27;Honda&#x27;,\n",
       "       &#x27;Hyundai&#x27;, &#x27;ISUZU&#x27;, &#x27;Isuzu&#x27;, &#x27;Jaguar&#x27;, &#x27;Jeep&#x27;, &#x27;Kia&#x27;,\n",
       "       &#x27;Lamborghini&#x27;, &#x27;Land&#x27;, &#x27;Lexus&#x27;, &#x27;MG&#x27;, &#x27;Mahindra&#x27;, &#x27;Maruti&#x27;,\n",
       "       &#x27;Maserati&#x27;, &#x27;Mercedes-AMG&#x27;, &#x27;Mercedes-Benz&#x27;, &#x27;Mini&#x27;, &#x27;Mitsubishi&#x27;,\n",
       "       &#x27;Nissan&#x27;, &#x27;Opel&#x27;, &#x27;OpelCorsa&#x27;, &#x27;Porsche&#x27;, &#x27;Premier&#x27;, &#x27;Renault&#x27;,\n",
       "       &#x27;Rolls-Royce&#x27;, &#x27;Skoda&#x27;, &#x27;Tata&#x27;, &#x27;Toyota&#x27;, &#x27;Volkswagen&#x27;, &#x27;Volvo&#x27;],\n",
       "      dtype=object)]),\n",
       "                                 [&#x27;full_name&#x27;, &#x27;brand_name&#x27;])])</pre></div></div></div><div class=\"sk-parallel\"><div class=\"sk-parallel-item\"><div class=\"sk-item\"><div class=\"sk-label-container\"><div class=\"sk-label sk-toggleable\"><input class=\"sk-toggleable__control sk-hidden--visually\" id=\"sk-estimator-id-185\" type=\"checkbox\" ><label for=\"sk-estimator-id-185\" class=\"sk-toggleable__label sk-toggleable__label-arrow\">onehotencoder</label><div class=\"sk-toggleable__content\"><pre>[&#x27;full_name&#x27;, &#x27;brand_name&#x27;]</pre></div></div></div><div class=\"sk-serial\"><div class=\"sk-item\"><div class=\"sk-estimator sk-toggleable\"><input class=\"sk-toggleable__control sk-hidden--visually\" id=\"sk-estimator-id-186\" type=\"checkbox\" ><label for=\"sk-estimator-id-186\" class=\"sk-toggleable__label sk-toggleable__label-arrow\">OneHotEncoder</label><div class=\"sk-toggleable__content\"><pre>OneHotEncoder(categories=[array([&#x27;Ambassador Avigo 1800&#x27;, &#x27;Ambassador Avigo 2000&#x27;,\n",
       "       &#x27;Ambassador Classic 1800&#x27;, ..., &#x27;Volvo XC60 D4&#x27;, &#x27;Volvo XC60 D5&#x27;,\n",
       "       &#x27;Volvo XC90 D5&#x27;], dtype=object),\n",
       "                          array([&#x27;Ambassador&#x27;, &#x27;Audi&#x27;, &#x27;BMW&#x27;, &#x27;Bentley&#x27;, &#x27;Chevrolet&#x27;, &#x27;DC&#x27;,\n",
       "       &#x27;Daewoo&#x27;, &#x27;Datsun&#x27;, &#x27;Ferrari&#x27;, &#x27;Fiat&#x27;, &#x27;Force&#x27;, &#x27;Ford&#x27;, &#x27;Honda&#x27;,\n",
       "       &#x27;Hyundai&#x27;, &#x27;ISUZU&#x27;, &#x27;Isuzu&#x27;, &#x27;Jaguar&#x27;, &#x27;Jeep&#x27;, &#x27;Kia&#x27;,\n",
       "       &#x27;Lamborghini&#x27;, &#x27;Land&#x27;, &#x27;Lexus&#x27;, &#x27;MG&#x27;, &#x27;Mahindra&#x27;, &#x27;Maruti&#x27;,\n",
       "       &#x27;Maserati&#x27;, &#x27;Mercedes-AMG&#x27;, &#x27;Mercedes-Benz&#x27;, &#x27;Mini&#x27;, &#x27;Mitsubishi&#x27;,\n",
       "       &#x27;Nissan&#x27;, &#x27;Opel&#x27;, &#x27;OpelCorsa&#x27;, &#x27;Porsche&#x27;, &#x27;Premier&#x27;, &#x27;Renault&#x27;,\n",
       "       &#x27;Rolls-Royce&#x27;, &#x27;Skoda&#x27;, &#x27;Tata&#x27;, &#x27;Toyota&#x27;, &#x27;Volkswagen&#x27;, &#x27;Volvo&#x27;],\n",
       "      dtype=object)])</pre></div></div></div></div></div></div><div class=\"sk-parallel-item\"><div class=\"sk-item\"><div class=\"sk-label-container\"><div class=\"sk-label sk-toggleable\"><input class=\"sk-toggleable__control sk-hidden--visually\" id=\"sk-estimator-id-187\" type=\"checkbox\" ><label for=\"sk-estimator-id-187\" class=\"sk-toggleable__label sk-toggleable__label-arrow\">remainder</label><div class=\"sk-toggleable__content\"><pre></pre></div></div></div><div class=\"sk-serial\"><div class=\"sk-item\"><div class=\"sk-estimator sk-toggleable\"><input class=\"sk-toggleable__control sk-hidden--visually\" id=\"sk-estimator-id-188\" type=\"checkbox\" ><label for=\"sk-estimator-id-188\" class=\"sk-toggleable__label sk-toggleable__label-arrow\">passthrough</label><div class=\"sk-toggleable__content\"><pre>passthrough</pre></div></div></div></div></div></div></div></div></div></div>"
      ],
      "text/plain": [
       "ColumnTransformer(remainder='passthrough',\n",
       "                  transformers=[('onehotencoder',\n",
       "                                 OneHotEncoder(categories=[array(['Ambassador Avigo 1800', 'Ambassador Avigo 2000',\n",
       "       'Ambassador Classic 1800', ..., 'Volvo XC60 D4', 'Volvo XC60 D5',\n",
       "       'Volvo XC90 D5'], dtype=object),\n",
       "                                                           array(['Ambassador', 'Audi', 'BMW', 'Bentley', 'Chevrolet', 'DC',\n",
       "       'Daewoo', 'Datsun', 'Ferrari', 'Fiat', 'Force', 'Ford', 'Honda',\n",
       "       'Hyundai', 'ISUZU', 'Isuzu', 'Jaguar', 'Jeep', 'Kia',\n",
       "       'Lamborghini', 'Land', 'Lexus', 'MG', 'Mahindra', 'Maruti',\n",
       "       'Maserati', 'Mercedes-AMG', 'Mercedes-Benz', 'Mini', 'Mitsubishi',\n",
       "       'Nissan', 'Opel', 'OpelCorsa', 'Porsche', 'Premier', 'Renault',\n",
       "       'Rolls-Royce', 'Skoda', 'Tata', 'Toyota', 'Volkswagen', 'Volvo'],\n",
       "      dtype=object)]),\n",
       "                                 ['full_name', 'brand_name'])])"
      ]
     },
     "execution_count": 796,
     "metadata": {},
     "output_type": "execute_result"
    }
   ],
   "source": [
    "column_trans1 = make_column_transformer((OneHotEncoder(categories=ohe.categories_),\n",
    "                                        [\"full_name\", \"brand_name\"]), \n",
    "                                       remainder= \"passthrough\")\n",
    "column_trans1"
   ]
  },
  {
   "cell_type": "code",
   "execution_count": 797,
   "id": "6eda8057",
   "metadata": {},
   "outputs": [
    {
     "data": {
      "text/html": [
       "<style>#sk-container-id-37 {color: black;background-color: white;}#sk-container-id-37 pre{padding: 0;}#sk-container-id-37 div.sk-toggleable {background-color: white;}#sk-container-id-37 label.sk-toggleable__label {cursor: pointer;display: block;width: 100%;margin-bottom: 0;padding: 0.3em;box-sizing: border-box;text-align: center;}#sk-container-id-37 label.sk-toggleable__label-arrow:before {content: \"▸\";float: left;margin-right: 0.25em;color: #696969;}#sk-container-id-37 label.sk-toggleable__label-arrow:hover:before {color: black;}#sk-container-id-37 div.sk-estimator:hover label.sk-toggleable__label-arrow:before {color: black;}#sk-container-id-37 div.sk-toggleable__content {max-height: 0;max-width: 0;overflow: hidden;text-align: left;background-color: #f0f8ff;}#sk-container-id-37 div.sk-toggleable__content pre {margin: 0.2em;color: black;border-radius: 0.25em;background-color: #f0f8ff;}#sk-container-id-37 input.sk-toggleable__control:checked~div.sk-toggleable__content {max-height: 200px;max-width: 100%;overflow: auto;}#sk-container-id-37 input.sk-toggleable__control:checked~label.sk-toggleable__label-arrow:before {content: \"▾\";}#sk-container-id-37 div.sk-estimator input.sk-toggleable__control:checked~label.sk-toggleable__label {background-color: #d4ebff;}#sk-container-id-37 div.sk-label input.sk-toggleable__control:checked~label.sk-toggleable__label {background-color: #d4ebff;}#sk-container-id-37 input.sk-hidden--visually {border: 0;clip: rect(1px 1px 1px 1px);clip: rect(1px, 1px, 1px, 1px);height: 1px;margin: -1px;overflow: hidden;padding: 0;position: absolute;width: 1px;}#sk-container-id-37 div.sk-estimator {font-family: monospace;background-color: #f0f8ff;border: 1px dotted black;border-radius: 0.25em;box-sizing: border-box;margin-bottom: 0.5em;}#sk-container-id-37 div.sk-estimator:hover {background-color: #d4ebff;}#sk-container-id-37 div.sk-parallel-item::after {content: \"\";width: 100%;border-bottom: 1px solid gray;flex-grow: 1;}#sk-container-id-37 div.sk-label:hover label.sk-toggleable__label {background-color: #d4ebff;}#sk-container-id-37 div.sk-serial::before {content: \"\";position: absolute;border-left: 1px solid gray;box-sizing: border-box;top: 0;bottom: 0;left: 50%;z-index: 0;}#sk-container-id-37 div.sk-serial {display: flex;flex-direction: column;align-items: center;background-color: white;padding-right: 0.2em;padding-left: 0.2em;position: relative;}#sk-container-id-37 div.sk-item {position: relative;z-index: 1;}#sk-container-id-37 div.sk-parallel {display: flex;align-items: stretch;justify-content: center;background-color: white;position: relative;}#sk-container-id-37 div.sk-item::before, #sk-container-id-37 div.sk-parallel-item::before {content: \"\";position: absolute;border-left: 1px solid gray;box-sizing: border-box;top: 0;bottom: 0;left: 50%;z-index: -1;}#sk-container-id-37 div.sk-parallel-item {display: flex;flex-direction: column;z-index: 1;position: relative;background-color: white;}#sk-container-id-37 div.sk-parallel-item:first-child::after {align-self: flex-end;width: 50%;}#sk-container-id-37 div.sk-parallel-item:last-child::after {align-self: flex-start;width: 50%;}#sk-container-id-37 div.sk-parallel-item:only-child::after {width: 0;}#sk-container-id-37 div.sk-dashed-wrapped {border: 1px dashed gray;margin: 0 0.4em 0.5em 0.4em;box-sizing: border-box;padding-bottom: 0.4em;background-color: white;}#sk-container-id-37 div.sk-label label {font-family: monospace;font-weight: bold;display: inline-block;line-height: 1.2em;}#sk-container-id-37 div.sk-label-container {text-align: center;}#sk-container-id-37 div.sk-container {/* jupyter's `normalize.less` sets `[hidden] { display: none; }` but bootstrap.min.css set `[hidden] { display: none !important; }` so we also need the `!important` here to be able to override the default hidden behavior on the sphinx rendered scikit-learn.org. See: https://github.com/scikit-learn/scikit-learn/issues/21755 */display: inline-block !important;position: relative;}#sk-container-id-37 div.sk-text-repr-fallback {display: none;}</style><div id=\"sk-container-id-37\" class=\"sk-top-container\"><div class=\"sk-text-repr-fallback\"><pre>Pipeline(steps=[(&#x27;columntransformer&#x27;,\n",
       "                 ColumnTransformer(remainder=&#x27;passthrough&#x27;,\n",
       "                                   transformers=[(&#x27;onehotencoder&#x27;,\n",
       "                                                  OneHotEncoder(categories=[array([&#x27;Ambassador Avigo 1800&#x27;, &#x27;Ambassador Avigo 2000&#x27;,\n",
       "       &#x27;Ambassador Classic 1800&#x27;, ..., &#x27;Volvo XC60 D4&#x27;, &#x27;Volvo XC60 D5&#x27;,\n",
       "       &#x27;Volvo XC90 D5&#x27;], dtype=object),\n",
       "                                                                            array([&#x27;Ambassador&#x27;, &#x27;Audi&#x27;, &#x27;BMW&#x27;, &#x27;Bentley&#x27;, &#x27;Chevrolet&#x27;, &#x27;DC&#x27;,\n",
       "       &#x27;Daewoo&#x27;, &#x27;Datsun&#x27;,...\n",
       "       &#x27;Hyundai&#x27;, &#x27;ISUZU&#x27;, &#x27;Isuzu&#x27;, &#x27;Jaguar&#x27;, &#x27;Jeep&#x27;, &#x27;Kia&#x27;,\n",
       "       &#x27;Lamborghini&#x27;, &#x27;Land&#x27;, &#x27;Lexus&#x27;, &#x27;MG&#x27;, &#x27;Mahindra&#x27;, &#x27;Maruti&#x27;,\n",
       "       &#x27;Maserati&#x27;, &#x27;Mercedes-AMG&#x27;, &#x27;Mercedes-Benz&#x27;, &#x27;Mini&#x27;, &#x27;Mitsubishi&#x27;,\n",
       "       &#x27;Nissan&#x27;, &#x27;Opel&#x27;, &#x27;OpelCorsa&#x27;, &#x27;Porsche&#x27;, &#x27;Premier&#x27;, &#x27;Renault&#x27;,\n",
       "       &#x27;Rolls-Royce&#x27;, &#x27;Skoda&#x27;, &#x27;Tata&#x27;, &#x27;Toyota&#x27;, &#x27;Volkswagen&#x27;, &#x27;Volvo&#x27;],\n",
       "      dtype=object)]),\n",
       "                                                  [&#x27;full_name&#x27;,\n",
       "                                                   &#x27;brand_name&#x27;])])),\n",
       "                (&#x27;kneighborsregressor&#x27;, KNeighborsRegressor(n_jobs=-1))])</pre><b>In a Jupyter environment, please rerun this cell to show the HTML representation or trust the notebook. <br />On GitHub, the HTML representation is unable to render, please try loading this page with nbviewer.org.</b></div><div class=\"sk-container\" hidden><div class=\"sk-item sk-dashed-wrapped\"><div class=\"sk-label-container\"><div class=\"sk-label sk-toggleable\"><input class=\"sk-toggleable__control sk-hidden--visually\" id=\"sk-estimator-id-189\" type=\"checkbox\" ><label for=\"sk-estimator-id-189\" class=\"sk-toggleable__label sk-toggleable__label-arrow\">Pipeline</label><div class=\"sk-toggleable__content\"><pre>Pipeline(steps=[(&#x27;columntransformer&#x27;,\n",
       "                 ColumnTransformer(remainder=&#x27;passthrough&#x27;,\n",
       "                                   transformers=[(&#x27;onehotencoder&#x27;,\n",
       "                                                  OneHotEncoder(categories=[array([&#x27;Ambassador Avigo 1800&#x27;, &#x27;Ambassador Avigo 2000&#x27;,\n",
       "       &#x27;Ambassador Classic 1800&#x27;, ..., &#x27;Volvo XC60 D4&#x27;, &#x27;Volvo XC60 D5&#x27;,\n",
       "       &#x27;Volvo XC90 D5&#x27;], dtype=object),\n",
       "                                                                            array([&#x27;Ambassador&#x27;, &#x27;Audi&#x27;, &#x27;BMW&#x27;, &#x27;Bentley&#x27;, &#x27;Chevrolet&#x27;, &#x27;DC&#x27;,\n",
       "       &#x27;Daewoo&#x27;, &#x27;Datsun&#x27;,...\n",
       "       &#x27;Hyundai&#x27;, &#x27;ISUZU&#x27;, &#x27;Isuzu&#x27;, &#x27;Jaguar&#x27;, &#x27;Jeep&#x27;, &#x27;Kia&#x27;,\n",
       "       &#x27;Lamborghini&#x27;, &#x27;Land&#x27;, &#x27;Lexus&#x27;, &#x27;MG&#x27;, &#x27;Mahindra&#x27;, &#x27;Maruti&#x27;,\n",
       "       &#x27;Maserati&#x27;, &#x27;Mercedes-AMG&#x27;, &#x27;Mercedes-Benz&#x27;, &#x27;Mini&#x27;, &#x27;Mitsubishi&#x27;,\n",
       "       &#x27;Nissan&#x27;, &#x27;Opel&#x27;, &#x27;OpelCorsa&#x27;, &#x27;Porsche&#x27;, &#x27;Premier&#x27;, &#x27;Renault&#x27;,\n",
       "       &#x27;Rolls-Royce&#x27;, &#x27;Skoda&#x27;, &#x27;Tata&#x27;, &#x27;Toyota&#x27;, &#x27;Volkswagen&#x27;, &#x27;Volvo&#x27;],\n",
       "      dtype=object)]),\n",
       "                                                  [&#x27;full_name&#x27;,\n",
       "                                                   &#x27;brand_name&#x27;])])),\n",
       "                (&#x27;kneighborsregressor&#x27;, KNeighborsRegressor(n_jobs=-1))])</pre></div></div></div><div class=\"sk-serial\"><div class=\"sk-item sk-dashed-wrapped\"><div class=\"sk-label-container\"><div class=\"sk-label sk-toggleable\"><input class=\"sk-toggleable__control sk-hidden--visually\" id=\"sk-estimator-id-190\" type=\"checkbox\" ><label for=\"sk-estimator-id-190\" class=\"sk-toggleable__label sk-toggleable__label-arrow\">columntransformer: ColumnTransformer</label><div class=\"sk-toggleable__content\"><pre>ColumnTransformer(remainder=&#x27;passthrough&#x27;,\n",
       "                  transformers=[(&#x27;onehotencoder&#x27;,\n",
       "                                 OneHotEncoder(categories=[array([&#x27;Ambassador Avigo 1800&#x27;, &#x27;Ambassador Avigo 2000&#x27;,\n",
       "       &#x27;Ambassador Classic 1800&#x27;, ..., &#x27;Volvo XC60 D4&#x27;, &#x27;Volvo XC60 D5&#x27;,\n",
       "       &#x27;Volvo XC90 D5&#x27;], dtype=object),\n",
       "                                                           array([&#x27;Ambassador&#x27;, &#x27;Audi&#x27;, &#x27;BMW&#x27;, &#x27;Bentley&#x27;, &#x27;Chevrolet&#x27;, &#x27;DC&#x27;,\n",
       "       &#x27;Daewoo&#x27;, &#x27;Datsun&#x27;, &#x27;Ferrari&#x27;, &#x27;Fiat&#x27;, &#x27;Force&#x27;, &#x27;Ford&#x27;, &#x27;Honda&#x27;,\n",
       "       &#x27;Hyundai&#x27;, &#x27;ISUZU&#x27;, &#x27;Isuzu&#x27;, &#x27;Jaguar&#x27;, &#x27;Jeep&#x27;, &#x27;Kia&#x27;,\n",
       "       &#x27;Lamborghini&#x27;, &#x27;Land&#x27;, &#x27;Lexus&#x27;, &#x27;MG&#x27;, &#x27;Mahindra&#x27;, &#x27;Maruti&#x27;,\n",
       "       &#x27;Maserati&#x27;, &#x27;Mercedes-AMG&#x27;, &#x27;Mercedes-Benz&#x27;, &#x27;Mini&#x27;, &#x27;Mitsubishi&#x27;,\n",
       "       &#x27;Nissan&#x27;, &#x27;Opel&#x27;, &#x27;OpelCorsa&#x27;, &#x27;Porsche&#x27;, &#x27;Premier&#x27;, &#x27;Renault&#x27;,\n",
       "       &#x27;Rolls-Royce&#x27;, &#x27;Skoda&#x27;, &#x27;Tata&#x27;, &#x27;Toyota&#x27;, &#x27;Volkswagen&#x27;, &#x27;Volvo&#x27;],\n",
       "      dtype=object)]),\n",
       "                                 [&#x27;full_name&#x27;, &#x27;brand_name&#x27;])])</pre></div></div></div><div class=\"sk-parallel\"><div class=\"sk-parallel-item\"><div class=\"sk-item\"><div class=\"sk-label-container\"><div class=\"sk-label sk-toggleable\"><input class=\"sk-toggleable__control sk-hidden--visually\" id=\"sk-estimator-id-191\" type=\"checkbox\" ><label for=\"sk-estimator-id-191\" class=\"sk-toggleable__label sk-toggleable__label-arrow\">onehotencoder</label><div class=\"sk-toggleable__content\"><pre>[&#x27;full_name&#x27;, &#x27;brand_name&#x27;]</pre></div></div></div><div class=\"sk-serial\"><div class=\"sk-item\"><div class=\"sk-estimator sk-toggleable\"><input class=\"sk-toggleable__control sk-hidden--visually\" id=\"sk-estimator-id-192\" type=\"checkbox\" ><label for=\"sk-estimator-id-192\" class=\"sk-toggleable__label sk-toggleable__label-arrow\">OneHotEncoder</label><div class=\"sk-toggleable__content\"><pre>OneHotEncoder(categories=[array([&#x27;Ambassador Avigo 1800&#x27;, &#x27;Ambassador Avigo 2000&#x27;,\n",
       "       &#x27;Ambassador Classic 1800&#x27;, ..., &#x27;Volvo XC60 D4&#x27;, &#x27;Volvo XC60 D5&#x27;,\n",
       "       &#x27;Volvo XC90 D5&#x27;], dtype=object),\n",
       "                          array([&#x27;Ambassador&#x27;, &#x27;Audi&#x27;, &#x27;BMW&#x27;, &#x27;Bentley&#x27;, &#x27;Chevrolet&#x27;, &#x27;DC&#x27;,\n",
       "       &#x27;Daewoo&#x27;, &#x27;Datsun&#x27;, &#x27;Ferrari&#x27;, &#x27;Fiat&#x27;, &#x27;Force&#x27;, &#x27;Ford&#x27;, &#x27;Honda&#x27;,\n",
       "       &#x27;Hyundai&#x27;, &#x27;ISUZU&#x27;, &#x27;Isuzu&#x27;, &#x27;Jaguar&#x27;, &#x27;Jeep&#x27;, &#x27;Kia&#x27;,\n",
       "       &#x27;Lamborghini&#x27;, &#x27;Land&#x27;, &#x27;Lexus&#x27;, &#x27;MG&#x27;, &#x27;Mahindra&#x27;, &#x27;Maruti&#x27;,\n",
       "       &#x27;Maserati&#x27;, &#x27;Mercedes-AMG&#x27;, &#x27;Mercedes-Benz&#x27;, &#x27;Mini&#x27;, &#x27;Mitsubishi&#x27;,\n",
       "       &#x27;Nissan&#x27;, &#x27;Opel&#x27;, &#x27;OpelCorsa&#x27;, &#x27;Porsche&#x27;, &#x27;Premier&#x27;, &#x27;Renault&#x27;,\n",
       "       &#x27;Rolls-Royce&#x27;, &#x27;Skoda&#x27;, &#x27;Tata&#x27;, &#x27;Toyota&#x27;, &#x27;Volkswagen&#x27;, &#x27;Volvo&#x27;],\n",
       "      dtype=object)])</pre></div></div></div></div></div></div><div class=\"sk-parallel-item\"><div class=\"sk-item\"><div class=\"sk-label-container\"><div class=\"sk-label sk-toggleable\"><input class=\"sk-toggleable__control sk-hidden--visually\" id=\"sk-estimator-id-193\" type=\"checkbox\" ><label for=\"sk-estimator-id-193\" class=\"sk-toggleable__label sk-toggleable__label-arrow\">remainder</label><div class=\"sk-toggleable__content\"><pre>[&#x27;min_price&#x27;, &#x27;max_price&#x27;, &#x27;year&#x27;, &#x27;seller_type&#x27;, &#x27;km_driven&#x27;, &#x27;owner_type&#x27;, &#x27;fuel_type&#x27;, &#x27;transmission_type&#x27;, &#x27;mileage&#x27;, &#x27;engine&#x27;, &#x27;max_power&#x27;, &#x27;seats&#x27;]</pre></div></div></div><div class=\"sk-serial\"><div class=\"sk-item\"><div class=\"sk-estimator sk-toggleable\"><input class=\"sk-toggleable__control sk-hidden--visually\" id=\"sk-estimator-id-194\" type=\"checkbox\" ><label for=\"sk-estimator-id-194\" class=\"sk-toggleable__label sk-toggleable__label-arrow\">passthrough</label><div class=\"sk-toggleable__content\"><pre>passthrough</pre></div></div></div></div></div></div></div></div><div class=\"sk-item\"><div class=\"sk-estimator sk-toggleable\"><input class=\"sk-toggleable__control sk-hidden--visually\" id=\"sk-estimator-id-195\" type=\"checkbox\" ><label for=\"sk-estimator-id-195\" class=\"sk-toggleable__label sk-toggleable__label-arrow\">KNeighborsRegressor</label><div class=\"sk-toggleable__content\"><pre>KNeighborsRegressor(n_jobs=-1)</pre></div></div></div></div></div></div></div>"
      ],
      "text/plain": [
       "Pipeline(steps=[('columntransformer',\n",
       "                 ColumnTransformer(remainder='passthrough',\n",
       "                                   transformers=[('onehotencoder',\n",
       "                                                  OneHotEncoder(categories=[array(['Ambassador Avigo 1800', 'Ambassador Avigo 2000',\n",
       "       'Ambassador Classic 1800', ..., 'Volvo XC60 D4', 'Volvo XC60 D5',\n",
       "       'Volvo XC90 D5'], dtype=object),\n",
       "                                                                            array(['Ambassador', 'Audi', 'BMW', 'Bentley', 'Chevrolet', 'DC',\n",
       "       'Daewoo', 'Datsun',...\n",
       "       'Hyundai', 'ISUZU', 'Isuzu', 'Jaguar', 'Jeep', 'Kia',\n",
       "       'Lamborghini', 'Land', 'Lexus', 'MG', 'Mahindra', 'Maruti',\n",
       "       'Maserati', 'Mercedes-AMG', 'Mercedes-Benz', 'Mini', 'Mitsubishi',\n",
       "       'Nissan', 'Opel', 'OpelCorsa', 'Porsche', 'Premier', 'Renault',\n",
       "       'Rolls-Royce', 'Skoda', 'Tata', 'Toyota', 'Volkswagen', 'Volvo'],\n",
       "      dtype=object)]),\n",
       "                                                  ['full_name',\n",
       "                                                   'brand_name'])])),\n",
       "                ('kneighborsregressor', KNeighborsRegressor(n_jobs=-1))])"
      ]
     },
     "execution_count": 797,
     "metadata": {},
     "output_type": "execute_result"
    }
   ],
   "source": [
    "knn_reg_norm = KNeighborsRegressor(n_jobs = -1)\n",
    "knn_reg_pipe_norm = make_pipeline(column_trans1, knn_reg_norm)\n",
    "knn_reg_pipe_norm.fit(x_train, y_train)"
   ]
  },
  {
   "cell_type": "code",
   "execution_count": 798,
   "id": "e47ac211",
   "metadata": {},
   "outputs": [
    {
     "name": "stdout",
     "output_type": "stream",
     "text": [
      "MSE Train KNN_reg =  58919767863.260956\n",
      "RMSE Train KNN_reg =  242733.94460450098\n",
      "MAE Train KNN_reg =  86889.52960049937\n",
      "R2_Squared Train KNN_reg =  0.916911367020876\n",
      "\n",
      "************************************************************\n",
      "\n",
      "MSE test KNN_reg =  403959522629.6361\n",
      "RMSE test KNN_reg =  635578.1011249806\n",
      "MAE test KNN_reg =  122294.10294558162\n",
      "test test KNN_reg =  0.6887555959217835\n"
     ]
    }
   ],
   "source": [
    "#Training data Evaluation #########################################################################################\n",
    "\n",
    "y_pred_train_knn = knn_reg_pipe_norm.predict(x_train)\n",
    "\n",
    "mse = mean_squared_error(y_train, y_pred_train_knn)\n",
    "print(\"MSE Train KNN_reg = \", mse)\n",
    "\n",
    "rmse = np.sqrt(mse)\n",
    "print(\"RMSE Train KNN_reg = \", rmse)\n",
    "\n",
    "mae = mean_absolute_error(y_train, y_pred_train_knn)\n",
    "print(\"MAE Train KNN_reg = \", mae)\n",
    "\n",
    "r_squared = r2_score(y_train, y_pred_train_knn)\n",
    "print(\"R2_Squared Train KNN_reg = \", r_squared)\n",
    "\n",
    "print()\n",
    "print(\"*\"*60)\n",
    "print()\n",
    "\n",
    "#Testing data Evaluation #########################################################################################\n",
    "\n",
    "y_pred_test_knn = knn_reg_pipe_norm.predict(x_test)\n",
    "\n",
    "mse = mean_squared_error(y_test, y_pred_test_knn)\n",
    "print(\"MSE test KNN_reg = \", mse)\n",
    "\n",
    "rmse = np.sqrt(mse)\n",
    "print(\"RMSE test KNN_reg = \", rmse)\n",
    "\n",
    "mae = mean_absolute_error(y_test, y_pred_test_knn)\n",
    "print(\"MAE test KNN_reg = \", mae)\n",
    "\n",
    "r_squared = r2_score(y_test, y_pred_test_knn)\n",
    "print(\"test test KNN_reg = \", r_squared)"
   ]
  },
  {
   "cell_type": "code",
   "execution_count": 799,
   "id": "1ea3a413",
   "metadata": {
    "scrolled": false
   },
   "outputs": [
    {
     "data": {
      "text/plain": [
       "Text(0, 0.5, 'Accuracy')"
      ]
     },
     "execution_count": 799,
     "metadata": {},
     "output_type": "execute_result"
    },
    {
     "data": {
      "image/png": "[encoded data removed]",
      "text/plain": [
       "<Figure size 640x480 with 1 Axes>"
      ]
     },
     "metadata": {},
     "output_type": "display_data"
    }
   ],
   "source": [
    "r2_train_list = []\n",
    "r2_test_list = []\n",
    "k_values = np.arange(3,21)\n",
    "for k in k_values:\n",
    "    knn_reg_norm1 = KNeighborsRegressor(n_neighbors=k, p = 2, n_jobs = -1)\n",
    "    knn_reg_pipe_norm1 = make_pipeline(column_trans1, knn_reg_norm1)\n",
    "    knn_reg_pipe_norm1.fit(x_train, y_train)\n",
    "    \n",
    "    r2_train = knn_reg_pipe_norm1.score(x_train, y_train)\n",
    "    r2_train_list.append(r2_train)\n",
    "    \n",
    "    r2_test = knn_reg_pipe_norm1.score(x_test, y_test)\n",
    "    r2_test_list.append(r2_test)\n",
    "    \n",
    "plt.title('Comparison between Train and Test Accuracy')\n",
    "plt.plot(k_values, r2_train_list)\n",
    "plt.plot(k_values, r2_test_list)\n",
    "plt.xlabel('K Values')\n",
    "plt.ylabel(\"Accuracy\")"
   ]
  },
  {
   "cell_type": "code",
   "execution_count": 800,
   "id": "06a4927f",
   "metadata": {},
   "outputs": [
    {
     "data": {
      "text/plain": [
       "Text(0, 0.5, 'Accuracy')"
      ]
     },
     "execution_count": 800,
     "metadata": {},
     "output_type": "execute_result"
    },
    {
     "data": {
      "image/png": "[encoded data removed]",
      "text/plain": [
       "<Figure size 640x480 with 1 Axes>"
      ]
     },
     "metadata": {},
     "output_type": "display_data"
    }
   ],
   "source": [
    "r2_train_list = []\n",
    "r2_test_list = []\n",
    "k_values = np.arange(3,21)\n",
    "for k in k_values:\n",
    "    knn_reg_norm1 = KNeighborsRegressor(n_neighbors=k, p = 1, n_jobs = -1)\n",
    "    knn_reg_pipe_norm1 = make_pipeline(column_trans1, knn_reg_norm1)\n",
    "    knn_reg_pipe_norm1.fit(x_train, y_train)\n",
    "    \n",
    "    r2_train = knn_reg_pipe_norm1.score(x_train, y_train)\n",
    "    r2_train_list.append(r2_train)\n",
    "    \n",
    "    r2_test = knn_reg_pipe_norm1.score(x_test, y_test)\n",
    "    r2_test_list.append(r2_test)\n",
    "    \n",
    "plt.title('Comparison between Train and Test Accuracy')\n",
    "plt.plot(k_values, r2_train_list)\n",
    "plt.plot(k_values, r2_test_list)\n",
    "plt.xlabel('K Values')\n",
    "plt.ylabel(\"Accuracy\")"
   ]
  },
  {
   "cell_type": "markdown",
   "id": "4956321b",
   "metadata": {},
   "source": [
    "# KNN mode with standardization"
   ]
  },
  {
   "cell_type": "code",
   "execution_count": null,
   "id": "e6359486",
   "metadata": {},
   "outputs": [],
   "source": []
  },
  {
   "cell_type": "code",
   "execution_count": 801,
   "id": "48213ae9",
   "metadata": {},
   "outputs": [],
   "source": [
    "norm_col1 = ['min_price', 'max_price', 'year', 'seller_type', 'km_driven', 'owner_type',\n",
    "       'fuel_type', 'transmission_type', 'mileage', 'engine', 'max_power', 'seats']\n",
    "\n",
    "x1 = df1[norm_col1]\n",
    "x = df1.drop(['model','min_price', 'max_price', 'year', 'seller_type', 'km_driven', 'owner_type',\n",
    "       'fuel_type', 'transmission_type', 'mileage', 'engine', 'max_power', 'seats', 'selling_price'], axis= 1)\n",
    "y = df1['selling_price']\n",
    "\n",
    "stan_scalar = StandardScaler()\n",
    "array3 = stan_scalar.fit_transform(x1)\n",
    "new_x1_stan_df = pd.DataFrame(array3, columns = x1.columns)\n",
    "new_x1_stan_df\n",
    "x = pd.concat([x, new_x1_stan_df], axis = 1)\n",
    "\n",
    "\n",
    "x_train, x_test, y_train, y_test = train_test_split(x, y , test_size= 0.2, random_state= 42)\n",
    "# x_train"
   ]
  },
  {
   "cell_type": "code",
   "execution_count": 802,
   "id": "68041406",
   "metadata": {},
   "outputs": [
    {
     "data": {
      "text/html": [
       "<style>#sk-container-id-38 {color: black;background-color: white;}#sk-container-id-38 pre{padding: 0;}#sk-container-id-38 div.sk-toggleable {background-color: white;}#sk-container-id-38 label.sk-toggleable__label {cursor: pointer;display: block;width: 100%;margin-bottom: 0;padding: 0.3em;box-sizing: border-box;text-align: center;}#sk-container-id-38 label.sk-toggleable__label-arrow:before {content: \"▸\";float: left;margin-right: 0.25em;color: #696969;}#sk-container-id-38 label.sk-toggleable__label-arrow:hover:before {color: black;}#sk-container-id-38 div.sk-estimator:hover label.sk-toggleable__label-arrow:before {color: black;}#sk-container-id-38 div.sk-toggleable__content {max-height: 0;max-width: 0;overflow: hidden;text-align: left;background-color: #f0f8ff;}#sk-container-id-38 div.sk-toggleable__content pre {margin: 0.2em;color: black;border-radius: 0.25em;background-color: #f0f8ff;}#sk-container-id-38 input.sk-toggleable__control:checked~div.sk-toggleable__content {max-height: 200px;max-width: 100%;overflow: auto;}#sk-container-id-38 input.sk-toggleable__control:checked~label.sk-toggleable__label-arrow:before {content: \"▾\";}#sk-container-id-38 div.sk-estimator input.sk-toggleable__control:checked~label.sk-toggleable__label {background-color: #d4ebff;}#sk-container-id-38 div.sk-label input.sk-toggleable__control:checked~label.sk-toggleable__label {background-color: #d4ebff;}#sk-container-id-38 input.sk-hidden--visually {border: 0;clip: rect(1px 1px 1px 1px);clip: rect(1px, 1px, 1px, 1px);height: 1px;margin: -1px;overflow: hidden;padding: 0;position: absolute;width: 1px;}#sk-container-id-38 div.sk-estimator {font-family: monospace;background-color: #f0f8ff;border: 1px dotted black;border-radius: 0.25em;box-sizing: border-box;margin-bottom: 0.5em;}#sk-container-id-38 div.sk-estimator:hover {background-color: #d4ebff;}#sk-container-id-38 div.sk-parallel-item::after {content: \"\";width: 100%;border-bottom: 1px solid gray;flex-grow: 1;}#sk-container-id-38 div.sk-label:hover label.sk-toggleable__label {background-color: #d4ebff;}#sk-container-id-38 div.sk-serial::before {content: \"\";position: absolute;border-left: 1px solid gray;box-sizing: border-box;top: 0;bottom: 0;left: 50%;z-index: 0;}#sk-container-id-38 div.sk-serial {display: flex;flex-direction: column;align-items: center;background-color: white;padding-right: 0.2em;padding-left: 0.2em;position: relative;}#sk-container-id-38 div.sk-item {position: relative;z-index: 1;}#sk-container-id-38 div.sk-parallel {display: flex;align-items: stretch;justify-content: center;background-color: white;position: relative;}#sk-container-id-38 div.sk-item::before, #sk-container-id-38 div.sk-parallel-item::before {content: \"\";position: absolute;border-left: 1px solid gray;box-sizing: border-box;top: 0;bottom: 0;left: 50%;z-index: -1;}#sk-container-id-38 div.sk-parallel-item {display: flex;flex-direction: column;z-index: 1;position: relative;background-color: white;}#sk-container-id-38 div.sk-parallel-item:first-child::after {align-self: flex-end;width: 50%;}#sk-container-id-38 div.sk-parallel-item:last-child::after {align-self: flex-start;width: 50%;}#sk-container-id-38 div.sk-parallel-item:only-child::after {width: 0;}#sk-container-id-38 div.sk-dashed-wrapped {border: 1px dashed gray;margin: 0 0.4em 0.5em 0.4em;box-sizing: border-box;padding-bottom: 0.4em;background-color: white;}#sk-container-id-38 div.sk-label label {font-family: monospace;font-weight: bold;display: inline-block;line-height: 1.2em;}#sk-container-id-38 div.sk-label-container {text-align: center;}#sk-container-id-38 div.sk-container {/* jupyter's `normalize.less` sets `[hidden] { display: none; }` but bootstrap.min.css set `[hidden] { display: none !important; }` so we also need the `!important` here to be able to override the default hidden behavior on the sphinx rendered scikit-learn.org. See: https://github.com/scikit-learn/scikit-learn/issues/21755 */display: inline-block !important;position: relative;}#sk-container-id-38 div.sk-text-repr-fallback {display: none;}</style><div id=\"sk-container-id-38\" class=\"sk-top-container\"><div class=\"sk-text-repr-fallback\"><pre>Pipeline(steps=[(&#x27;columntransformer&#x27;,\n",
       "                 ColumnTransformer(remainder=&#x27;passthrough&#x27;,\n",
       "                                   transformers=[(&#x27;onehotencoder&#x27;,\n",
       "                                                  OneHotEncoder(categories=[array([&#x27;Ambassador Avigo 1800&#x27;, &#x27;Ambassador Avigo 2000&#x27;,\n",
       "       &#x27;Ambassador Classic 1800&#x27;, ..., &#x27;Volvo XC60 D4&#x27;, &#x27;Volvo XC60 D5&#x27;,\n",
       "       &#x27;Volvo XC90 D5&#x27;], dtype=object),\n",
       "                                                                            array([&#x27;Ambassador&#x27;, &#x27;Audi&#x27;, &#x27;BMW&#x27;, &#x27;Bentley&#x27;, &#x27;Chevrolet&#x27;, &#x27;DC&#x27;,\n",
       "       &#x27;Daewoo&#x27;, &#x27;Datsun&#x27;,...\n",
       "       &#x27;Hyundai&#x27;, &#x27;ISUZU&#x27;, &#x27;Isuzu&#x27;, &#x27;Jaguar&#x27;, &#x27;Jeep&#x27;, &#x27;Kia&#x27;,\n",
       "       &#x27;Lamborghini&#x27;, &#x27;Land&#x27;, &#x27;Lexus&#x27;, &#x27;MG&#x27;, &#x27;Mahindra&#x27;, &#x27;Maruti&#x27;,\n",
       "       &#x27;Maserati&#x27;, &#x27;Mercedes-AMG&#x27;, &#x27;Mercedes-Benz&#x27;, &#x27;Mini&#x27;, &#x27;Mitsubishi&#x27;,\n",
       "       &#x27;Nissan&#x27;, &#x27;Opel&#x27;, &#x27;OpelCorsa&#x27;, &#x27;Porsche&#x27;, &#x27;Premier&#x27;, &#x27;Renault&#x27;,\n",
       "       &#x27;Rolls-Royce&#x27;, &#x27;Skoda&#x27;, &#x27;Tata&#x27;, &#x27;Toyota&#x27;, &#x27;Volkswagen&#x27;, &#x27;Volvo&#x27;],\n",
       "      dtype=object)]),\n",
       "                                                  [&#x27;full_name&#x27;,\n",
       "                                                   &#x27;brand_name&#x27;])])),\n",
       "                (&#x27;kneighborsregressor&#x27;, KNeighborsRegressor(n_jobs=-1))])</pre><b>In a Jupyter environment, please rerun this cell to show the HTML representation or trust the notebook. <br />On GitHub, the HTML representation is unable to render, please try loading this page with nbviewer.org.</b></div><div class=\"sk-container\" hidden><div class=\"sk-item sk-dashed-wrapped\"><div class=\"sk-label-container\"><div class=\"sk-label sk-toggleable\"><input class=\"sk-toggleable__control sk-hidden--visually\" id=\"sk-estimator-id-196\" type=\"checkbox\" ><label for=\"sk-estimator-id-196\" class=\"sk-toggleable__label sk-toggleable__label-arrow\">Pipeline</label><div class=\"sk-toggleable__content\"><pre>Pipeline(steps=[(&#x27;columntransformer&#x27;,\n",
       "                 ColumnTransformer(remainder=&#x27;passthrough&#x27;,\n",
       "                                   transformers=[(&#x27;onehotencoder&#x27;,\n",
       "                                                  OneHotEncoder(categories=[array([&#x27;Ambassador Avigo 1800&#x27;, &#x27;Ambassador Avigo 2000&#x27;,\n",
       "       &#x27;Ambassador Classic 1800&#x27;, ..., &#x27;Volvo XC60 D4&#x27;, &#x27;Volvo XC60 D5&#x27;,\n",
       "       &#x27;Volvo XC90 D5&#x27;], dtype=object),\n",
       "                                                                            array([&#x27;Ambassador&#x27;, &#x27;Audi&#x27;, &#x27;BMW&#x27;, &#x27;Bentley&#x27;, &#x27;Chevrolet&#x27;, &#x27;DC&#x27;,\n",
       "       &#x27;Daewoo&#x27;, &#x27;Datsun&#x27;,...\n",
       "       &#x27;Hyundai&#x27;, &#x27;ISUZU&#x27;, &#x27;Isuzu&#x27;, &#x27;Jaguar&#x27;, &#x27;Jeep&#x27;, &#x27;Kia&#x27;,\n",
       "       &#x27;Lamborghini&#x27;, &#x27;Land&#x27;, &#x27;Lexus&#x27;, &#x27;MG&#x27;, &#x27;Mahindra&#x27;, &#x27;Maruti&#x27;,\n",
       "       &#x27;Maserati&#x27;, &#x27;Mercedes-AMG&#x27;, &#x27;Mercedes-Benz&#x27;, &#x27;Mini&#x27;, &#x27;Mitsubishi&#x27;,\n",
       "       &#x27;Nissan&#x27;, &#x27;Opel&#x27;, &#x27;OpelCorsa&#x27;, &#x27;Porsche&#x27;, &#x27;Premier&#x27;, &#x27;Renault&#x27;,\n",
       "       &#x27;Rolls-Royce&#x27;, &#x27;Skoda&#x27;, &#x27;Tata&#x27;, &#x27;Toyota&#x27;, &#x27;Volkswagen&#x27;, &#x27;Volvo&#x27;],\n",
       "      dtype=object)]),\n",
       "                                                  [&#x27;full_name&#x27;,\n",
       "                                                   &#x27;brand_name&#x27;])])),\n",
       "                (&#x27;kneighborsregressor&#x27;, KNeighborsRegressor(n_jobs=-1))])</pre></div></div></div><div class=\"sk-serial\"><div class=\"sk-item sk-dashed-wrapped\"><div class=\"sk-label-container\"><div class=\"sk-label sk-toggleable\"><input class=\"sk-toggleable__control sk-hidden--visually\" id=\"sk-estimator-id-197\" type=\"checkbox\" ><label for=\"sk-estimator-id-197\" class=\"sk-toggleable__label sk-toggleable__label-arrow\">columntransformer: ColumnTransformer</label><div class=\"sk-toggleable__content\"><pre>ColumnTransformer(remainder=&#x27;passthrough&#x27;,\n",
       "                  transformers=[(&#x27;onehotencoder&#x27;,\n",
       "                                 OneHotEncoder(categories=[array([&#x27;Ambassador Avigo 1800&#x27;, &#x27;Ambassador Avigo 2000&#x27;,\n",
       "       &#x27;Ambassador Classic 1800&#x27;, ..., &#x27;Volvo XC60 D4&#x27;, &#x27;Volvo XC60 D5&#x27;,\n",
       "       &#x27;Volvo XC90 D5&#x27;], dtype=object),\n",
       "                                                           array([&#x27;Ambassador&#x27;, &#x27;Audi&#x27;, &#x27;BMW&#x27;, &#x27;Bentley&#x27;, &#x27;Chevrolet&#x27;, &#x27;DC&#x27;,\n",
       "       &#x27;Daewoo&#x27;, &#x27;Datsun&#x27;, &#x27;Ferrari&#x27;, &#x27;Fiat&#x27;, &#x27;Force&#x27;, &#x27;Ford&#x27;, &#x27;Honda&#x27;,\n",
       "       &#x27;Hyundai&#x27;, &#x27;ISUZU&#x27;, &#x27;Isuzu&#x27;, &#x27;Jaguar&#x27;, &#x27;Jeep&#x27;, &#x27;Kia&#x27;,\n",
       "       &#x27;Lamborghini&#x27;, &#x27;Land&#x27;, &#x27;Lexus&#x27;, &#x27;MG&#x27;, &#x27;Mahindra&#x27;, &#x27;Maruti&#x27;,\n",
       "       &#x27;Maserati&#x27;, &#x27;Mercedes-AMG&#x27;, &#x27;Mercedes-Benz&#x27;, &#x27;Mini&#x27;, &#x27;Mitsubishi&#x27;,\n",
       "       &#x27;Nissan&#x27;, &#x27;Opel&#x27;, &#x27;OpelCorsa&#x27;, &#x27;Porsche&#x27;, &#x27;Premier&#x27;, &#x27;Renault&#x27;,\n",
       "       &#x27;Rolls-Royce&#x27;, &#x27;Skoda&#x27;, &#x27;Tata&#x27;, &#x27;Toyota&#x27;, &#x27;Volkswagen&#x27;, &#x27;Volvo&#x27;],\n",
       "      dtype=object)]),\n",
       "                                 [&#x27;full_name&#x27;, &#x27;brand_name&#x27;])])</pre></div></div></div><div class=\"sk-parallel\"><div class=\"sk-parallel-item\"><div class=\"sk-item\"><div class=\"sk-label-container\"><div class=\"sk-label sk-toggleable\"><input class=\"sk-toggleable__control sk-hidden--visually\" id=\"sk-estimator-id-198\" type=\"checkbox\" ><label for=\"sk-estimator-id-198\" class=\"sk-toggleable__label sk-toggleable__label-arrow\">onehotencoder</label><div class=\"sk-toggleable__content\"><pre>[&#x27;full_name&#x27;, &#x27;brand_name&#x27;]</pre></div></div></div><div class=\"sk-serial\"><div class=\"sk-item\"><div class=\"sk-estimator sk-toggleable\"><input class=\"sk-toggleable__control sk-hidden--visually\" id=\"sk-estimator-id-199\" type=\"checkbox\" ><label for=\"sk-estimator-id-199\" class=\"sk-toggleable__label sk-toggleable__label-arrow\">OneHotEncoder</label><div class=\"sk-toggleable__content\"><pre>OneHotEncoder(categories=[array([&#x27;Ambassador Avigo 1800&#x27;, &#x27;Ambassador Avigo 2000&#x27;,\n",
       "       &#x27;Ambassador Classic 1800&#x27;, ..., &#x27;Volvo XC60 D4&#x27;, &#x27;Volvo XC60 D5&#x27;,\n",
       "       &#x27;Volvo XC90 D5&#x27;], dtype=object),\n",
       "                          array([&#x27;Ambassador&#x27;, &#x27;Audi&#x27;, &#x27;BMW&#x27;, &#x27;Bentley&#x27;, &#x27;Chevrolet&#x27;, &#x27;DC&#x27;,\n",
       "       &#x27;Daewoo&#x27;, &#x27;Datsun&#x27;, &#x27;Ferrari&#x27;, &#x27;Fiat&#x27;, &#x27;Force&#x27;, &#x27;Ford&#x27;, &#x27;Honda&#x27;,\n",
       "       &#x27;Hyundai&#x27;, &#x27;ISUZU&#x27;, &#x27;Isuzu&#x27;, &#x27;Jaguar&#x27;, &#x27;Jeep&#x27;, &#x27;Kia&#x27;,\n",
       "       &#x27;Lamborghini&#x27;, &#x27;Land&#x27;, &#x27;Lexus&#x27;, &#x27;MG&#x27;, &#x27;Mahindra&#x27;, &#x27;Maruti&#x27;,\n",
       "       &#x27;Maserati&#x27;, &#x27;Mercedes-AMG&#x27;, &#x27;Mercedes-Benz&#x27;, &#x27;Mini&#x27;, &#x27;Mitsubishi&#x27;,\n",
       "       &#x27;Nissan&#x27;, &#x27;Opel&#x27;, &#x27;OpelCorsa&#x27;, &#x27;Porsche&#x27;, &#x27;Premier&#x27;, &#x27;Renault&#x27;,\n",
       "       &#x27;Rolls-Royce&#x27;, &#x27;Skoda&#x27;, &#x27;Tata&#x27;, &#x27;Toyota&#x27;, &#x27;Volkswagen&#x27;, &#x27;Volvo&#x27;],\n",
       "      dtype=object)])</pre></div></div></div></div></div></div><div class=\"sk-parallel-item\"><div class=\"sk-item\"><div class=\"sk-label-container\"><div class=\"sk-label sk-toggleable\"><input class=\"sk-toggleable__control sk-hidden--visually\" id=\"sk-estimator-id-200\" type=\"checkbox\" ><label for=\"sk-estimator-id-200\" class=\"sk-toggleable__label sk-toggleable__label-arrow\">remainder</label><div class=\"sk-toggleable__content\"><pre>[&#x27;min_price&#x27;, &#x27;max_price&#x27;, &#x27;year&#x27;, &#x27;seller_type&#x27;, &#x27;km_driven&#x27;, &#x27;owner_type&#x27;, &#x27;fuel_type&#x27;, &#x27;transmission_type&#x27;, &#x27;mileage&#x27;, &#x27;engine&#x27;, &#x27;max_power&#x27;, &#x27;seats&#x27;]</pre></div></div></div><div class=\"sk-serial\"><div class=\"sk-item\"><div class=\"sk-estimator sk-toggleable\"><input class=\"sk-toggleable__control sk-hidden--visually\" id=\"sk-estimator-id-201\" type=\"checkbox\" ><label for=\"sk-estimator-id-201\" class=\"sk-toggleable__label sk-toggleable__label-arrow\">passthrough</label><div class=\"sk-toggleable__content\"><pre>passthrough</pre></div></div></div></div></div></div></div></div><div class=\"sk-item\"><div class=\"sk-estimator sk-toggleable\"><input class=\"sk-toggleable__control sk-hidden--visually\" id=\"sk-estimator-id-202\" type=\"checkbox\" ><label for=\"sk-estimator-id-202\" class=\"sk-toggleable__label sk-toggleable__label-arrow\">KNeighborsRegressor</label><div class=\"sk-toggleable__content\"><pre>KNeighborsRegressor(n_jobs=-1)</pre></div></div></div></div></div></div></div>"
      ],
      "text/plain": [
       "Pipeline(steps=[('columntransformer',\n",
       "                 ColumnTransformer(remainder='passthrough',\n",
       "                                   transformers=[('onehotencoder',\n",
       "                                                  OneHotEncoder(categories=[array(['Ambassador Avigo 1800', 'Ambassador Avigo 2000',\n",
       "       'Ambassador Classic 1800', ..., 'Volvo XC60 D4', 'Volvo XC60 D5',\n",
       "       'Volvo XC90 D5'], dtype=object),\n",
       "                                                                            array(['Ambassador', 'Audi', 'BMW', 'Bentley', 'Chevrolet', 'DC',\n",
       "       'Daewoo', 'Datsun',...\n",
       "       'Hyundai', 'ISUZU', 'Isuzu', 'Jaguar', 'Jeep', 'Kia',\n",
       "       'Lamborghini', 'Land', 'Lexus', 'MG', 'Mahindra', 'Maruti',\n",
       "       'Maserati', 'Mercedes-AMG', 'Mercedes-Benz', 'Mini', 'Mitsubishi',\n",
       "       'Nissan', 'Opel', 'OpelCorsa', 'Porsche', 'Premier', 'Renault',\n",
       "       'Rolls-Royce', 'Skoda', 'Tata', 'Toyota', 'Volkswagen', 'Volvo'],\n",
       "      dtype=object)]),\n",
       "                                                  ['full_name',\n",
       "                                                   'brand_name'])])),\n",
       "                ('kneighborsregressor', KNeighborsRegressor(n_jobs=-1))])"
      ]
     },
     "execution_count": 802,
     "metadata": {},
     "output_type": "execute_result"
    }
   ],
   "source": [
    "knn_reg_std = KNeighborsRegressor(n_jobs = -1)\n",
    "knn_reg_pipe_std = make_pipeline(column_trans1, knn_reg_std)\n",
    "knn_reg_pipe_std.fit(x_train, y_train)"
   ]
  },
  {
   "cell_type": "code",
   "execution_count": 803,
   "id": "931be6dc",
   "metadata": {},
   "outputs": [
    {
     "name": "stdout",
     "output_type": "stream",
     "text": [
      "MSE Train KNN_reg =  45710295683.04605\n",
      "RMSE Train KNN_reg =  213799.66249516403\n",
      "MAE Train KNN_reg =  84931.24861423222\n",
      "R2_Squared Train KNN_reg =  0.9355393593846103\n",
      "\n",
      "************************************************************\n",
      "\n",
      "MSE test KNN_reg =  389331712922.363\n",
      "RMSE test KNN_reg =  623964.5125504839\n",
      "MAE test KNN_reg =  120645.82101847228\n",
      "test test KNN_reg =  0.700026091256743\n"
     ]
    }
   ],
   "source": [
    "#Training data Evaluation #########################################################################################\n",
    "\n",
    "y_pred_train_knn = knn_reg_pipe_std.predict(x_train)\n",
    "\n",
    "mse = mean_squared_error(y_train, y_pred_train_knn)\n",
    "print(\"MSE Train KNN_reg = \", mse)\n",
    "\n",
    "rmse = np.sqrt(mse)\n",
    "print(\"RMSE Train KNN_reg = \", rmse)\n",
    "\n",
    "mae = mean_absolute_error(y_train, y_pred_train_knn)\n",
    "print(\"MAE Train KNN_reg = \", mae)\n",
    "\n",
    "r_squared = r2_score(y_train, y_pred_train_knn)\n",
    "print(\"R2_Squared Train KNN_reg = \", r_squared)\n",
    "\n",
    "print()\n",
    "print(\"*\"*60)\n",
    "print()\n",
    "\n",
    "#Testing data Evaluation #########################################################################################\n",
    "\n",
    "y_pred_test_knn = knn_reg_pipe_std.predict(x_test)\n",
    "\n",
    "mse = mean_squared_error(y_test, y_pred_test_knn)\n",
    "print(\"MSE test KNN_reg = \", mse)\n",
    "\n",
    "rmse = np.sqrt(mse)\n",
    "print(\"RMSE test KNN_reg = \", rmse)\n",
    "\n",
    "mae = mean_absolute_error(y_test, y_pred_test_knn)\n",
    "print(\"MAE test KNN_reg = \", mae)\n",
    "\n",
    "r_squared = r2_score(y_test, y_pred_test_knn)\n",
    "print(\"test test KNN_reg = \", r_squared)"
   ]
  },
  {
   "cell_type": "code",
   "execution_count": 804,
   "id": "59bc2796",
   "metadata": {
    "scrolled": false
   },
   "outputs": [
    {
     "data": {
      "text/plain": [
       "Text(0, 0.5, 'Accuracy')"
      ]
     },
     "execution_count": 804,
     "metadata": {},
     "output_type": "execute_result"
    },
    {
     "data": {
      "image/png": "[encoded data removed]",
      "text/plain": [
       "<Figure size 640x480 with 1 Axes>"
      ]
     },
     "metadata": {},
     "output_type": "display_data"
    }
   ],
   "source": [
    "r2_train_list = []\n",
    "r2_test_list = []\n",
    "k_values = np.arange(3,21)\n",
    "for k in k_values:\n",
    "    knn_reg_stad1 = KNeighborsRegressor(n_neighbors=k, p = 2, n_jobs = -1)\n",
    "    knn_reg_pipe_stand1 = make_pipeline(column_trans1, knn_reg_stad1)\n",
    "    knn_reg_pipe_stand1.fit(x_train, y_train)\n",
    "    \n",
    "    r2_train = knn_reg_pipe_stand1.score(x_train, y_train)\n",
    "    r2_train_list.append(r2_train)\n",
    "    \n",
    "    r2_test = knn_reg_pipe_stand1.score(x_test, y_test)\n",
    "    r2_test_list.append(r2_test)\n",
    "    \n",
    "plt.title('Comparison between Train and Test Accuracy')\n",
    "plt.plot(k_values, r2_train_list)\n",
    "plt.plot(k_values, r2_test_list)\n",
    "plt.xlabel('K Values')\n",
    "plt.ylabel(\"Accuracy\")"
   ]
  },
  {
   "cell_type": "code",
   "execution_count": 805,
   "id": "aeefbddc",
   "metadata": {},
   "outputs": [
    {
     "data": {
      "text/plain": [
       "Text(0, 0.5, 'Accuracy')"
      ]
     },
     "execution_count": 805,
     "metadata": {},
     "output_type": "execute_result"
    },
    {
     "data": {
      "image/png": "[encoded data removed]",
      "text/plain": [
       "<Figure size 640x480 with 1 Axes>"
      ]
     },
     "metadata": {},
     "output_type": "display_data"
    }
   ],
   "source": [
    "r2_train_list = []\n",
    "r2_test_list = []\n",
    "k_values = np.arange(3,21)\n",
    "for k in k_values:\n",
    "    knn_reg_stad1 = KNeighborsRegressor(n_neighbors=k, p = 1, n_jobs = -1)\n",
    "    knn_reg_pipe_stand1 = make_pipeline(column_trans1, knn_reg_stad1)\n",
    "    knn_reg_pipe_stand1.fit(x_train, y_train)\n",
    "    \n",
    "    r2_train = knn_reg_pipe_stand1.score(x_train, y_train)\n",
    "    r2_train_list.append(r2_train)\n",
    "    \n",
    "    r2_test = knn_reg_pipe_stand1.score(x_test, y_test)\n",
    "    r2_test_list.append(r2_test)\n",
    "    \n",
    "plt.title('Comparison between Train and Test Accuracy')\n",
    "plt.plot(k_values, r2_train_list)\n",
    "plt.plot(k_values, r2_test_list)\n",
    "plt.xlabel('K Values')\n",
    "plt.ylabel(\"Accuracy\")"
   ]
  },
  {
   "cell_type": "code",
   "execution_count": null,
   "id": "11668429",
   "metadata": {},
   "outputs": [],
   "source": [
    "['maritui suziki', 'alto', 38,]"
   ]
  },
  {
   "cell_type": "code",
   "execution_count": null,
   "id": "85d3a425",
   "metadata": {},
   "outputs": [],
   "source": []
  }
 ],
 "metadata": {
  "kernelspec": {
   "display_name": "Python 3 (ipykernel)",
   "language": "python",
   "name": "python3"
  },
  "language_info": {
   "codemirror_mode": {
    "name": "ipython",
    "version": 3
   },
   "file_extension": ".py",
   "mimetype": "text/x-python",
   "name": "python",
   "nbconvert_exporter": "python",
   "pygments_lexer": "ipython3",
   "version": "3.10.7"
  }
 },
 "nbformat": 4,
 "nbformat_minor": 5
}
